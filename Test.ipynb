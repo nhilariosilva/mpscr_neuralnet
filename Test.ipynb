{
 "cells": [
  {
   "cell_type": "code",
   "execution_count": 1,
   "id": "83f4eaa6-a6b8-4b2c-98b9-db8b51ed5351",
   "metadata": {},
   "outputs": [
    {
     "name": "stderr",
     "output_type": "stream",
     "text": [
      "WARNING: All log messages before absl::InitializeLog() is called are written to STDERR\n",
      "E0000 00:00:1742154902.729112  269277 cuda_dnn.cc:8310] Unable to register cuDNN factory: Attempting to register factory for plugin cuDNN when one has already been registered\n",
      "E0000 00:00:1742154902.732573  269277 cuda_blas.cc:1418] Unable to register cuBLAS factory: Attempting to register factory for plugin cuBLAS when one has already been registered\n",
      "I0000 00:00:1742154905.289607  269277 gpu_device.cc:2022] Created device /job:localhost/replica:0/task:0/device:GPU:0 with 1952 MB memory:  -> device: 0, name: NVIDIA GeForce RTX 3050 6GB Laptop GPU, pci bus id: 0000:01:00.0, compute capability: 8.6\n",
      "/home/natan/.pyenv/versions/3.10.16/lib/python3.10/site-packages/tqdm/auto.py:21: TqdmWarning: IProgress not found. Please update jupyter and ipywidgets. See https://ipywidgets.readthedocs.io/en/stable/user_install.html\n",
      "  from .autonotebook import tqdm as notebook_tqdm\n"
     ]
    }
   ],
   "source": [
    "import numpy as np\n",
    "import pandas as pd\n",
    "from matplotlib import pyplot as plt\n",
    "import random\n",
    "\n",
    "from time import time\n",
    "\n",
    "from scipy.special import comb, loggamma, lambertw\n",
    "from scipy.stats import multinomial, expon\n",
    "\n",
    "from silence_tensorflow import silence_tensorflow\n",
    "silence_tensorflow()\n",
    "import tensorflow as tf\n",
    "import tensorflow_probability as tfp\n",
    "\n",
    "config = tf.compat.v1.ConfigProto()\n",
    "config.gpu_options.allow_growth = True\n",
    "sess = tf.compat.v1.Session(config = config)\n",
    "\n",
    "import os, shutil\n",
    "import json\n",
    "import subprocess\n",
    "\n",
    "from net_model import *\n",
    "from custom_model import *\n",
    "from mps_models import *\n",
    "\n",
    "import mps\n",
    "import pwexp"
   ]
  },
  {
   "cell_type": "code",
   "execution_count": 20,
   "id": "d1b30804-59e5-4fb9-9bbf-0b199826278e",
   "metadata": {},
   "outputs": [
    {
     "data": {
      "text/plain": [
       "np.float64(0.18376108259449367)"
      ]
     },
     "execution_count": 20,
     "metadata": {},
     "output_type": "execute_result"
    }
   ],
   "source": [
    "censor_rates = []\n",
    "for j in range(1, 101):\n",
    "    df = pd.read_csv(\"SimulationDataset2/Scenario2/n3000/borel/data_{}.csv\".format(j))\n",
    "    censor_rates.append( np.mean(df.delta) )\n",
    "np.mean(censor_rates)"
   ]
  },
  {
   "cell_type": "code",
   "execution_count": 2,
   "id": "d802d34a-2997-4bdb-b330-ef6e8291b2cb",
   "metadata": {},
   "outputs": [],
   "source": [
    "fashion_mnist = tf.keras.datasets.fashion_mnist\n",
    "(train_images, train_labels), (test_images, test_labels) = fashion_mnist.load_data()\n",
    "\n",
    "i_valid_train = pd.Series(train_labels).isin([0,1,2,3,4]).to_numpy()\n",
    "i_valid_test = pd.Series(test_labels).isin([0,1,2,3,4]).to_numpy()\n",
    "\n",
    "# Filters to take only the images with labels in [0, 1, 2, 3, 4]\n",
    "train_images = train_images[i_valid_train]\n",
    "train_images = train_images / np.max(train_images)\n",
    "train_shape = train_images.shape\n",
    "# Adds one more dimension for keras to identify the \"colors\" dimension\n",
    "train_images = np.reshape(train_images, (train_shape[0], train_shape[1], train_shape[2], 1))\n",
    "\n",
    "test_images = test_images[i_valid_test]\n",
    "test_images = test_images / np.max(test_images)\n",
    "test_shape = test_images.shape\n",
    "# Adds one more dimension for keras to identify the \"colors\" dimension\n",
    "test_images = np.reshape(test_images, (test_shape[0], test_shape[1], test_shape[2], 1))\n",
    "\n",
    "train_labels = train_labels[i_valid_train]\n",
    "test_labels = test_labels[i_valid_test]"
   ]
  },
  {
   "cell_type": "code",
   "execution_count": 3,
   "id": "4124164d-46aa-488d-be95-0e3fbfe5e734",
   "metadata": {},
   "outputs": [],
   "source": [
    "def load_file(data_dir, file_index, distribution, train_images, test_images):\n",
    "    '''\n",
    "        Example:\n",
    "            data_dir = \"SimulationDataset/Scenario1/n500\"\n",
    "            file_index = 20\n",
    "            distribution = \"poisson\"\n",
    "    '''\n",
    "    index_path = \"{}/indices_{}.csv\".format(data_dir, file_index, distribution)\n",
    "    data_path = \"{}/{}/data_{}.csv\".format(data_dir, distribution, file_index)\n",
    "    df_index = pd.read_csv(index_path)\n",
    "    df_data = pd.read_csv(data_path)\n",
    "\n",
    "    index_train = df_index.loc[df_index.set == \"train\",\"index\"].to_numpy()\n",
    "    index_val = df_index.loc[df_index.set == \"val\",\"index\"].to_numpy()\n",
    "    index_test = df_index.loc[df_index.set == \"test\",\"index\"].to_numpy()\n",
    "\n",
    "    # Values for the thetas\n",
    "    theta_train = df_data.loc[df_data.set == \"train\", \"theta\"]\n",
    "    theta_val = df_data.loc[df_data.set == \"val\", \"theta\"]\n",
    "    theta_test = df_data.loc[df_data.set == \"test\", \"theta\"]\n",
    "    # Values for the latent variable\n",
    "    m_train = df_data.loc[df_data.set == \"train\", \"m\"]\n",
    "    m_val = df_data.loc[df_data.set == \"val\", \"m\"]\n",
    "    m_test = df_data.loc[df_data.set == \"test\", \"m\"]\n",
    "    # Values for the time variable\n",
    "    t_train = df_data.loc[df_data.set == \"train\", \"t\"]\n",
    "    t_val = df_data.loc[df_data.set == \"val\", \"t\"]\n",
    "    t_test = df_data.loc[df_data.set == \"test\", \"t\"]\n",
    "    # Values for the censorship indicators\n",
    "    delta_train = df_data.loc[df_data.set == \"train\", \"delta\"]\n",
    "    delta_val = df_data.loc[df_data.set == \"val\", \"delta\"]\n",
    "    delta_test = df_data.loc[df_data.set == \"test\", \"delta\"]\n",
    "\n",
    "    img_train = train_images[index_train,:,:]\n",
    "    img_val = train_images[index_val,:,:]\n",
    "    img_test = test_images[index_test,:,:]\n",
    "\n",
    "    result = {\n",
    "        \"theta_train\": theta_train, \"theta_val\": theta_val, \"theta_test\": theta_test,\n",
    "        \"m_train\": m_train, \"m_val\": m_val, \"m_test\": m_test,\n",
    "        \"t_train\": t_train, \"t_val\": t_val, \"t_test\": t_test,\n",
    "        \"delta_train\": delta_train, \"delta_val\": delta_val, \"delta_test\": delta_test,\n",
    "        \"img_train\": img_train, \"img_val\": img_val, \"img_test\": img_test,\n",
    "        \"index_train\": index_train, \"index_val\": index_val, \"index_test\": index_test\n",
    "    }\n",
    "    \n",
    "    return result"
   ]
  },
  {
   "cell_type": "code",
   "execution_count": 4,
   "id": "cd571b87-23b6-4036-a6ca-c7d810350b9f",
   "metadata": {},
   "outputs": [],
   "source": [
    "def select_model(distribution, q):\n",
    "    if(distribution == \"poisson\"):      \n",
    "        log_a_str = log_a_poisson_str\n",
    "        log_phi_str = log_phi_poisson_str\n",
    "        C_str = C_poisson_str\n",
    "        C_inv_str = C_inv_poisson_str\n",
    "        sup_str = sup_poisson_str\n",
    "        theta_min = None\n",
    "        theta_max = None\n",
    "    elif(distribution == \"logarithmic\"):\n",
    "        log_a_str = log_a_log_str\n",
    "        log_phi_str = log_phi_log_str\n",
    "        C_str = C_log_str\n",
    "        C_inv_str = C_inv_log_str\n",
    "        sup_str = sup_log_str\n",
    "        theta_min = 0\n",
    "        theta_max = 1\n",
    "    elif(distribution == \"nb\" or distribution == \"mvnb\"):\n",
    "        if(q is None):\n",
    "            raise Exception(\"Please, specify the fixed parameter (q) for the distribution.\")\n",
    "        # In the EM.py file, we must ensure that q is of type tf.float64 for it to work properly\n",
    "        q_argument = \"tf.constant({}, dtype = tf.float64)\".format(q)\n",
    "        log_a_str = log_a_mvnb_str.format(q_argument)\n",
    "        log_phi_str = log_phi_mvnb_str.format(q_argument)\n",
    "        C_str = C_mvnb_str.format(q_argument)\n",
    "        C_inv_str = C_inv_mvnb_str.format(q_argument)\n",
    "        sup_str = sup_mvnb_str.format(q_argument)\n",
    "        theta_min = None\n",
    "        theta_max = None\n",
    "    elif(distribution == \"geometric\"):\n",
    "        # In the EM.py file, we must ensure that q is of type tf.float64 for it to work properly\n",
    "        q_argument = \"tf.constant(1, dtype = tf.float64)\"\n",
    "        log_a_str = log_a_mvnb_str.format(q_argument)\n",
    "        log_phi_str = log_phi_mvnb_str.format(q_argument)\n",
    "        C_str = C_mvnb_str.format(q_argument)\n",
    "        C_inv_str = C_inv_mvnb_str.format(q_argument)\n",
    "        sup_str = sup_mvnb_str.format(q_argument)\n",
    "        theta_min = None\n",
    "        theta_max = None\n",
    "    elif(distribution == \"binomial\"): \n",
    "        if(q is None):\n",
    "            raise Exception(\"Please, specify the fixed parameter (q) for the distribution.\")\n",
    "        # In the EM.py file, we must ensure that q is of type tf.float64 for it to work properly\n",
    "        q_argument = \"tf.constant({}, dtype = tf.float64)\".format(q)\n",
    "        log_a_str = log_a_bin_str.format(q_argument)\n",
    "        log_phi_str = log_phi_bin_str.format(q_argument)\n",
    "        C_str = C_bin_str.format(q_argument)\n",
    "        C_inv_str = C_inv_bin_str.format(q_argument)\n",
    "        sup_str = sup_bin_str.format(q_argument)\n",
    "        theta_min = 0\n",
    "        theta_max = 1\n",
    "    elif(distribution == \"bernoulli\"):\n",
    "        # In the EM.py file, we must ensure that q is of type tf.float64 for it to work properly\n",
    "        q_argument = \"tf.constant(1, dtype = tf.float64)\"\n",
    "        log_a_str = log_a_bin_str.format(q_argument)\n",
    "        log_phi_str = log_phi_bin_str.format(q_argument)\n",
    "        C_str = C_bin_str.format(q_argument)\n",
    "        C_inv_str = C_inv_bin_str.format(q_argument)\n",
    "        sup_str = sup_bin_str.format(q_argument)\n",
    "        theta_min = 0\n",
    "        theta_max = 1\n",
    "    elif(distribution == \"rgp\"):\n",
    "        if(q is None):\n",
    "            raise Exception(\"Please, specify the fixed parameter (q) for the distribution.\")\n",
    "        # In the EM.py file, we must ensure that q is of type tf.float64 for it to work properly\n",
    "        q_argument = \"tf.constant({}, dtype = tf.float64)\".format(q)\n",
    "        log_a_str = log_a_rgp_str.format(q_argument)\n",
    "        log_phi_str = log_phi_rgp_str.format(q_argument)\n",
    "        C_str = C_rgp_str.format(q_argument)\n",
    "        C_inv_str = C_inv_rgp_str.format(q_argument)\n",
    "        sup_str = sup_rgp_str.format(q_argument)\n",
    "        theta_min = 0\n",
    "        theta_max = np.abs(1/q)\n",
    "    elif(distribution == \"borel\"):\n",
    "        # In the EM.py file, we must ensure that q is of type tf.float64 for it to work properly\n",
    "        q_argument = \"tf.constant(1, dtype = tf.float64)\"\n",
    "        log_a_str = log_a_rgp_str.format(q_argument)\n",
    "        log_phi_str = log_phi_rgp_str.format(q_argument)\n",
    "        C_str = C_rgp_str.format(q_argument)\n",
    "        C_inv_str = C_inv_rgp_str.format(q_argument)\n",
    "        sup_str = sup_rgp_str.format(q_argument)\n",
    "        theta_min = 0\n",
    "        theta_max = 1\n",
    "    elif(distribution == \"geeta\"):\n",
    "        if(q is None):\n",
    "            raise Exception(\"Please, specify the fixed parameter (q) for the distribution.\")\n",
    "        # In the EM.py file, we must ensure that q is of type tf.float64 for it to work properly\n",
    "        q_argument = \"tf.constant({}, dtype = tf.float64)\".format(q)\n",
    "        log_a_str = log_a_geeta_str.format(q_argument)\n",
    "        log_phi_str = log_phi_geeta_str.format(q_argument)\n",
    "        C_str = C_geeta_str.format(q_argument)\n",
    "        C_inv_str = C_inv_geeta_str.format(q_argument)\n",
    "        sup_str = sup_geeta_str.format(q_argument)\n",
    "        theta_min = 0\n",
    "        theta_max = np.abs(1/q)\n",
    "    elif(distribution == \"haight\"):\n",
    "        # In the EM.py file, we must ensure that q is of type tf.float64 for it to work properly\n",
    "        q_argument = \"tf.constant(2, dtype = tf.float64)\"\n",
    "        log_a_str = log_a_geeta_str.format(q_argument)\n",
    "        log_phi_str = log_phi_geeta_str.format(q_argument)\n",
    "        C_str = C_geeta_str.format(q_argument)\n",
    "        C_inv_str = C_inv_geeta_str.format(q_argument)\n",
    "        sup_str = sup_geeta_str.format(q_argument)\n",
    "        theta_min = 0\n",
    "        theta_max = 1/2\n",
    "\n",
    "    return log_a_str, log_phi_str, C_str, C_inv_str, sup_str, theta_min, theta_max\n",
    "\n",
    "def fit_cure_model(distribution, q,\n",
    "                   t_train, t_val,\n",
    "                   delta_train, delta_val,\n",
    "                   img_train, img_val,\n",
    "                   max_iterations = 100,\n",
    "                   early_stopping_em = True, early_stopping_em_warmup = 5, early_stopping_em_eps = 1.0e-6,\n",
    "                   epochs = 100, batch_size = None, shuffle = True,\n",
    "                   learning_rate = 0.001, run_eagerly = False,\n",
    "                   early_stopping_nn = True, early_stopping_min_delta_nn = 0.0, early_stopping_patience_nn = 5,\n",
    "                   reduce_lr = True, reduce_lr_steps = 10, reduce_lr_factor = 0.1,\n",
    "                   verbose = 1, seed = 1):\n",
    "    alpha0, s_t = initialize_alpha_s(t_train, delta_train, n_cuts = 5)\n",
    "\n",
    "    # Select the MPS functions based on the chosen distribution\n",
    "    log_a_str, log_phi_str, C_str, C_inv_str, sup_str, theta_min, theta_max = select_model(distribution, q)\n",
    "\n",
    "    set_all_seeds(seed)\n",
    "    # Because it only serves to initialize the model weights, the distribution does not matter in this case (that's why we use the Poisson here)\n",
    "    dummy_mps_model = MPScrModel(log_a_poisson_tf, log_phi_poisson_tf, C_poisson_tf, C_inv_poisson_tf, sup_poisson)\n",
    "    dummy_mps_model.define_structure(shape_input = img_train[0].shape, seed = seed)\n",
    "\n",
    "    # If batch_size is null, use just one big batch\n",
    "    if(batch_size is None):\n",
    "        batch_size = len(t_train)\n",
    "    \n",
    "    results = call_EM(\"EM.py\",\n",
    "                      log_a_str, log_phi_str, C_str, C_inv_str, sup_str, theta_min, theta_max,\n",
    "                      dummy_mps_model, alpha0, s_t,\n",
    "                      img_train, t_train, delta_train, delta_train,\n",
    "                      max_iterations = max_iterations,\n",
    "                      early_stopping_em = early_stopping_em, early_stopping_em_warmup = early_stopping_em_warmup, early_stopping_em_eps = early_stopping_em_eps,\n",
    "                      epochs = epochs, batch_size = batch_size, shuffle = shuffle,\n",
    "                      learning_rate = learning_rate, run_eagerly = run_eagerly,\n",
    "                      early_stopping_nn = early_stopping_nn, early_stopping_min_delta_nn = early_stopping_min_delta_nn, early_stopping_patience_nn = early_stopping_patience_nn,\n",
    "                      reduce_lr = reduce_lr, reduce_lr_steps = reduce_lr_steps, reduce_lr_factor = reduce_lr_factor,\n",
    "                      validation = True,\n",
    "                      x_val = img_val, t_val = t_val, delta_val = delta_val, m_val = delta_val,\n",
    "                      verbose = verbose, seed = seed, alpha_known = False)\n",
    "    return results"
   ]
  },
  {
   "cell_type": "code",
   "execution_count": 5,
   "id": "2244e0ce-bf31-486c-879a-44e5d8e95b7c",
   "metadata": {},
   "outputs": [],
   "source": [
    "def select_model(distribution, q):\n",
    "    if(distribution == \"poisson\"):      \n",
    "        log_a_str = log_a_poisson_str\n",
    "        log_phi_str = log_phi_poisson_str\n",
    "        C_str = C_poisson_str\n",
    "        C_inv_str = C_inv_poisson_str\n",
    "        sup_str = sup_poisson_str\n",
    "        theta_min = None\n",
    "        theta_max = None\n",
    "    elif(distribution == \"logarithmic\"):\n",
    "        log_a_str = log_a_log_str\n",
    "        log_phi_str = log_phi_log_str\n",
    "        C_str = C_log_str\n",
    "        C_inv_str = C_inv_log_str\n",
    "        sup_str = sup_log_str\n",
    "        theta_min = 0\n",
    "        theta_max = 1\n",
    "    elif(distribution == \"nb\" or distribution == \"mvnb\"):\n",
    "        if(q is None):\n",
    "            raise Exception(\"Please, specify the fixed parameter (q) for the distribution.\")\n",
    "        # In the EM.py file, we must ensure that q is of type tf.float64 for it to work properly\n",
    "        q_argument = \"tf.constant({}, dtype = tf.float64)\".format(q)\n",
    "        log_a_str = log_a_mvnb_str.format(q_argument)\n",
    "        log_phi_str = log_phi_mvnb_str.format(q_argument)\n",
    "        C_str = C_mvnb_str.format(q_argument)\n",
    "        C_inv_str = C_inv_mvnb_str.format(q_argument)\n",
    "        sup_str = sup_mvnb_str.format(q_argument)\n",
    "        theta_min = None\n",
    "        theta_max = None\n",
    "    elif(distribution == \"geometric\"):\n",
    "        # In the EM.py file, we must ensure that q is of type tf.float64 for it to work properly\n",
    "        q_argument = \"tf.constant(1, dtype = tf.float64)\"\n",
    "        log_a_str = log_a_mvnb_str.format(q_argument)\n",
    "        log_phi_str = log_phi_mvnb_str.format(q_argument)\n",
    "        C_str = C_mvnb_str.format(q_argument)\n",
    "        C_inv_str = C_inv_mvnb_str.format(q_argument)\n",
    "        sup_str = sup_mvnb_str.format(q_argument)\n",
    "        theta_min = None\n",
    "        theta_max = None\n",
    "    elif(distribution == \"binomial\"): \n",
    "        if(q is None):\n",
    "            raise Exception(\"Please, specify the fixed parameter (q) for the distribution.\")\n",
    "        # In the EM.py file, we must ensure that q is of type tf.float64 for it to work properly\n",
    "        q_argument = \"tf.constant({}, dtype = tf.float64)\".format(q)\n",
    "        log_a_str = log_a_bin_str.format(q_argument)\n",
    "        log_phi_str = log_phi_bin_str.format(q_argument)\n",
    "        C_str = C_bin_str.format(q_argument)\n",
    "        C_inv_str = C_inv_bin_str.format(q_argument)\n",
    "        sup_str = sup_bin_str.format(q_argument)\n",
    "        theta_min = 0\n",
    "        theta_max = 1\n",
    "    elif(distribution == \"bernoulli\"):\n",
    "        # In the EM.py file, we must ensure that q is of type tf.float64 for it to work properly\n",
    "        q_argument = \"tf.constant(1, dtype = tf.float64)\"\n",
    "        log_a_str = log_a_bin_str.format(q_argument)\n",
    "        log_phi_str = log_phi_bin_str.format(q_argument)\n",
    "        C_str = C_bin_str.format(q_argument)\n",
    "        C_inv_str = C_inv_bin_str.format(q_argument)\n",
    "        sup_str = sup_bin_str.format(q_argument)\n",
    "        theta_min = 0\n",
    "        theta_max = 1\n",
    "    elif(distribution == \"rgp\"):\n",
    "        if(q is None):\n",
    "            raise Exception(\"Please, specify the fixed parameter (q) for the distribution.\")\n",
    "        # In the EM.py file, we must ensure that q is of type tf.float64 for it to work properly\n",
    "        q_argument = \"tf.constant({}, dtype = tf.float64)\".format(q)\n",
    "        log_a_str = log_a_rgp_str.format(q_argument)\n",
    "        log_phi_str = log_phi_rgp_str.format(q_argument)\n",
    "        C_str = C_rgp_str.format(q_argument)\n",
    "        C_inv_str = C_inv_rgp_str.format(q_argument)\n",
    "        sup_str = sup_rgp_str.format(q_argument)\n",
    "        theta_min = 0\n",
    "        theta_max = np.abs(1/q)\n",
    "    elif(distribution == \"borel\"):\n",
    "        # In the EM.py file, we must ensure that q is of type tf.float64 for it to work properly\n",
    "        q_argument = \"tf.constant(1, dtype = tf.float64)\"\n",
    "        log_a_str = log_a_rgp_str.format(q_argument)\n",
    "        log_phi_str = log_phi_rgp_str.format(q_argument)\n",
    "        C_str = C_rgp_str.format(q_argument)\n",
    "        C_inv_str = C_inv_rgp_str.format(q_argument)\n",
    "        sup_str = sup_rgp_str.format(q_argument)\n",
    "        theta_min = 0\n",
    "        theta_max = 1\n",
    "    elif(distribution == \"geeta\"):\n",
    "        if(q is None):\n",
    "            raise Exception(\"Please, specify the fixed parameter (q) for the distribution.\")\n",
    "        # In the EM.py file, we must ensure that q is of type tf.float64 for it to work properly\n",
    "        q_argument = \"tf.constant({}, dtype = tf.float64)\".format(q)\n",
    "        log_a_str = log_a_geeta_str.format(q_argument)\n",
    "        log_phi_str = log_phi_geeta_str.format(q_argument)\n",
    "        C_str = C_geeta_str.format(q_argument)\n",
    "        C_inv_str = C_inv_geeta_str.format(q_argument)\n",
    "        sup_str = sup_geeta_str.format(q_argument)\n",
    "        theta_min = 0\n",
    "        theta_max = np.abs(1/q)\n",
    "    elif(distribution == \"haight\"):\n",
    "        # In the EM.py file, we must ensure that q is of type tf.float64 for it to work properly\n",
    "        q_argument = \"tf.constant(2, dtype = tf.float64)\"\n",
    "        log_a_str = log_a_geeta_str.format(q_argument)\n",
    "        log_phi_str = log_phi_geeta_str.format(q_argument)\n",
    "        C_str = C_geeta_str.format(q_argument)\n",
    "        C_inv_str = C_inv_geeta_str.format(q_argument)\n",
    "        sup_str = sup_geeta_str.format(q_argument)\n",
    "        theta_min = 0\n",
    "        theta_max = 1/2\n",
    "\n",
    "    return log_a_str, log_phi_str, C_str, C_inv_str, sup_str, theta_min, theta_max\n",
    "\n",
    "def fit_cure_model(distribution, q,\n",
    "                   t_train, t_val,\n",
    "                   delta_train, delta_val,\n",
    "                   img_train, img_val,\n",
    "                   max_iterations = 100,\n",
    "                   early_stopping_em = True, early_stopping_em_warmup = 5, early_stopping_em_eps = 1.0e-6,\n",
    "                   epochs = 100, batch_size = None, shuffle = True,\n",
    "                   learning_rate = 0.001, run_eagerly = False,\n",
    "                   early_stopping_nn = True, early_stopping_min_delta_nn = 0.0, early_stopping_patience_nn = 5,\n",
    "                   reduce_lr = True, reduce_lr_steps = 10, reduce_lr_factor = 0.1,\n",
    "                   verbose = 1, seed = 1):\n",
    "    alpha0, s_t = initialize_alpha_s(t_train, delta_train, n_cuts = 5)\n",
    "\n",
    "    # Select the MPS functions based on the chosen distribution\n",
    "    log_a_str, log_phi_str, C_str, C_inv_str, sup_str, theta_min, theta_max = select_model(distribution, q)\n",
    "\n",
    "    set_all_seeds(seed)\n",
    "    # Because it only serves to initialize the model weights, the distribution does not matter in this case (that's why we use the Poisson here)\n",
    "    dummy_mps_model = MPScrModel(log_a_poisson_tf, log_phi_poisson_tf, C_poisson_tf, C_inv_poisson_tf, sup_poisson)\n",
    "    dummy_mps_model.define_structure(shape_input = img_train[0].shape, seed = seed)\n",
    "\n",
    "    # If batch_size is null, use just one big batch\n",
    "    if(batch_size is None):\n",
    "        batch_size = len(t_train)\n",
    "    \n",
    "    results = call_EM(\"EM.py\",\n",
    "                      log_a_str, log_phi_str, C_str, C_inv_str, sup_str, theta_min, theta_max,\n",
    "                      dummy_mps_model, alpha0, s_t,\n",
    "                      img_train, t_train, delta_train, delta_train,\n",
    "                      max_iterations = max_iterations,\n",
    "                      early_stopping_em = early_stopping_em, early_stopping_em_warmup = early_stopping_em_warmup, early_stopping_em_eps = early_stopping_em_eps,\n",
    "                      epochs = epochs, batch_size = batch_size, shuffle = shuffle,\n",
    "                      learning_rate = learning_rate, run_eagerly = run_eagerly,\n",
    "                      early_stopping_nn = early_stopping_nn, early_stopping_min_delta_nn = early_stopping_min_delta_nn, early_stopping_patience_nn = early_stopping_patience_nn,\n",
    "                      reduce_lr = reduce_lr, reduce_lr_steps = reduce_lr_steps, reduce_lr_factor = reduce_lr_factor,\n",
    "                      validation = True,\n",
    "                      x_val = img_val, t_val = t_val, delta_val = delta_val, m_val = delta_val,\n",
    "                      verbose = verbose, seed = seed, alpha_known = False)\n",
    "    return results"
   ]
  },
  {
   "cell_type": "code",
   "execution_count": 6,
   "id": "595d3164-94d9-4ab0-bd3e-7794ebb21961",
   "metadata": {},
   "outputs": [],
   "source": [
    "def plot_S1(results, n, scenario, distribution, end_index = 101, ci = True, ax = None, title = \"\"):\n",
    "    if(ax is None):\n",
    "        fig, ax = plt.subplots(figsize = (12, 6))\n",
    "\n",
    "    interest_indices = []\n",
    "    for i in range(1, end_index):\n",
    "        data = pd.read_csv(\"SimulationResults{}/Scenario{}/n{}/{}/{}/alpha_s.csv\".format(results, scenario, n, distribution, i))\n",
    "        \n",
    "        if(i == 1):\n",
    "            s_t = data.s.to_numpy()\n",
    "            tv = np.arange(0, s_t[-1], 0.01)\n",
    "\n",
    "            alpha = data.alpha.to_numpy()\n",
    "            S1i = S1(tv, alpha, s_t)\n",
    "            S1_mean = S1i.copy()\n",
    "    \n",
    "            # Initialize the table with all estimated survival curves\n",
    "            S1i_table = np.zeros((end_index-1, len(S1_mean)))\n",
    "            S1i_table[0,:] = S1_mean\n",
    "            \n",
    "            alpha_xie = np.array([1, 1, 1, 1, 1, 1])\n",
    "            S1v_xie = S1(tv, alpha_xie, s_t)\n",
    "        else:\n",
    "            alpha = data.alpha.to_numpy()\n",
    "            S1i = S1(tv, alpha, s_t)\n",
    "            \n",
    "            S1i_table[i-1,:] = S1i\n",
    "            if( not np.isnan(S1i).any() ):\n",
    "                S1_mean += S1i\n",
    "\n",
    "        # if(np.any(S1i[ np.abs(tv - 1) < 0.1 ] < 0.25)):\n",
    "        #     print(alpha)\n",
    "        #     file_info = load_file(\"SimulationDataset{}/Scenario{}/n{}/\".format(results, scenario, n), i, \"logarithmic\", train_images, test_images)\n",
    "        #     S1i = S1(tv, alpha, s_t)\n",
    "        #     ax.plot(tv, S1i, color = \"black\", alpha = 0.1)\n",
    "        #     interest_indices.append(i)\n",
    "        ax.plot(tv, S1i, color = \"black\", alpha = 0.1)\n",
    "\n",
    "            \n",
    "    # Get the indices for which the simulation did not converge\n",
    "    nan_indices = np.unique( np.where( np.isnan(S1i_table) )[0] )\n",
    "    if(len(nan_indices) > 0):\n",
    "        print(\"n = {} - {}: Simulações {} não obtiveram convergência!\".format(n, distribution, nan_indices))\n",
    "    # Remove the nan observations from the table\n",
    "    S1i_table = np.delete(S1i_table, nan_indices, axis = 0)\n",
    "\n",
    "    S1q95 = np.quantile(S1i_table, 0.95, axis = 0)\n",
    "    S1q05 = np.quantile(S1i_table, 0.05, axis = 0)\n",
    "    S1q50 = np.quantile(S1i_table, 0.50, axis = 0)\n",
    "    S1_mean = S1_mean / S1i_table.shape[0]\n",
    "    \n",
    "    ax.plot(tv, S1v_xie, color = \"blue\", linewidth = 2)\n",
    "    # ax.plot(tv, np.exp(-tv), color = \"black\", linewidth = 2)\n",
    "    \n",
    "    if(ci):\n",
    "        ax.plot(tv, S1q95, color = \"red\", linestyle = \"dashed\")\n",
    "        ax.plot(tv, S1q05, color = \"red\", linestyle = \"dashed\")\n",
    "        # ax.plot(tv, S1_mean, color = \"red\", linewidth = 2)\n",
    "        ax.plot(tv, S1q50, color = \"red\", linewidth = 2)\n",
    "\n",
    "    ax.set_title(title)"
   ]
  },
  {
   "cell_type": "code",
   "execution_count": 14,
   "id": "282c52a6-0e7c-4fdb-898e-f0ad7848872f",
   "metadata": {},
   "outputs": [
    {
     "data": {
      "image/png": "[encoded data removed]",
      "text/plain": [
       "<Figure size 1200x600 with 1 Axes>"
      ]
     },
     "metadata": {},
     "output_type": "display_data"
    }
   ],
   "source": [
    "plot_S1(\"2\", 1000, 1, \"logarithmic\", end_index = 19, ci = True)"
   ]
  },
  {
   "cell_type": "code",
   "execution_count": 7,
   "id": "fa1df840-eba6-46ad-9c02-4a506e38ae77",
   "metadata": {},
   "outputs": [
    {
     "name": "stderr",
     "output_type": "stream",
     "text": [
      "I0000 00:00:1741527763.801392   83916 gpu_device.cc:2022] Created device /job:localhost/replica:0/task:0/device:GPU:0 with 4102 MB memory:  -> device: 0, name: NVIDIA GeForce RTX 3050 6GB Laptop GPU, pci bus id: 0000:01:00.0, compute capability: 8.6\n",
      "WARNING: All log messages before absl::InitializeLog() is called are written to STDERR\n",
      "E0000 00:00:1741527765.000529   84034 cuda_dnn.cc:8310] Unable to register cuDNN factory: Attempting to register factory for plugin cuDNN when one has already been registered\n",
      "E0000 00:00:1741527765.006079   84034 cuda_blas.cc:1418] Unable to register cuBLAS factory: Attempting to register factory for plugin cuBLAS when one has already been registered\n",
      "I0000 00:00:1741527767.343000   84034 gpu_device.cc:2022] Created device /job:localhost/replica:0/task:0/device:GPU:0 with 4000 MB memory:  -> device: 0, name: NVIDIA GeForce RTX 3050 6GB Laptop GPU, pci bus id: 0000:01:00.0, compute capability: 8.6\n",
      "I0000 00:00:1741527767.384188   84034 gpu_device.cc:2022] Created device /job:localhost/replica:0/task:0/device:GPU:0 with 4000 MB memory:  -> device: 0, name: NVIDIA GeForce RTX 3050 6GB Laptop GPU, pci bus id: 0000:01:00.0, compute capability: 8.6\n",
      "  0%|          | 0/100 [00:00<?, ?epoch/s]"
     ]
    },
    {
     "name": "stdout",
     "output_type": "stream",
     "text": [
      "******* Warning: The cure probability for this model lies between 0.500000 and 1.000000 *******\n",
      "Iniciando passo 1\n"
     ]
    },
    {
     "name": "stderr",
     "output_type": "stream",
     "text": [
      "I0000 00:00:1741527769.685078   84099 cuda_dnn.cc:529] Loaded cuDNN version 90300\n",
      " 13%|█▎        | 13/100 [00:04<00:30,  2.87epoch/s, loss=0.563, loss_val=0.542]\n"
     ]
    },
    {
     "name": "stdout",
     "output_type": "stream",
     "text": [
      "Iniciando treinamento:\n",
      "Tamanho da amostra de treino: 3000\n",
      "Tamanho da amostra de validação: 643\n",
      "Distância Parâmetros Rede Neural: 8.289699898709182e-06\n",
      "Distância Parâmetros Alpha: 1.8548897227035328\n",
      "Média das distâncias: 0.9274490062017158\n",
      "Iniciando passo 2\n"
     ]
    },
    {
     "name": "stderr",
     "output_type": "stream",
     "text": [
      " 21%|██        | 21/100 [00:03<00:13,  5.83epoch/s, loss=0.619, loss_val=0.593]\n"
     ]
    },
    {
     "name": "stdout",
     "output_type": "stream",
     "text": [
      "Iniciando treinamento:\n",
      "Tamanho da amostra de treino: 3000\n",
      "Tamanho da amostra de validação: 643\n",
      "Distância Parâmetros Rede Neural: 2.8115396740510107e-06\n",
      "Distância Parâmetros Alpha: 0.08232907550311447\n",
      "Média das distâncias: 0.04116594352139426\n",
      "Iniciando passo 3\n"
     ]
    },
    {
     "name": "stderr",
     "output_type": "stream",
     "text": [
      " 11%|█         | 11/100 [00:02<00:17,  5.16epoch/s, loss=0.716, loss_val=0.685]\n"
     ]
    },
    {
     "name": "stdout",
     "output_type": "stream",
     "text": [
      "Iniciando treinamento:\n",
      "Tamanho da amostra de treino: 3000\n",
      "Tamanho da amostra de validação: 643\n",
      "Distância Parâmetros Rede Neural: 2.8001282786046357e-07\n",
      "Distância Parâmetros Alpha: 0.06922955887444557\n",
      "Média das distâncias: 0.03461491944363671\n",
      "Iniciando passo 4\n"
     ]
    },
    {
     "name": "stderr",
     "output_type": "stream",
     "text": [
      "  6%|▌         | 6/100 [00:01<00:21,  4.43epoch/s, loss=0.969, loss_val=0.897]\n"
     ]
    },
    {
     "name": "stdout",
     "output_type": "stream",
     "text": [
      "Iniciando treinamento:\n",
      "Tamanho da amostra de treino: 3000\n",
      "Tamanho da amostra de validação: 643\n",
      "Distância Parâmetros Rede Neural: 5.655683565350341e-08\n",
      "Distância Parâmetros Alpha: 0.09671398817955819\n",
      "Média das distâncias: 0.048357022368196924\n",
      "Iniciando passo 5\n"
     ]
    },
    {
     "name": "stderr",
     "output_type": "stream",
     "text": [
      " 73%|███████▎  | 73/100 [00:11<00:04,  6.37epoch/s, loss=0.644, loss_val=0.627]\n"
     ]
    },
    {
     "name": "stdout",
     "output_type": "stream",
     "text": [
      "Iniciando treinamento:\n",
      "Tamanho da amostra de treino: 3000\n",
      "Tamanho da amostra de validação: 643\n",
      "Distância Parâmetros Rede Neural: 1.81456541382522e-05\n",
      "Distância Parâmetros Alpha: 0.1478535634519755\n",
      "Média das distâncias: 0.07393585455305687\n",
      "Iniciando passo 6\n"
     ]
    },
    {
     "name": "stderr",
     "output_type": "stream",
     "text": [
      "  6%|▌         | 6/100 [00:01<00:22,  4.25epoch/s, loss=0.822, loss_val=0.756]\n"
     ]
    },
    {
     "name": "stdout",
     "output_type": "stream",
     "text": [
      "Iniciando treinamento:\n",
      "Tamanho da amostra de treino: 3000\n",
      "Tamanho da amostra de validação: 643\n",
      "Distância Parâmetros Rede Neural: 6.296388379116941e-08\n",
      "Distância Parâmetros Alpha: 0.06771312339876355\n",
      "Média das distâncias: 0.03385659318132367\n",
      "Iniciando passo 7\n"
     ]
    },
    {
     "name": "stderr",
     "output_type": "stream",
     "text": [
      " 19%|█▉        | 19/100 [00:03<00:14,  5.62epoch/s, loss=1.53, loss_val=1.34]\n"
     ]
    },
    {
     "name": "stdout",
     "output_type": "stream",
     "text": [
      "Iniciando treinamento:\n",
      "Tamanho da amostra de treino: 3000\n",
      "Tamanho da amostra de validação: 643\n",
      "Distância Parâmetros Rede Neural: 6.06648325084283e-07\n",
      "Distância Parâmetros Alpha: 0.2272797562915064\n",
      "Média das distâncias: 0.11364018146991574\n",
      "Iniciando passo 8\n"
     ]
    },
    {
     "name": "stderr",
     "output_type": "stream",
     "text": [
      "  6%|▌         | 6/100 [00:01<00:20,  4.52epoch/s, loss=1.41, loss_val=1.25]\n"
     ]
    },
    {
     "name": "stdout",
     "output_type": "stream",
     "text": [
      "Iniciando treinamento:\n",
      "Tamanho da amostra de treino: 3000\n",
      "Tamanho da amostra de validação: 643\n",
      "Distância Parâmetros Rede Neural: 6.495606960031836e-08\n",
      "Distância Parâmetros Alpha: 0.006174769323921228\n",
      "Média das distâncias: 0.003087417139995414\n",
      "Iniciando passo 9\n"
     ]
    },
    {
     "name": "stderr",
     "output_type": "stream",
     "text": [
      " 19%|█▉        | 19/100 [00:03<00:14,  5.75epoch/s, loss=0.829, loss_val=0.765]\n"
     ]
    },
    {
     "name": "stdout",
     "output_type": "stream",
     "text": [
      "Iniciando treinamento:\n",
      "Tamanho da amostra de treino: 3000\n",
      "Tamanho da amostra de validação: 643\n",
      "Distância Parâmetros Rede Neural: 4.210965533047465e-07\n",
      "Distância Parâmetros Alpha: 0.15603674688554253\n",
      "Média das distâncias: 0.07801858399104791\n",
      "Iniciando passo 10\n"
     ]
    },
    {
     "name": "stderr",
     "output_type": "stream",
     "text": [
      " 16%|█▌        | 16/100 [00:03<00:16,  5.22epoch/s, loss=0.876, loss_val=0.812]\n"
     ]
    },
    {
     "name": "stdout",
     "output_type": "stream",
     "text": [
      "Iniciando treinamento:\n",
      "Tamanho da amostra de treino: 3000\n",
      "Tamanho da amostra de validação: 643\n",
      "Distância Parâmetros Rede Neural: 3.6417689955587903e-07\n",
      "Distância Parâmetros Alpha: 0.001827603368791885\n",
      "Média das distâncias: 0.0009139837728457204\n",
      "Learning rate reduzida para 0.0001\n",
      "Iniciando passo 11\n"
     ]
    },
    {
     "name": "stderr",
     "output_type": "stream",
     "text": [
      "  8%|▊         | 8/100 [00:01<00:19,  4.75epoch/s, loss=0.895, loss_val=0.818]\n"
     ]
    },
    {
     "name": "stdout",
     "output_type": "stream",
     "text": [
      "Iniciando treinamento:\n",
      "Tamanho da amostra de treino: 3000\n",
      "Tamanho da amostra de validação: 643\n",
      "Distância Parâmetros Rede Neural: 3.963331326682185e-09\n",
      "Distância Parâmetros Alpha: 0.00030712299107578915\n",
      "Média das distâncias: 0.00015356347720355793\n",
      "Iniciando passo 12\n"
     ]
    },
    {
     "name": "stderr",
     "output_type": "stream",
     "text": [
      "  7%|▋         | 7/100 [00:01<00:20,  4.49epoch/s, loss=0.984, loss_val=0.896]\n"
     ]
    },
    {
     "name": "stdout",
     "output_type": "stream",
     "text": [
      "Iniciando treinamento:\n",
      "Tamanho da amostra de treino: 3000\n",
      "Tamanho da amostra de validação: 643\n",
      "Distância Parâmetros Rede Neural: 2.0149541978275835e-09\n",
      "Distância Parâmetros Alpha: 0.008101156641925816\n",
      "Média das distâncias: 0.004050579328440007\n",
      "Iniciando passo 13\n"
     ]
    },
    {
     "name": "stderr",
     "output_type": "stream",
     "text": [
      "  7%|▋         | 7/100 [00:01<00:20,  4.55epoch/s, loss=1.03, loss_val=0.923]\n"
     ]
    },
    {
     "name": "stdout",
     "output_type": "stream",
     "text": [
      "Iniciando treinamento:\n",
      "Tamanho da amostra de treino: 3000\n",
      "Tamanho da amostra de validação: 643\n",
      "Distância Parâmetros Rede Neural: 1.7195524695460892e-09\n",
      "Distância Parâmetros Alpha: 0.0020333837003613576\n",
      "Média das distâncias: 0.0010166927099569136\n",
      "Iniciando passo 14\n"
     ]
    },
    {
     "name": "stderr",
     "output_type": "stream",
     "text": [
      "  6%|▌         | 6/100 [00:01<00:20,  4.50epoch/s, loss=1.07, loss_val=0.95] \n"
     ]
    },
    {
     "name": "stdout",
     "output_type": "stream",
     "text": [
      "Iniciando treinamento:\n",
      "Tamanho da amostra de treino: 3000\n",
      "Tamanho da amostra de validação: 643\n",
      "Distância Parâmetros Rede Neural: 5.660743104316691e-10\n",
      "Distância Parâmetros Alpha: 0.0013598986177990775\n",
      "Média das distâncias: 0.000679949591936694\n",
      "Iniciando passo 15\n"
     ]
    },
    {
     "name": "stderr",
     "output_type": "stream",
     "text": [
      "  6%|▌         | 6/100 [00:01<00:21,  4.44epoch/s, loss=1.11, loss_val=0.975]\n"
     ]
    },
    {
     "name": "stdout",
     "output_type": "stream",
     "text": [
      "Iniciando treinamento:\n",
      "Tamanho da amostra de treino: 3000\n",
      "Tamanho da amostra de validação: 643\n",
      "Distância Parâmetros Rede Neural: 5.836238448396083e-10\n",
      "Distância Parâmetros Alpha: 0.0008464213241379893\n",
      "Média das distâncias: 0.0004232109538809171\n",
      "Iniciando passo 16\n"
     ]
    },
    {
     "name": "stderr",
     "output_type": "stream",
     "text": [
      "  6%|▌         | 6/100 [00:01<00:21,  4.41epoch/s, loss=1.12, loss_val=0.974]\n"
     ]
    },
    {
     "name": "stdout",
     "output_type": "stream",
     "text": [
      "Iniciando treinamento:\n",
      "Tamanho da amostra de treino: 3000\n",
      "Tamanho da amostra de validação: 643\n",
      "Distância Parâmetros Rede Neural: 5.821425860185819e-10\n",
      "Distância Parâmetros Alpha: 7.16668026786163e-05\n",
      "Média das distâncias: 3.583369241060116e-05\n",
      "Iniciando passo 17\n"
     ]
    },
    {
     "name": "stderr",
     "output_type": "stream",
     "text": [
      "  6%|▌         | 6/100 [00:01<00:22,  4.27epoch/s, loss=1.16, loss_val=1.01]\n"
     ]
    },
    {
     "name": "stdout",
     "output_type": "stream",
     "text": [
      "Iniciando treinamento:\n",
      "Tamanho da amostra de treino: 3000\n",
      "Tamanho da amostra de validação: 643\n",
      "Distância Parâmetros Rede Neural: 5.889613999633685e-10\n",
      "Distância Parâmetros Alpha: 0.000760969776966508\n",
      "Média das distâncias: 0.00038048518296395395\n",
      "Iniciando passo 18\n"
     ]
    },
    {
     "name": "stderr",
     "output_type": "stream",
     "text": [
      "  6%|▌         | 6/100 [00:01<00:21,  4.38epoch/s, loss=1.16, loss_val=0.995]\n"
     ]
    },
    {
     "name": "stdout",
     "output_type": "stream",
     "text": [
      "Iniciando treinamento:\n",
      "Tamanho da amostra de treino: 3000\n",
      "Tamanho da amostra de validação: 643\n",
      "Distância Parâmetros Rede Neural: 5.865188993663666e-10\n",
      "Distância Parâmetros Alpha: 6.459861204448223e-06\n",
      "Média das distâncias: 3.2302238616737944e-06\n",
      "Algoritmo convergiu após 18 iterações. Retornando.\n",
      "Número de arquivos no diretório: 18\n"
     ]
    }
   ],
   "source": [
    "# Load the simulated dataset\n",
    "sim_dataset = load_file(\"SimulationDataset2/Scenario2/n3000\", 1, \"haight\", train_images, test_images)\n",
    "\n",
    "_, s_t = initialize_alpha_s(sim_dataset[\"t_train\"], sim_dataset[\"delta_train\"], n_cuts = 5)\n",
    "\n",
    "# We must be careful with the batch_size! Lowering it may lead to the model converging too early!\n",
    "result = fit_cure_model(\"haight\", None,\n",
    "                        sim_dataset[\"t_train\"], sim_dataset[\"t_val\"],\n",
    "                        sim_dataset[\"delta_train\"], sim_dataset[\"delta_val\"],\n",
    "                        sim_dataset[\"img_train\"], sim_dataset[\"img_val\"],\n",
    "                        batch_size = None, max_iterations = 60, early_stopping_em_eps = 1.0e-5,\n",
    "                        seed = 1, verbose = 3)"
   ]
  }
 ],
 "metadata": {
  "kernelspec": {
   "display_name": "Python 3 (ipykernel)",
   "language": "python",
   "name": "python3"
  },
  "language_info": {
   "codemirror_mode": {
    "name": "ipython",
    "version": 3
   },
   "file_extension": ".py",
   "mimetype": "text/x-python",
   "name": "python",
   "nbconvert_exporter": "python",
   "pygments_lexer": "ipython3",
   "version": "3.10.16"
  }
 },
 "nbformat": 4,
 "nbformat_minor": 5
}

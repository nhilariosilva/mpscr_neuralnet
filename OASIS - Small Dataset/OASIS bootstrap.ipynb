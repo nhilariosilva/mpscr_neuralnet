{
 "cells": [
  {
   "cell_type": "code",
   "execution_count": 1,
   "id": "a46df77f-ce89-4bbd-ac83-99b05f08ae40",
   "metadata": {},
   "outputs": [],
   "source": [
    "import numpy as np\n",
    "import pandas as pd\n",
    "from matplotlib import pyplot as plt\n",
    "import random"
   ]
  },
  {
   "cell_type": "markdown",
   "id": "09f1fdcc-4fd9-4e4e-9a26-15897ec78f8e",
   "metadata": {},
   "source": [
    "# Loading files from the previous Teh (2025) paper"
   ]
  },
  {
   "cell_type": "markdown",
   "id": "e4ba89ca-a6a1-4de7-a395-a56ad516dd66",
   "metadata": {},
   "source": [
    "Here, we merge the train and test data from Teh (2025) into a single data structure. The main reason for that is that for each bootstrap sample, we will be determining the train, validation and test data iteratively. So an observation from the test set in a sample could be in the train of the other one. Since the bootstrap samples are to be fitted independently, that does not correspond to a data leak of any sort."
   ]
  },
  {
   "cell_type": "code",
   "execution_count": 2,
   "id": "d9419f65-60e3-4d20-9835-382cbd02f194",
   "metadata": {},
   "outputs": [
    {
     "name": "stdout",
     "output_type": "stream",
     "text": [
      "Dimensão dos dados de treino: (280, 23)\n",
      "Dimensão dos dados de teste: (72, 23)\n",
      "Dimensão dos dados completos: (352, 23)\n",
      "Dimensão das imagens: (160, 200, 1)\n"
     ]
    }
   ],
   "source": [
    "df_train = pd.read_csv(\"trainSet.csv\")\n",
    "df_train = df_train.iloc[:,1:]\n",
    "\n",
    "df_test = pd.read_csv(\"testSet.csv\")\n",
    "df_test = df_test.iloc[:,1:]\n",
    "\n",
    "df = pd.concat([df_train, df_test])\n",
    "\n",
    "print(\"Dimensão dos dados de treino: {}\".format(df_train.shape))\n",
    "print(\"Dimensão dos dados de teste: {}\".format(df_test.shape))\n",
    "print(\"Dimensão dos dados completos: {}\".format(df.shape))\n",
    "\n",
    "mri = np.load(\"mri.npz\")\n",
    "\n",
    "mriTrain = (mri[\"train_images\"] / np.max(mri[\"train_images\"]))\n",
    "# Remove uma observação do conjunto, que contava com dados de especificação faltantes\n",
    "mriTrain = np.delete(mriTrain, 230, axis=0)\n",
    "\n",
    "mriTest = (mri[\"test_images\"] / np.max(mri[\"test_images\"]))\n",
    "# mriTest = mri[\"test_images\"]\n",
    "\n",
    "image_dim = mriTrain[0].shape\n",
    "print(\"Dimensão das imagens: {}\".format(image_dim))"
   ]
  },
  {
   "cell_type": "code",
   "execution_count": 3,
   "id": "4f695023-c102-4a8d-805a-20ef6381767f",
   "metadata": {},
   "outputs": [],
   "source": [
    "# Merge both train and test sets into a single data structure. The train and test for each bootstrap sampel shall be determined iteratively\n",
    "mriData = np.concatenate([mriTrain, mriTest])\n",
    "np.savez(\"mri_train_test.npz\", images = mriData)\n",
    "df = pd.concat([df_train, df_test]).reset_index(drop = True)\n",
    "df.to_csv(\"train_test_data.csv\")"
   ]
  },
  {
   "cell_type": "markdown",
   "id": "2b78785c-b749-477d-977f-77273a12c9eb",
   "metadata": {},
   "source": [
    "# Generate bootstrap samples"
   ]
  },
  {
   "cell_type": "code",
   "execution_count": 4,
   "id": "e44f3daf-05e3-4f8a-bd3f-7fb20928afd8",
   "metadata": {},
   "outputs": [
    {
     "name": "stdout",
     "output_type": "stream",
     "text": [
      "Dataset size: 352\n",
      "Size for the val and test sets: 52.8\n"
     ]
    }
   ],
   "source": [
    "print(\"Dataset size: {}\".format(df.shape[0]))\n",
    "print(\"Size for the val and test sets: {}\".format(df.shape[0] * 0.15))"
   ]
  },
  {
   "cell_type": "code",
   "execution_count": 5,
   "id": "b5bfd732-ad93-4d82-8afd-016daf88363e",
   "metadata": {},
   "outputs": [],
   "source": [
    "n_train = 246\n",
    "n_val = 53\n",
    "n_test = 53"
   ]
  },
  {
   "cell_type": "code",
   "execution_count": 6,
   "id": "cddb6bf8-9579-40ac-902a-7a2375caefb2",
   "metadata": {},
   "outputs": [],
   "source": [
    "def sample_single_bootstrap(df, n_train, n_val, n_test):\n",
    "    images_indices = np.arange(df.shape[0])\n",
    "    df[\"image_index\"] = images_indices\n",
    "    \n",
    "    # Sample the indices for the validation set\n",
    "    val_indices = np.random.choice( np.arange( df.shape[0] ), size = n_val, replace = True )\n",
    "    df_val = df.iloc[val_indices, :].reset_index(drop = True)\n",
    "    # Remove the validation set indices from the complete dataset\n",
    "    val_indices = np.unique(val_indices)\n",
    "    df = df.iloc[ ~np.isin(np.arange(df.shape[0]), val_indices ), : ].reset_index(drop = True)\n",
    "    \n",
    "    # Sample the indices for the test set\n",
    "    test_indices = np.random.choice( np.arange( df.shape[0] ), size = n_test, replace = True )\n",
    "    df_test = df.iloc[test_indices, :].reset_index(drop = True)\n",
    "    # Remove the test set indices from the complete dataset\n",
    "    test_indices = np.unique(test_indices)\n",
    "    df = df.iloc[ ~np.isin(np.arange(df.shape[0]), test_indices ), : ].reset_index(drop = True)\n",
    "\n",
    "    train_indices = np.random.choice( np.arange( df.shape[0] ), size = n_train, replace = True )\n",
    "    df_train = df.iloc[train_indices, :].reset_index(drop = True)\n",
    "\n",
    "    df_train[\"set\"] = \"train\"\n",
    "    df_val[\"set\"] = \"val\"\n",
    "    df_test[\"set\"] = \"test\"\n",
    "    df_sample = pd.concat([df_train, df_val, df_test]).reset_index(drop = True)\n",
    "    \n",
    "    return df_sample"
   ]
  },
  {
   "cell_type": "code",
   "execution_count": 8,
   "id": "972d5167-8898-4d7b-abc8-ed98b02b69bf",
   "metadata": {},
   "outputs": [
    {
     "data": {
      "text/html": [
       "<div>\n",
       "<style scoped>\n",
       "    .dataframe tbody tr th:only-of-type {\n",
       "        vertical-align: middle;\n",
       "    }\n",
       "\n",
       "    .dataframe tbody tr th {\n",
       "        vertical-align: top;\n",
       "    }\n",
       "\n",
       "    .dataframe thead th {\n",
       "        text-align: right;\n",
       "    }\n",
       "</style>\n",
       "<table border=\"1\" class=\"dataframe\">\n",
       "  <thead>\n",
       "    <tr style=\"text-align: right;\">\n",
       "      <th></th>\n",
       "      <th>time</th>\n",
       "      <th>delta</th>\n",
       "      <th>image_index</th>\n",
       "      <th>set</th>\n",
       "    </tr>\n",
       "  </thead>\n",
       "  <tbody>\n",
       "    <tr>\n",
       "      <th>0</th>\n",
       "      <td>2.180822</td>\n",
       "      <td>0</td>\n",
       "      <td>298</td>\n",
       "      <td>train</td>\n",
       "    </tr>\n",
       "    <tr>\n",
       "      <th>1</th>\n",
       "      <td>11.838356</td>\n",
       "      <td>0</td>\n",
       "      <td>262</td>\n",
       "      <td>train</td>\n",
       "    </tr>\n",
       "    <tr>\n",
       "      <th>2</th>\n",
       "      <td>4.191781</td>\n",
       "      <td>1</td>\n",
       "      <td>10</td>\n",
       "      <td>train</td>\n",
       "    </tr>\n",
       "    <tr>\n",
       "      <th>3</th>\n",
       "      <td>4.600000</td>\n",
       "      <td>1</td>\n",
       "      <td>197</td>\n",
       "      <td>train</td>\n",
       "    </tr>\n",
       "    <tr>\n",
       "      <th>4</th>\n",
       "      <td>4.830137</td>\n",
       "      <td>0</td>\n",
       "      <td>33</td>\n",
       "      <td>train</td>\n",
       "    </tr>\n",
       "  </tbody>\n",
       "</table>\n",
       "</div>"
      ],
      "text/plain": [
       "        time  delta  image_index    set\n",
       "0   2.180822      0          298  train\n",
       "1  11.838356      0          262  train\n",
       "2   4.191781      1           10  train\n",
       "3   4.600000      1          197  train\n",
       "4   4.830137      0           33  train"
      ]
     },
     "execution_count": 8,
     "metadata": {},
     "output_type": "execute_result"
    }
   ],
   "source": [
    "df_sample = sample_single_bootstrap(df, n_train, n_val, n_test)\n",
    "df_sample.head(5)"
   ]
  },
  {
   "cell_type": "code",
   "execution_count": 9,
   "id": "5c79b745-6b87-4dc6-a090-1c7be19c9795",
   "metadata": {},
   "outputs": [],
   "source": [
    "np.random.seed(1)\n",
    "for i in range(1, 101):\n",
    "    df_sample = sample_single_bootstrap(df, n_train, n_val, n_test)\n",
    "    df_sample.to_csv(\"bootstrap_sample/sample_{}.csv\".format(i), index = False)"
   ]
  }
 ],
 "metadata": {
  "kernelspec": {
   "display_name": "Python 3 (ipykernel)",
   "language": "python",
   "name": "python3"
  },
  "language_info": {
   "codemirror_mode": {
    "name": "ipython",
    "version": 3
   },
   "file_extension": ".py",
   "mimetype": "text/x-python",
   "name": "python",
   "nbconvert_exporter": "python",
   "pygments_lexer": "ipython3",
   "version": "3.10.16"
  }
 },
 "nbformat": 4,
 "nbformat_minor": 5
}

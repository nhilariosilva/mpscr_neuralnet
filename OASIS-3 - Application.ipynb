{
 "cells": [
  {
   "cell_type": "code",
   "execution_count": 1,
   "id": "913435f0-ba31-45ff-94c7-4e4ab50598b9",
   "metadata": {},
   "outputs": [
    {
     "name": "stderr",
     "output_type": "stream",
     "text": [
      "WARNING: All log messages before absl::InitializeLog() is called are written to STDERR\n",
      "E0000 00:00:1741902446.277233   94009 cuda_dnn.cc:8310] Unable to register cuDNN factory: Attempting to register factory for plugin cuDNN when one has already been registered\n",
      "E0000 00:00:1741902446.282783   94009 cuda_blas.cc:1418] Unable to register cuBLAS factory: Attempting to register factory for plugin cuBLAS when one has already been registered\n",
      "I0000 00:00:1741902448.339840   94009 gpu_device.cc:2022] Created device /job:localhost/replica:0/task:0/device:GPU:0 with 1487 MB memory:  -> device: 0, name: NVIDIA GeForce RTX 3050 6GB Laptop GPU, pci bus id: 0000:01:00.0, compute capability: 8.6\n",
      "/home/natan/.pyenv/versions/3.10.16/lib/python3.10/site-packages/tqdm/auto.py:21: TqdmWarning: IProgress not found. Please update jupyter and ipywidgets. See https://ipywidgets.readthedocs.io/en/stable/user_install.html\n",
      "  from .autonotebook import tqdm as notebook_tqdm\n"
     ]
    }
   ],
   "source": [
    "import numpy as np\n",
    "import pandas as pd\n",
    "from matplotlib import pyplot as plt\n",
    "import random\n",
    "\n",
    "from time import time\n",
    "\n",
    "from scipy.special import comb, loggamma, lambertw\n",
    "from scipy.stats import multinomial, expon\n",
    "\n",
    "from silence_tensorflow import silence_tensorflow\n",
    "silence_tensorflow()\n",
    "import tensorflow as tf\n",
    "import tensorflow_probability as tfp\n",
    "\n",
    "config = tf.compat.v1.ConfigProto()\n",
    "config.gpu_options.allow_growth = True\n",
    "sess = tf.compat.v1.Session(config = config)\n",
    "\n",
    "import os, shutil\n",
    "import json\n",
    "import subprocess\n",
    "\n",
    "from net_model import *\n",
    "from custom_model import *\n",
    "from mps_models import *\n",
    "\n",
    "import mps\n",
    "import pwexp"
   ]
  },
  {
   "cell_type": "code",
   "execution_count": 2,
   "id": "b356c232-cbfd-48b6-846f-67fa27a24366",
   "metadata": {},
   "outputs": [
    {
     "name": "stdout",
     "output_type": "stream",
     "text": [
      "Dimensão dos dados de treino: (280, 23)\n",
      "Dimensão dos dados de teste: (72, 23)\n",
      "Dimensão dos dados completos: (352, 23)\n",
      "Dimensão das imagens: (160, 200, 1)\n"
     ]
    }
   ],
   "source": [
    "df_train = pd.read_csv(\"OASIS - Small Dataset/trainSet.csv\")\n",
    "df_train = df_train.iloc[:,1:]\n",
    "\n",
    "df_test = pd.read_csv(\"OASIS - Small Dataset/testSet.csv\")\n",
    "df_test = df_test.iloc[:,1:]\n",
    "\n",
    "df = pd.concat([df_train, df_test])\n",
    "\n",
    "print(\"Dimensão dos dados de treino: {}\".format(df_train.shape))\n",
    "print(\"Dimensão dos dados de teste: {}\".format(df_test.shape))\n",
    "print(\"Dimensão dos dados completos: {}\".format(df.shape))\n",
    "\n",
    "mri = np.load(\"OASIS - Small Dataset/mri.npz\")\n",
    "\n",
    "mriTrain = (mri[\"train_images\"] / np.max(mri[\"train_images\"]))\n",
    "# mriTrain = mri[\"train_images\"]\n",
    "# Remove uma observação do conjunto, que contava com dados de especificação faltantes\n",
    "mriTrain = np.delete(mriTrain, 230, axis=0)\n",
    "\n",
    "mriTest = (mri[\"test_images\"] / np.max(mri[\"test_images\"]))\n",
    "# mriTest = mri[\"test_images\"]\n",
    "\n",
    "image_dim = mriTrain[0].shape\n",
    "print(\"Dimensão das imagens: {}\".format(image_dim))\n",
    "\n",
    "x_train = mriTrain\n",
    "t_train = df_train.time.to_numpy()\n",
    "delta_train = df_train.delta.to_numpy()\n",
    "m_train = df_train.delta.to_numpy()\n",
    "x_test = mriTest\n",
    "t_test = df_test.time.to_numpy()\n",
    "delta_test = df_test.delta.to_numpy()\n",
    "m_test = df_test.delta.to_numpy()"
   ]
  },
  {
   "cell_type": "markdown",
   "id": "38dd7555-561f-4d49-bf70-4eb2cf02252d",
   "metadata": {},
   "source": [
    "# Generating bootstrap sample"
   ]
  }
 ],
 "metadata": {
  "kernelspec": {
   "display_name": "Python 3 (ipykernel)",
   "language": "python",
   "name": "python3"
  },
  "language_info": {
   "codemirror_mode": {
    "name": "ipython",
    "version": 3
   },
   "file_extension": ".py",
   "mimetype": "text/x-python",
   "name": "python",
   "nbconvert_exporter": "python",
   "pygments_lexer": "ipython3",
   "version": "3.10.16"
  }
 },
 "nbformat": 4,
 "nbformat_minor": 5
}

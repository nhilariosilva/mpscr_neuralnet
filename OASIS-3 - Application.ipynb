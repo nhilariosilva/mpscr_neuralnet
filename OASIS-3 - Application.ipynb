{
 "cells": [
  {
   "cell_type": "code",
   "execution_count": 1,
   "id": "913435f0-ba31-45ff-94c7-4e4ab50598b9",
   "metadata": {},
   "outputs": [
    {
     "name": "stderr",
     "output_type": "stream",
     "text": [
      "WARNING: All log messages before absl::InitializeLog() is called are written to STDERR\n",
      "E0000 00:00:1742392412.284558 1104190 cuda_dnn.cc:8310] Unable to register cuDNN factory: Attempting to register factory for plugin cuDNN when one has already been registered\n",
      "E0000 00:00:1742392412.287997 1104190 cuda_blas.cc:1418] Unable to register cuBLAS factory: Attempting to register factory for plugin cuBLAS when one has already been registered\n",
      "I0000 00:00:1742392414.078634 1104190 gpu_device.cc:2022] Created device /job:localhost/replica:0/task:0/device:GPU:0 with 4203 MB memory:  -> device: 0, name: NVIDIA GeForce RTX 3050 6GB Laptop GPU, pci bus id: 0000:01:00.0, compute capability: 8.6\n",
      "/home/natan/.pyenv/versions/3.10.16/lib/python3.10/site-packages/tqdm/auto.py:21: TqdmWarning: IProgress not found. Please update jupyter and ipywidgets. See https://ipywidgets.readthedocs.io/en/stable/user_install.html\n",
      "  from .autonotebook import tqdm as notebook_tqdm\n"
     ]
    }
   ],
   "source": [
    "import numpy as np\n",
    "import pandas as pd\n",
    "from matplotlib import pyplot as plt\n",
    "import seaborn as sns\n",
    "import random\n",
    "\n",
    "from time import time\n",
    "\n",
    "from scipy.special import comb, loggamma, lambertw\n",
    "from scipy.stats import multinomial, expon\n",
    "\n",
    "from silence_tensorflow import silence_tensorflow\n",
    "silence_tensorflow()\n",
    "import tensorflow as tf\n",
    "import tensorflow_probability as tfp\n",
    "\n",
    "config = tf.compat.v1.ConfigProto()\n",
    "config.gpu_options.allow_growth = True\n",
    "sess = tf.compat.v1.Session(config = config)\n",
    "\n",
    "import os, shutil\n",
    "from pathlib import Path\n",
    "import json\n",
    "import subprocess\n",
    "\n",
    "from net_model import *\n",
    "from custom_model import *\n",
    "from mps_models import *\n",
    "\n",
    "import mps\n",
    "import pwexp"
   ]
  },
  {
   "cell_type": "code",
   "execution_count": 2,
   "id": "a7f78a4b-c869-4514-affe-2b965729bad2",
   "metadata": {},
   "outputs": [],
   "source": [
    "mri = np.load(\"OASIS - Small Dataset/mri_train_test.npz\")\n",
    "img_oasis = mri[\"images\"]"
   ]
  },
  {
   "cell_type": "markdown",
   "id": "12ad238a-e9bc-4bf4-818b-9950f0c54fdb",
   "metadata": {},
   "source": [
    "# Basic functions to select the distribution and call the EM algorithm"
   ]
  },
  {
   "cell_type": "code",
   "execution_count": 3,
   "id": "d1a76890-0592-4409-960c-2538e19a34d9",
   "metadata": {},
   "outputs": [],
   "source": [
    "def select_model(distribution, q):\n",
    "    if(distribution == \"poisson\"):      \n",
    "        log_a_str = log_a_poisson_str\n",
    "        log_phi_str = log_phi_poisson_str\n",
    "        C_str = C_poisson_str\n",
    "        C_inv_str = C_inv_poisson_str\n",
    "        sup_str = sup_poisson_str\n",
    "        theta_min = None\n",
    "        theta_max = None\n",
    "    elif(distribution == \"logarithmic\"):\n",
    "        log_a_str = log_a_log_str\n",
    "        log_phi_str = log_phi_log_str\n",
    "        C_str = C_log_str\n",
    "        C_inv_str = C_inv_log_str\n",
    "        sup_str = sup_log_str\n",
    "        theta_min = 0\n",
    "        theta_max = 1\n",
    "    elif(distribution == \"nb\" or distribution == \"mvnb\"):\n",
    "        if(q is None):\n",
    "            raise Exception(\"Please, specify the fixed parameter (q) for the distribution.\")\n",
    "        # In the EM.py file, we must ensure that q is of type tf.float64 for it to work properly\n",
    "        q_argument = \"tf.constant({}, dtype = tf.float64)\".format(q)\n",
    "        log_a_str = log_a_mvnb_str.format(q_argument)\n",
    "        log_phi_str = log_phi_mvnb_str.format(q_argument)\n",
    "        C_str = C_mvnb_str.format(q_argument)\n",
    "        C_inv_str = C_inv_mvnb_str.format(q_argument)\n",
    "        sup_str = sup_mvnb_str.format(q_argument)\n",
    "        theta_min = None\n",
    "        theta_max = None\n",
    "    elif(distribution == \"geometric\"):\n",
    "        # In the EM.py file, we must ensure that q is of type tf.float64 for it to work properly\n",
    "        q_argument = \"tf.constant(1, dtype = tf.float64)\"\n",
    "        log_a_str = log_a_mvnb_str.format(q_argument)\n",
    "        log_phi_str = log_phi_mvnb_str.format(q_argument)\n",
    "        C_str = C_mvnb_str.format(q_argument)\n",
    "        C_inv_str = C_inv_mvnb_str.format(q_argument)\n",
    "        sup_str = sup_mvnb_str.format(q_argument)\n",
    "        theta_min = None\n",
    "        theta_max = None\n",
    "    elif(distribution == \"bin\" or distribution == \"binomial\"): \n",
    "        if(q is None):\n",
    "            raise Exception(\"Please, specify the fixed parameter (q) for the distribution.\")\n",
    "        # In the EM.py file, we must ensure that q is of type tf.float64 for it to work properly\n",
    "        q_argument = \"tf.constant({}, dtype = tf.float64)\".format(q)\n",
    "        log_a_str = log_a_bin_str.format(q_argument)\n",
    "        log_phi_str = log_phi_bin_str.format(q_argument)\n",
    "        C_str = C_bin_str.format(q_argument)\n",
    "        C_inv_str = C_inv_bin_str.format(q_argument)\n",
    "        sup_str = sup_bin_str.format(q_argument)\n",
    "        theta_min = 0\n",
    "        theta_max = 1\n",
    "    elif(distribution == \"bernoulli\"):\n",
    "        # In the EM.py file, we must ensure that q is of type tf.float64 for it to work properly\n",
    "        q_argument = \"tf.constant(1, dtype = tf.float64)\"\n",
    "        log_a_str = log_a_bin_str.format(q_argument)\n",
    "        log_phi_str = log_phi_bin_str.format(q_argument)\n",
    "        C_str = C_bin_str.format(q_argument)\n",
    "        C_inv_str = C_inv_bin_str.format(q_argument)\n",
    "        sup_str = sup_bin_str.format(q_argument)\n",
    "        theta_min = 0\n",
    "        theta_max = 1\n",
    "    elif(distribution == \"rgp\"):\n",
    "        if(q is None):\n",
    "            raise Exception(\"Please, specify the fixed parameter (q) for the distribution.\")\n",
    "        # In the EM.py file, we must ensure that q is of type tf.float64 for it to work properly\n",
    "        q_argument = \"tf.constant({}, dtype = tf.float64)\".format(q)\n",
    "        log_a_str = log_a_rgp_str.format(q_argument)\n",
    "        log_phi_str = log_phi_rgp_str.format(q_argument)\n",
    "        C_str = C_rgp_str.format(q_argument)\n",
    "        C_inv_str = C_inv_rgp_str.format(q_argument)\n",
    "        sup_str = sup_rgp_str.format(q_argument)\n",
    "        theta_min = 0\n",
    "        theta_max = np.abs(1/q)\n",
    "    elif(distribution == \"borel\"):\n",
    "        # In the EM.py file, we must ensure that q is of type tf.float64 for it to work properly\n",
    "        q_argument = \"tf.constant(1, dtype = tf.float64)\"\n",
    "        log_a_str = log_a_rgp_str.format(q_argument)\n",
    "        log_phi_str = log_phi_rgp_str.format(q_argument)\n",
    "        C_str = C_rgp_str.format(q_argument)\n",
    "        C_inv_str = C_inv_rgp_str.format(q_argument)\n",
    "        sup_str = sup_rgp_str.format(q_argument)\n",
    "        theta_min = 0\n",
    "        theta_max = 1\n",
    "    elif(distribution == \"geeta\"):\n",
    "        if(q is None):\n",
    "            raise Exception(\"Please, specify the fixed parameter (q) for the distribution.\")\n",
    "        # In the EM.py file, we must ensure that q is of type tf.float64 for it to work properly\n",
    "        q_argument = \"tf.constant({}, dtype = tf.float64)\".format(q)\n",
    "        log_a_str = log_a_geeta_str.format(q_argument)\n",
    "        log_phi_str = log_phi_geeta_str.format(q_argument)\n",
    "        C_str = C_geeta_str.format(q_argument)\n",
    "        C_inv_str = C_inv_geeta_str.format(q_argument)\n",
    "        sup_str = sup_geeta_str.format(q_argument)\n",
    "        theta_min = 0\n",
    "        theta_max = np.abs(1/q)\n",
    "    elif(distribution == \"haight\"):\n",
    "        # In the EM.py file, we must ensure that q is of type tf.float64 for it to work properly\n",
    "        q_argument = \"tf.constant(2, dtype = tf.float64)\"\n",
    "        log_a_str = log_a_geeta_str.format(q_argument)\n",
    "        log_phi_str = log_phi_geeta_str.format(q_argument)\n",
    "        C_str = C_geeta_str.format(q_argument)\n",
    "        C_inv_str = C_inv_geeta_str.format(q_argument)\n",
    "        sup_str = sup_geeta_str.format(q_argument)\n",
    "        theta_min = 0\n",
    "        theta_max = 1/2\n",
    "\n",
    "    return log_a_str, log_phi_str, C_str, C_inv_str, sup_str, theta_min, theta_max\n",
    "\n",
    "def fit_cure_model(distribution, q,\n",
    "                   t_train, t_val,\n",
    "                   delta_train, delta_val,\n",
    "                   img_train, img_val,\n",
    "                   max_iterations = 100,\n",
    "                   early_stopping_em = True, early_stopping_em_warmup = 5, early_stopping_em_eps = 1.0e-6,\n",
    "                   epochs = 100, batch_size = None, shuffle = True,\n",
    "                   learning_rate = 0.001, run_eagerly = False, gradient_accumulation_steps = None,\n",
    "                   early_stopping_nn = True, early_stopping_min_delta_nn = 0.0, early_stopping_patience_nn = 5,\n",
    "                   reduce_lr = True, reduce_lr_steps = 10, reduce_lr_factor = 0.1,\n",
    "                   verbose = 1, seed = 1):\n",
    "    alpha0, s_t = initialize_alpha_s(t_train, delta_train, n_cuts = 5)\n",
    "\n",
    "    # Select the MPS functions based on the chosen distribution\n",
    "    log_a_str, log_phi_str, C_str, C_inv_str, sup_str, theta_min, theta_max = select_model(distribution, q)\n",
    "\n",
    "    set_all_seeds(seed)\n",
    "    # Because it only serves to initialize the model weights, the distribution does not matter in this case (that's why we use the Poisson here)\n",
    "    dummy_mps_model = MPScrModel(log_a_poisson_tf, log_phi_poisson_tf, C_poisson_tf, C_inv_poisson_tf, sup_poisson)\n",
    "    dummy_mps_model.define_structure(shape_input = img_train[0].shape, seed = seed)\n",
    "\n",
    "    # If batch_size is None, use just one big batch\n",
    "    if(batch_size is None):\n",
    "        batch_size = len(t_train)\n",
    "    else:\n",
    "        if(gradient_accumulation_steps is None):\n",
    "            # If batch_size is not None, modify the gradient accumulation steps in order for the model\n",
    "            # to update the wegihts a single time each epoch. That is crucial to reduce batch noises, as we are\n",
    "            # trying to minimize a custom loss function based on the likelihood\n",
    "            n_train = len(t_train)\n",
    "            n_batches = int( np.ceil(n_train / batch_size) )\n",
    "            gradient_accumulation_steps = n_batches\n",
    "        \n",
    "    results = call_EM(\"EM.py\",\n",
    "                      log_a_str, log_phi_str, C_str, C_inv_str, sup_str, theta_min, theta_max,\n",
    "                      dummy_mps_model, alpha0, s_t,\n",
    "                      img_train, t_train, delta_train, delta_train,\n",
    "                      max_iterations = max_iterations,\n",
    "                      early_stopping_em = early_stopping_em, early_stopping_em_warmup = early_stopping_em_warmup, early_stopping_em_eps = early_stopping_em_eps,\n",
    "                      epochs = epochs, batch_size = batch_size, shuffle = shuffle,\n",
    "                      learning_rate = learning_rate, run_eagerly = run_eagerly, gradient_accumulation_steps = gradient_accumulation_steps,\n",
    "                      early_stopping_nn = early_stopping_nn, early_stopping_min_delta_nn = early_stopping_min_delta_nn, early_stopping_patience_nn = early_stopping_patience_nn,\n",
    "                      reduce_lr = reduce_lr, reduce_lr_steps = reduce_lr_steps, reduce_lr_factor = reduce_lr_factor,\n",
    "                      validation = True,\n",
    "                      x_val = img_val, t_val = t_val, delta_val = delta_val, m_val = delta_val,\n",
    "                      verbose = verbose, seed = seed, alpha_known = False)\n",
    "    results[\"s_t\"] = s_t\n",
    "    \n",
    "    return results"
   ]
  },
  {
   "cell_type": "code",
   "execution_count": 4,
   "id": "e48b0123-70d0-4d7d-b146-90fe66f20b4a",
   "metadata": {},
   "outputs": [
    {
     "name": "stdout",
     "output_type": "stream",
     "text": [
      "Creating directories structure\n"
     ]
    }
   ],
   "source": [
    "print(\"Creating directories structure\")\n",
    "dists = [\"poisson\", \"logarithmic\", \"geometric\", \"mvnb\", \"bernoulli\", \"bin\", \"rgp\", \"borel\", \"rgp\", \"haight\", \"geeta\"]\n",
    "for dist in dists:\n",
    "    for j in range(1,101):\n",
    "        Path(\"OASIS - Results/{}/{}\".format(dist,j)).mkdir(parents=True, exist_ok=True)"
   ]
  },
  {
   "cell_type": "code",
   "execution_count": 5,
   "id": "cc31cba0-5865-45b2-a3eb-bb92dfbe6453",
   "metadata": {},
   "outputs": [],
   "source": [
    "def run_bootstrap_distribution_oasis(distribution, q, images, start_index = 1, seed = 10):\n",
    "\n",
    "    metadata_filename = \"OASIS - Results/{}/sim_metadata.csv\".format(distribution)\n",
    "    # If metadata file exists, load it. If not, just initialize the metadata lists as empty\n",
    "    if( os.path.isfile(metadata_filename) ):\n",
    "        sim_metadata = pd.read_csv(metadata_filename)\n",
    "        # If start_index is less than the size of metadata, there might be an error on the call of this function\n",
    "        # It alerts that some information may be overwritten\n",
    "        if(start_index is None):\n",
    "            start_index = sim_metadata.shape[0]+1\n",
    "        elif(start_index < sim_metadata.shape[0]):\n",
    "            raise Exception(\"start_index is less than previously executed registers.\")\n",
    "            \n",
    "        execution_times = sim_metadata[\"execution_times\"].to_list()\n",
    "        loss_values = sim_metadata[\"loss_values\"].to_list()\n",
    "        loss_val_values = sim_metadata[\"loss_val_values\"].to_list()\n",
    "        converged = sim_metadata[\"converged\"].to_list()\n",
    "        steps = sim_metadata[\"steps\"].to_list()\n",
    "    else:\n",
    "        execution_times = []\n",
    "        loss_values = []\n",
    "        loss_val_values = []\n",
    "        converged = []\n",
    "        steps = []\n",
    "    \n",
    "    for i in tqdm(range(start_index, 101)):\n",
    "        df_sample = pd.read_csv(\"OASIS - Small Dataset/bootstrap_sample/sample_{}.csv\".format(i))\n",
    "\n",
    "        df_train = df_sample.loc[df_sample[\"set\"] == \"train\", :]\n",
    "        df_val = df_sample.loc[df_sample[\"set\"] == \"val\", :]\n",
    "        \n",
    "        t_train = df_train[\"time\"]\n",
    "        delta_train = df_train[\"delta\"]\n",
    "        img_train = images[ df_train[\"image_index\"] ]\n",
    "        t_val = df_val[\"time\"]\n",
    "        delta_val = df_val[\"delta\"]\n",
    "        img_val = images[ df_val[\"image_index\"] ]\n",
    "\n",
    "        start_time = time()\n",
    "        result = fit_cure_model(distribution, q,\n",
    "                                t_train, t_val,\n",
    "                                delta_train, delta_val,\n",
    "                                img_train, img_val,\n",
    "                                batch_size = 64, max_iterations = 60, early_stopping_em_eps = 1.0e-6,\n",
    "                                early_stopping_em_warmup = 10,\n",
    "                                learning_rate = 0.001, early_stopping_patience_nn = 10,\n",
    "                                reduce_lr = True, reduce_lr_steps = 12, reduce_lr_factor = 0.1,                                \n",
    "                                seed = seed, verbose = 0)\n",
    "        elapsed_time = time() - start_time\n",
    "        execution_times.append(elapsed_time)\n",
    "        # Save the model weights\n",
    "        result[\"new_model\"].save_model(\"OASIS - Results/{}/{}/model.weights.h5\".format(distribution, i))\n",
    "\n",
    "        # Save the piecewise exponential estimated parameters\n",
    "        save_alpha_s(result[\"new_alpha\"], result[\"s_t\"], filename = \"OASIS - Results/{}/{}/alpha_s.csv\".format(distribution, i))\n",
    "\n",
    "        loss_values.append( result[\"loss_history\"][-1] )\n",
    "        loss_val_values.append( result[\"loss_val_history\"][-1] )\n",
    "        converged.append( result[\"converged\"] )\n",
    "        steps.append( result[\"steps\"] )\n",
    "\n",
    "        pd.DataFrame({\"execution_times\": execution_times, \"loss_values\": loss_values, \"loss_val_values\": loss_val_values, \"converged\": converged, \"steps\": steps}).to_csv(\n",
    "            \"OASIS - Results/{}/sim_metadata.csv\".format(distribution), index = False\n",
    "        )"
   ]
  },
  {
   "cell_type": "code",
   "execution_count": 6,
   "id": "b11c5a5a-f342-4a36-af1d-d6e937844321",
   "metadata": {},
   "outputs": [],
   "source": [
    "from sklearn.metrics import roc_curve\n",
    "from sklearn.metrics import auc\n",
    "\n",
    "def ROC_real(cured, pred_p):\n",
    "    fpr, tpr, thresholds = roc_curve(cured, pred_p, drop_intermediate = False)\n",
    "    return fpr, tpr, thresholds\n",
    "\n",
    "def AUC_real(cured, pred_p):\n",
    "    fpr, tpr, thresholds = ROC_real(cured, pred_p)\n",
    "    return auc(fpr, tpr)\n",
    "\n",
    "def ROC_estimated(pred_p):\n",
    "    thresholds = np.unique(pred_p)\n",
    "    # Reshape the cure_probs array for broadcasting\n",
    "    pred_p = np.reshape(pred_p, (len(pred_p), 1))\n",
    "    tpr = np.sum( (pred_p < thresholds) * (1-pred_p), axis = 0 ) / np.sum( 1-pred_p )\n",
    "    fpr = np.sum( (pred_p < thresholds) * pred_p, axis = 0 ) / np.sum( pred_p )\n",
    "    return fpr, tpr, thresholds\n",
    "\n",
    "def AUC_estimated(pred_p):\n",
    "    fpr, tpr, thresholds = ROC_estimated(pred_p)\n",
    "    return auc(fpr, tpr)"
   ]
  },
  {
   "cell_type": "code",
   "execution_count": 7,
   "id": "c6d5ecf3-5d36-4f0a-b89e-745fbe19da32",
   "metadata": {},
   "outputs": [
    {
     "name": "stderr",
     "output_type": "stream",
     "text": [
      "I0000 00:00:1742227476.449562  418836 gpu_device.cc:2022] Created device /job:localhost/replica:0/task:0/device:GPU:0 with 2812 MB memory:  -> device: 0, name: NVIDIA GeForce RTX 3050 6GB Laptop GPU, pci bus id: 0000:01:00.0, compute capability: 8.6\n",
      "WARNING: All log messages before absl::InitializeLog() is called are written to STDERR\n",
      "E0000 00:00:1742227477.677252  418954 cuda_dnn.cc:8310] Unable to register cuDNN factory: Attempting to register factory for plugin cuDNN when one has already been registered\n",
      "E0000 00:00:1742227477.680765  418954 cuda_blas.cc:1418] Unable to register cuBLAS factory: Attempting to register factory for plugin cuBLAS when one has already been registered\n",
      "I0000 00:00:1742227479.935341  418954 gpu_device.cc:2022] Created device /job:localhost/replica:0/task:0/device:GPU:0 with 2690 MB memory:  -> device: 0, name: NVIDIA GeForce RTX 3050 6GB Laptop GPU, pci bus id: 0000:01:00.0, compute capability: 8.6\n",
      "I0000 00:00:1742227480.033661  418954 gpu_device.cc:2022] Created device /job:localhost/replica:0/task:0/device:GPU:0 with 2690 MB memory:  -> device: 0, name: NVIDIA GeForce RTX 3050 6GB Laptop GPU, pci bus id: 0000:01:00.0, compute capability: 8.6\n",
      "I0000 00:00:1742227482.090454  419029 cuda_dnn.cc:529] Loaded cuDNN version 90300\n",
      " 20%|██        | 20/100 [00:11<00:45,  1.76epoch/s, loss=0.139, loss_val=0.718]\n",
      " 18%|█▊        | 18/100 [00:08<00:39,  2.08epoch/s, loss=0.244, loss_val=0.76] \n",
      " 16%|█▌        | 16/100 [00:07<00:40,  2.07epoch/s, loss=0.308, loss_val=0.774]\n",
      " 13%|█▎        | 13/100 [00:06<00:43,  2.01epoch/s, loss=0.3, loss_val=0.767]  \n",
      " 11%|█         | 11/100 [00:05<00:45,  1.97epoch/s, loss=0.307, loss_val=0.764]\n",
      " 12%|█▏        | 12/100 [00:06<00:44,  2.00epoch/s, loss=0.249, loss_val=0.801]\n",
      " 13%|█▎        | 13/100 [00:06<00:42,  2.03epoch/s, loss=0.243, loss_val=0.786]\n",
      " 13%|█▎        | 13/100 [00:06<00:43,  2.02epoch/s, loss=0.271, loss_val=0.77] \n",
      " 13%|█▎        | 13/100 [00:06<00:43,  2.02epoch/s, loss=0.22, loss_val=0.766] \n",
      " 13%|█▎        | 13/100 [00:06<00:43,  2.02epoch/s, loss=0.154, loss_val=0.756]\n",
      " 18%|█▊        | 18/100 [00:08<00:39,  2.09epoch/s, loss=0.105, loss_val=0.749]\n",
      " 17%|█▋        | 17/100 [00:08<00:40,  2.04epoch/s, loss=-0.0014, loss_val=0.742]  \n",
      " 11%|█         | 11/100 [00:05<00:44,  1.99epoch/s, loss=-0.118, loss_val=0.753]\n",
      " 11%|█         | 11/100 [00:05<00:44,  1.98epoch/s, loss=-0.198, loss_val=0.769]\n",
      " 11%|█         | 11/100 [00:05<00:44,  1.99epoch/s, loss=-0.273, loss_val=0.787]\n",
      " 11%|█         | 11/100 [00:05<00:44,  1.98epoch/s, loss=-0.342, loss_val=0.796]\n",
      " 11%|█         | 11/100 [00:05<00:45,  1.97epoch/s, loss=-0.407, loss_val=0.798]\n",
      " 11%|█         | 11/100 [00:05<00:45,  1.94epoch/s, loss=-0.47, loss_val=0.791]\n",
      " 11%|█         | 11/100 [00:05<00:45,  1.97epoch/s, loss=-0.531, loss_val=0.779]\n",
      " 11%|█         | 11/100 [00:05<00:44,  1.99epoch/s, loss=-0.589, loss_val=0.762]\n",
      " 11%|█         | 11/100 [00:05<00:47,  1.88epoch/s, loss=-0.645, loss_val=0.74] \n",
      " 11%|█         | 11/100 [00:05<00:45,  1.97epoch/s, loss=-0.697, loss_val=0.714]\n",
      " 11%|█         | 11/100 [00:05<00:44,  1.98epoch/s, loss=-0.746, loss_val=0.685]\n",
      " 11%|█         | 11/100 [00:05<00:44,  1.98epoch/s, loss=-0.793, loss_val=0.654]\n",
      " 11%|█         | 11/100 [00:05<00:45,  1.98epoch/s, loss=-0.839, loss_val=0.605]\n",
      " 11%|█         | 11/100 [00:05<00:44,  1.98epoch/s, loss=-0.836, loss_val=0.628]\n",
      " 11%|█         | 11/100 [00:05<00:45,  1.97epoch/s, loss=-0.829, loss_val=0.654]\n",
      " 11%|█         | 11/100 [00:05<00:45,  1.97epoch/s, loss=-0.823, loss_val=0.679]\n",
      " 11%|█         | 11/100 [00:05<00:44,  1.98epoch/s, loss=-0.819, loss_val=0.7]  \n",
      " 11%|█         | 11/100 [00:05<00:45,  1.98epoch/s, loss=-0.815, loss_val=0.718]\n",
      " 11%|█         | 11/100 [00:05<00:47,  1.86epoch/s, loss=-0.813, loss_val=0.734]\n",
      " 11%|█         | 11/100 [00:05<00:45,  1.98epoch/s, loss=-0.811, loss_val=0.747]\n",
      " 11%|█         | 11/100 [00:05<00:45,  1.97epoch/s, loss=-0.81, loss_val=0.759] \n",
      " 11%|█         | 11/100 [00:05<00:45,  1.96epoch/s, loss=-0.808, loss_val=0.77] \n",
      " 11%|█         | 11/100 [00:05<00:45,  1.98epoch/s, loss=-0.808, loss_val=0.781]\n",
      " 11%|█         | 11/100 [00:05<00:44,  1.99epoch/s, loss=-0.807, loss_val=0.79] \n"
     ]
    },
    {
     "name": "stdout",
     "output_type": "stream",
     "text": [
      "Algoritmo convergiu após 36 iterações. Retornando.\n",
      "Número de arquivos no diretório: 36\n"
     ]
    }
   ],
   "source": [
    "i = 3\n",
    "distribution = \"poisson\"\n",
    "q = None\n",
    "\n",
    "df_sample = pd.read_csv(\"OASIS - Small Dataset/bootstrap_sample/sample_{}.csv\".format(i))\n",
    "\n",
    "df_train = df_sample.loc[df_sample[\"set\"] == \"train\", :]\n",
    "df_val = df_sample.loc[df_sample[\"set\"] == \"val\", :]\n",
    "t_train = df_train[\"time\"]\n",
    "delta_train = df_train[\"delta\"]\n",
    "img_train = img_oasis[ df_train[\"image_index\"] ]\n",
    "t_val = df_val[\"time\"]\n",
    "delta_val = df_val[\"delta\"]\n",
    "img_val = img_oasis[ df_val[\"image_index\"] ]\n",
    "\n",
    "start_time = time()\n",
    "result = fit_cure_model(distribution, q,\n",
    "                        t_train, t_val,\n",
    "                        delta_train, delta_val,\n",
    "                        img_train, img_val,\n",
    "                        batch_size = 64, max_iterations = 60, early_stopping_em_eps = 1.0e-6,\n",
    "                        early_stopping_em_warmup = 10,\n",
    "                        learning_rate = 0.001, early_stopping_patience_nn = 10,\n",
    "                        reduce_lr = True, reduce_lr_steps = 12, reduce_lr_factor = 0.1,                                \n",
    "                        seed = 10, verbose = 1)\n",
    "elapsed_time = time() - start_time"
   ]
  },
  {
   "cell_type": "code",
   "execution_count": 10,
   "id": "3547dfda-adea-42f5-9399-be611f2fec6b",
   "metadata": {},
   "outputs": [],
   "source": [
    "AUC_train = AUC_estimated( pred_p[df_sample[\"set\"] == \"train\"] )"
   ]
  },
  {
   "cell_type": "code",
   "execution_count": 9,
   "id": "4a19d279-d7a6-40d1-919f-c4803715f376",
   "metadata": {},
   "outputs": [
    {
     "name": "stderr",
     "output_type": "stream",
     "text": [
      "I0000 00:00:1742227741.410099  418924 cuda_dnn.cc:529] Loaded cuDNN version 90300\n"
     ]
    },
    {
     "name": "stdout",
     "output_type": "stream",
     "text": [
      "0.9443146759413897\n"
     ]
    },
    {
     "data": {
      "image/png": "[encoded data removed]",
      "text/plain": [
       "<Figure size 1200x600 with 2 Axes>"
      ]
     },
     "metadata": {},
     "output_type": "display_data"
    }
   ],
   "source": [
    "pred_eta = result[\"new_model\"].predict(img_oasis, verbose = 0)\n",
    "pred_p = result[\"new_model\"].link_func( pred_eta ).numpy().flatten()\n",
    "pred_m = update_m_mps(result[\"new_model\"], result[\"new_alpha\"], result[\"s_t\"], img_oasis, df_sample[\"time\"].to_numpy().flatten(), df_sample[\"delta\"].to_numpy().flatten())\n",
    "\n",
    "df_results = pd.DataFrame({\"t\": df_sample[\"time\"], \"delta\": df_sample[\"delta\"], \"pred_p\": pred_p, \"set\": df_sample[\"set\"]})\n",
    "AUC_test = AUC_estimated( df_results.loc[df_results[\"set\"] == \"test\", \"pred_p\"].to_numpy().flatten() )\n",
    "print(AUC_test)\n",
    "\n",
    "fig, ax = plt.subplots(nrows = 1, ncols = 2, figsize = (12,6))\n",
    "\n",
    "sns.histplot(x = \"pred_p\", hue = \"delta\", data = df_results, ax = ax[0])\n",
    "\n",
    "tv = np.arange(0, 12, 0.1)\n",
    "S1_tv = S1(tv, result[\"new_alpha\"], result[\"s_t\"])\n",
    "\n",
    "s_t_xie = np.array([0, 2.062, 3.36, 4.495, 6.32, 12.2])\n",
    "alpha_xie = np.array([0.02872308, 0.04870019, 0.10390695, 0.16946955, 0.5868493 , 1])\n",
    "S1_tv_xie = S1(tv, alpha_xie, s_t_xie)\n",
    "\n",
    "ax[1].plot(tv, S1_tv)\n",
    "ax[1].plot(tv, S1_tv_xie)\n",
    "\n",
    "plt.show()"
   ]
  },
  {
   "cell_type": "code",
   "execution_count": 11,
   "id": "0d1c3a11-eac5-4515-a8e3-1e4f18da9892",
   "metadata": {},
   "outputs": [
    {
     "data": {
      "text/plain": [
       "array([ 1.  ,  1.41,  1.08,  1.  ,  1.  ,  4.21,  2.01,  1.94,  1.12,\n",
       "        1.  ,  1.01,  1.37,  1.  ,  1.3 ,  3.05,  5.44,  1.  ,  1.  ,\n",
       "        1.06,  5.7 ,  1.68, 10.83,  5.25,  1.02,  3.69,  1.68,  7.21,\n",
       "        1.  ,  2.89,  1.  ,  1.01,  1.  ,  1.01,  1.  ,  1.  ,  1.  ,\n",
       "        1.  ,  1.  ,  1.  ,  4.9 ,  1.44, 10.11,  1.17,  5.63,  1.  ,\n",
       "        1.09,  6.85,  1.59,  2.42,  1.  ,  7.81,  1.32,  1.91,  1.45,\n",
       "        1.  ,  1.  ,  1.07,  1.01,  1.03,  1.84,  7.53,  1.  ,  4.38,\n",
       "        1.  ,  1.  ,  1.  ,  3.24,  2.  ,  1.  ,  3.18,  1.06,  1.  ,\n",
       "        1.28,  1.  ,  1.35,  2.07,  1.  ,  1.  ,  1.  ,  1.24,  2.7 ,\n",
       "        1.6 ,  1.  ,  1.  ,  1.02,  2.23,  1.  ,  1.36, 10.13,  1.22,\n",
       "        1.01,  2.55,  1.53,  1.  ])"
      ]
     },
     "execution_count": 11,
     "metadata": {},
     "output_type": "execute_result"
    }
   ],
   "source": [
    "np.round(pred_m, 2)[pred_m > 1]"
   ]
  },
  {
   "cell_type": "code",
   "execution_count": 42,
   "id": "449035ac-4c1b-4054-8377-55133695c90d",
   "metadata": {},
   "outputs": [
    {
     "data": {
      "text/plain": [
       "[<matplotlib.lines.Line2D at 0x772f9445f3d0>]"
      ]
     },
     "execution_count": 42,
     "metadata": {},
     "output_type": "execute_result"
    },
    {
     "data": {
      "image/png": "[encoded data removed]",
      "text/plain": [
       "<Figure size 640x480 with 1 Axes>"
      ]
     },
     "metadata": {},
     "output_type": "display_data"
    }
   ],
   "source": [
    "pred_p = result[\"new_model\"].link_func( pred_eta ).numpy().flatten()\n",
    "pred_p_train = pred_p[df_sample[\"set\"] == \"train\"]\n",
    "delta_train = df_sample.loc[df_sample[\"set\"] == \"train\", \"delta\"]\n",
    "censor_occurred_train = 1-delta_train\n",
    "\n",
    "fpr, tpr, thresholds = roc_curve(censor_occurred_train, pred_p_train)\n",
    "plt.plot(fpr, tpr)"
   ]
  },
  {
   "cell_type": "code",
   "execution_count": 8,
   "id": "f82d1dd7-5d7c-4ffd-a822-a973a4b4a5fa",
   "metadata": {},
   "outputs": [
    {
     "data": {
      "text/plain": [
       "np.float64(0.011363636363636364)"
      ]
     },
     "execution_count": 8,
     "metadata": {},
     "output_type": "execute_result"
    }
   ],
   "source": [
    "np.mean( (result[\"new_model\"].link_func( result[\"new_model\"].predict(img_oasis, verbose = False).flatten() ) < 0.2) &\n",
    "         (df_sample[\"delta\"] == 1) )"
   ]
  },
  {
   "cell_type": "code",
   "execution_count": 11,
   "id": "8b1b2dd3-765a-42e5-b1d8-0b05f666a762",
   "metadata": {},
   "outputs": [
    {
     "data": {
      "text/plain": [
       "<tf.Tensor: shape=(20,), dtype=float64, numpy=\n",
       "array([0.85413119, 0.8863197 , 0.95830615, 0.95314763, 0.99662328,\n",
       "       0.87339422, 0.94912961, 0.92882571, 0.91138861, 0.60049317,\n",
       "       0.1600187 , 0.96965057, 0.78562027, 0.79549012, 0.88699537,\n",
       "       0.94719725, 0.97197448, 0.95577613, 0.68993525, 0.93689823])>"
      ]
     },
     "execution_count": 11,
     "metadata": {},
     "output_type": "execute_result"
    }
   ],
   "source": [
    "result[\"new_model\"].link_func( result[\"new_model\"].predict(img_oasis, verbose = False).flatten() )[:20]"
   ]
  },
  {
   "cell_type": "code",
   "execution_count": 11,
   "id": "410eb6d8-b592-466b-91db-16b05a42d3ce",
   "metadata": {},
   "outputs": [
    {
     "data": {
      "text/plain": [
       "array([0, 0, 0, 0, 0, 0, 0, 0, 1, 0, 0, 0, 0, 0, 1, 0, 0, 0, 0, 0, 0, 0,\n",
       "       0, 0, 0, 0, 0, 0, 0, 1, 0, 1, 0, 0, 0, 0, 0, 1, 0, 0, 1, 0, 0, 0,\n",
       "       0, 0, 0, 0, 0, 0])"
      ]
     },
     "execution_count": 11,
     "metadata": {},
     "output_type": "execute_result"
    }
   ],
   "source": [
    "df_sample[\"delta\"].to_numpy()[:50]"
   ]
  },
  {
   "cell_type": "code",
   "execution_count": null,
   "id": "e2641348-3906-41e3-a54b-7d1d6796c1f6",
   "metadata": {},
   "outputs": [],
   "source": [
    "tv = np.arange()"
   ]
  },
  {
   "cell_type": "markdown",
   "id": "de2ecacb-9aca-44e9-a3d8-7a9dcc80f71b",
   "metadata": {},
   "source": [
    "# Distributions with a single parameter, $\\theta$"
   ]
  },
  {
   "cell_type": "markdown",
   "id": "e5df1b32-8b8d-4014-baeb-c80b1608cb3b",
   "metadata": {},
   "source": [
    "In the following cells, we fit the MPScr-NN model to all 100 bootstrap samples considering the distributions that are uniparametric, i.e. does not depend on the extra parameter, q. Those are:\n",
    "* Poisson\n",
    "* Logarithmic\n",
    "* Geometric\n",
    "* Bernoulli\n",
    "* Borel\n",
    "* Haight"
   ]
  },
  {
   "cell_type": "code",
   "execution_count": 5,
   "id": "33eb7a8e-a80b-4720-b5f6-803c1e6e0069",
   "metadata": {},
   "outputs": [
    {
     "name": "stderr",
     "output_type": "stream",
     "text": [
      "I0000 00:00:1742154955.228112  269838 gpu_device.cc:2022] Created device /job:localhost/replica:0/task:0/device:GPU:0 with 4118 MB memory:  -> device: 0, name: NVIDIA GeForce RTX 3050 6GB Laptop GPU, pci bus id: 0000:01:00.0, compute capability: 8.6\n",
      "100%|██████████████████████████████████████████████████████████████████████████████████████████████████████████████████████████████████████████████████████████████████| 100/100 [4:43:02<00:00, 169.83s/it]\n"
     ]
    }
   ],
   "source": [
    "mri = np.load(\"OASIS - Small Dataset/mri_train_test.npz\")\n",
    "img_oasis = mri[\"images\"]\n",
    "run_bootstrap_distribution_oasis(\"poisson\", None, img_oasis, start_index = 1, seed = 10)"
   ]
  },
  {
   "cell_type": "code",
   "execution_count": 54,
   "id": "aef955df-7ad7-4bce-80f1-2d659e86b7ec",
   "metadata": {},
   "outputs": [
    {
     "name": "stderr",
     "output_type": "stream",
     "text": [
      " 27%|█████████████████████████████████████████████▌                                                                                                                         | 6/22 [20:21<54:17, 203.62s/it]\n",
      "\n",
      "KeyboardInterrupt\n",
      "\n"
     ]
    }
   ],
   "source": [
    "mri = np.load(\"OASIS - Small Dataset/mri_train_test.npz\")\n",
    "img_oasis = mri[\"images\"]\n",
    "# The seed used was 10, but for the first dataset (i = 1) we used seed = 1\n",
    "# (the model was resulting in a constant prediction, possibily did not converge properly)\n",
    "run_bootstrap_distribution_oasis(\"geometric\", None, img_oasis, start_index = None, seed = 10)"
   ]
  },
  {
   "cell_type": "code",
   "execution_count": null,
   "id": "ac4bcbf7-dc9d-4ef3-bf04-164b1cc47313",
   "metadata": {},
   "outputs": [],
   "source": [
    "mri = np.load(\"OASIS - Small Dataset/mri_train_test.npz\")\n",
    "img_oasis = mri[\"images\"]\n",
    "run_bootstrap_distribution_oasis(\"bernoulli\", None, img_oasis, start_index = 1, seed = 1)"
   ]
  },
  {
   "cell_type": "code",
   "execution_count": null,
   "id": "3dd7235f-60d0-44a5-9d37-58b3458a4d21",
   "metadata": {},
   "outputs": [],
   "source": [
    "mri = np.load(\"OASIS - Small Dataset/mri_train_test.npz\")\n",
    "img_oasis = mri[\"images\"]\n",
    "run_bootstrap_distribution_oasis(\"logarithmic\", None, img_oasis, start_index = 1, seed = 1)"
   ]
  },
  {
   "cell_type": "code",
   "execution_count": 7,
   "id": "3e5f2ff6-fab6-4986-844e-dd9e2eab716a",
   "metadata": {},
   "outputs": [
    {
     "name": "stderr",
     "output_type": "stream",
     "text": [
      "100%|██████████████████████████████████████████████████████████████████████████████████████████████████████████████████████████████████████████████████████████████████| 100/100 [4:07:42<00:00, 148.63s/it]\n"
     ]
    }
   ],
   "source": [
    "mri = np.load(\"OASIS - Small Dataset/mri_train_test.npz\")\n",
    "img_oasis = mri[\"images\"]\n",
    "run_bootstrap_distribution_oasis(\"borel\", None, img_oasis, start_index = 1, seed = 10)"
   ]
  },
  {
   "cell_type": "code",
   "execution_count": 6,
   "id": "0945a8db-440b-4a8c-a751-49b910c55a83",
   "metadata": {},
   "outputs": [
    {
     "name": "stderr",
     "output_type": "stream",
     "text": [
      "I0000 00:00:1742175268.109259 1433195 gpu_device.cc:2022] Created device /job:localhost/replica:0/task:0/device:GPU:0 with 4118 MB memory:  -> device: 0, name: NVIDIA GeForce RTX 3050 6GB Laptop GPU, pci bus id: 0000:01:00.0, compute capability: 8.6\n",
      "100%|██████████████████████████████████████████████████████████████████████████████████████████████████████████████████████████████████████████████████████████████████| 100/100 [4:17:06<00:00, 154.27s/it]\n"
     ]
    }
   ],
   "source": [
    "mri = np.load(\"OASIS - Small Dataset/mri_train_test.npz\")\n",
    "img_oasis = mri[\"images\"]\n",
    "run_bootstrap_distribution_oasis(\"haight\", None, img_oasis, start_index = 1, seed = 10)"
   ]
  }
 ],
 "metadata": {
  "kernelspec": {
   "display_name": "Python 3 (ipykernel)",
   "language": "python",
   "name": "python3"
  },
  "language_info": {
   "codemirror_mode": {
    "name": "ipython",
    "version": 3
   },
   "file_extension": ".py",
   "mimetype": "text/x-python",
   "name": "python",
   "nbconvert_exporter": "python",
   "pygments_lexer": "ipython3",
   "version": "3.10.16"
  }
 },
 "nbformat": 4,
 "nbformat_minor": 5
}

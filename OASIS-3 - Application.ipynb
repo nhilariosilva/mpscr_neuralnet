{
 "cells": [
  {
   "cell_type": "code",
   "execution_count": 1,
   "id": "913435f0-ba31-45ff-94c7-4e4ab50598b9",
   "metadata": {},
   "outputs": [
    {
     "name": "stderr",
     "output_type": "stream",
     "text": [
      "WARNING: All log messages before absl::InitializeLog() is called are written to STDERR\n",
      "E0000 00:00:1742729743.489278 4006786 cuda_dnn.cc:8310] Unable to register cuDNN factory: Attempting to register factory for plugin cuDNN when one has already been registered\n",
      "E0000 00:00:1742729743.492790 4006786 cuda_blas.cc:1418] Unable to register cuBLAS factory: Attempting to register factory for plugin cuBLAS when one has already been registered\n",
      "I0000 00:00:1742729745.354385 4006786 gpu_device.cc:2022] Created device /job:localhost/replica:0/task:0/device:GPU:0 with 4203 MB memory:  -> device: 0, name: NVIDIA GeForce RTX 3050 6GB Laptop GPU, pci bus id: 0000:01:00.0, compute capability: 8.6\n",
      "/home/natan/.pyenv/versions/3.10.16/lib/python3.10/site-packages/tqdm/auto.py:21: TqdmWarning: IProgress not found. Please update jupyter and ipywidgets. See https://ipywidgets.readthedocs.io/en/stable/user_install.html\n",
      "  from .autonotebook import tqdm as notebook_tqdm\n"
     ]
    }
   ],
   "source": [
    "import numpy as np\n",
    "import pandas as pd\n",
    "from matplotlib import pyplot as plt\n",
    "import seaborn as sns\n",
    "import random\n",
    "\n",
    "from time import time\n",
    "\n",
    "from scipy.special import comb, loggamma, lambertw\n",
    "from scipy.stats import multinomial, expon\n",
    "\n",
    "from silence_tensorflow import silence_tensorflow\n",
    "silence_tensorflow()\n",
    "import tensorflow as tf\n",
    "import tensorflow_probability as tfp\n",
    "\n",
    "config = tf.compat.v1.ConfigProto()\n",
    "config.gpu_options.allow_growth = True\n",
    "sess = tf.compat.v1.Session(config = config)\n",
    "\n",
    "import os, shutil\n",
    "from pathlib import Path\n",
    "import json\n",
    "import subprocess\n",
    "\n",
    "from net_model import *\n",
    "from custom_model import *\n",
    "from mps_models import *\n",
    "\n",
    "import mps\n",
    "import pwexp"
   ]
  },
  {
   "cell_type": "code",
   "execution_count": 2,
   "id": "a7f78a4b-c869-4514-affe-2b965729bad2",
   "metadata": {},
   "outputs": [],
   "source": [
    "mri = np.load(\"OASIS - Small Dataset/mri_train_test.npz\")\n",
    "img_oasis = mri[\"images\"]"
   ]
  },
  {
   "cell_type": "markdown",
   "id": "12ad238a-e9bc-4bf4-818b-9950f0c54fdb",
   "metadata": {},
   "source": [
    "# Basic functions to select the distribution and call the EM algorithm"
   ]
  },
  {
   "cell_type": "code",
   "execution_count": 3,
   "id": "d1a76890-0592-4409-960c-2538e19a34d9",
   "metadata": {},
   "outputs": [],
   "source": [
    "def select_model(distribution, q):\n",
    "    if(distribution == \"poisson\"):      \n",
    "        log_a_str = log_a_poisson_str\n",
    "        log_phi_str = log_phi_poisson_str\n",
    "        C_str = C_poisson_str\n",
    "        C_inv_str = C_inv_poisson_str\n",
    "        sup_str = sup_poisson_str\n",
    "        theta_min = None\n",
    "        theta_max = None\n",
    "    elif(distribution == \"logarithmic\"):\n",
    "        log_a_str = log_a_log_str\n",
    "        log_phi_str = log_phi_log_str\n",
    "        C_str = C_log_str\n",
    "        C_inv_str = C_inv_log_str\n",
    "        sup_str = sup_log_str\n",
    "        theta_min = 0\n",
    "        theta_max = 1\n",
    "    elif(distribution == \"nb\" or distribution == \"mvnb\"):\n",
    "        if(q is None):\n",
    "            raise Exception(\"Please, specify the fixed parameter (q) for the distribution.\")\n",
    "        # In the EM.py file, we must ensure that q is of type tf.float64 for it to work properly\n",
    "        q_argument = \"tf.constant({}, dtype = tf.float64)\".format(q)\n",
    "        log_a_str = log_a_mvnb_str.format(q_argument)\n",
    "        log_phi_str = log_phi_mvnb_str.format(q_argument)\n",
    "        C_str = C_mvnb_str.format(q_argument)\n",
    "        C_inv_str = C_inv_mvnb_str.format(q_argument)\n",
    "        sup_str = sup_mvnb_str.format(q_argument)\n",
    "        theta_min = None\n",
    "        theta_max = None\n",
    "    elif(distribution == \"geometric\"):\n",
    "        # In the EM.py file, we must ensure that q is of type tf.float64 for it to work properly\n",
    "        q_argument = \"tf.constant(1, dtype = tf.float64)\"\n",
    "        log_a_str = log_a_mvnb_str.format(q_argument)\n",
    "        log_phi_str = log_phi_mvnb_str.format(q_argument)\n",
    "        C_str = C_mvnb_str.format(q_argument)\n",
    "        C_inv_str = C_inv_mvnb_str.format(q_argument)\n",
    "        sup_str = sup_mvnb_str.format(q_argument)\n",
    "        theta_min = None\n",
    "        theta_max = None\n",
    "    elif(distribution == \"bin\" or distribution == \"binomial\"): \n",
    "        if(q is None):\n",
    "            raise Exception(\"Please, specify the fixed parameter (q) for the distribution.\")\n",
    "        # In the EM.py file, we must ensure that q is of type tf.float64 for it to work properly\n",
    "        q_argument = \"tf.constant({}, dtype = tf.float64)\".format(q)\n",
    "        log_a_str = log_a_bin_str.format(q_argument)\n",
    "        log_phi_str = log_phi_bin_str.format(q_argument)\n",
    "        C_str = C_bin_str.format(q_argument)\n",
    "        C_inv_str = C_inv_bin_str.format(q_argument)\n",
    "        sup_str = sup_bin_str.format(q_argument)\n",
    "        theta_min = 0\n",
    "        theta_max = 1\n",
    "    elif(distribution == \"bernoulli\"):\n",
    "        # In the EM.py file, we must ensure that q is of type tf.float64 for it to work properly\n",
    "        q_argument = \"tf.constant(1, dtype = tf.float64)\"\n",
    "        log_a_str = log_a_bin_str.format(q_argument)\n",
    "        log_phi_str = log_phi_bin_str.format(q_argument)\n",
    "        C_str = C_bin_str.format(q_argument)\n",
    "        C_inv_str = C_inv_bin_str.format(q_argument)\n",
    "        sup_str = sup_bin_str.format(q_argument)\n",
    "        theta_min = 0\n",
    "        theta_max = 1\n",
    "    elif(distribution == \"rgp\"):\n",
    "        if(q is None):\n",
    "            raise Exception(\"Please, specify the fixed parameter (q) for the distribution.\")\n",
    "        # In the EM.py file, we must ensure that q is of type tf.float64 for it to work properly\n",
    "        q_argument = \"tf.constant({}, dtype = tf.float64)\".format(q)\n",
    "        log_a_str = log_a_rgp_str.format(q_argument)\n",
    "        log_phi_str = log_phi_rgp_str.format(q_argument)\n",
    "        C_str = C_rgp_str.format(q_argument)\n",
    "        C_inv_str = C_inv_rgp_str.format(q_argument)\n",
    "        sup_str = sup_rgp_str.format(q_argument)\n",
    "        theta_min = 0\n",
    "        theta_max = np.abs(1/q)\n",
    "    elif(distribution == \"borel\"):\n",
    "        # In the EM.py file, we must ensure that q is of type tf.float64 for it to work properly\n",
    "        q_argument = \"tf.constant(1, dtype = tf.float64)\"\n",
    "        log_a_str = log_a_rgp_str.format(q_argument)\n",
    "        log_phi_str = log_phi_rgp_str.format(q_argument)\n",
    "        C_str = C_rgp_str.format(q_argument)\n",
    "        C_inv_str = C_inv_rgp_str.format(q_argument)\n",
    "        sup_str = sup_rgp_str.format(q_argument)\n",
    "        theta_min = 0\n",
    "        theta_max = 1\n",
    "    elif(distribution == \"geeta\"):\n",
    "        if(q is None):\n",
    "            raise Exception(\"Please, specify the fixed parameter (q) for the distribution.\")\n",
    "        # In the EM.py file, we must ensure that q is of type tf.float64 for it to work properly\n",
    "        q_argument = \"tf.constant({}, dtype = tf.float64)\".format(q)\n",
    "        log_a_str = log_a_geeta_str.format(q_argument)\n",
    "        log_phi_str = log_phi_geeta_str.format(q_argument)\n",
    "        C_str = C_geeta_str.format(q_argument)\n",
    "        C_inv_str = C_inv_geeta_str.format(q_argument)\n",
    "        sup_str = sup_geeta_str.format(q_argument)\n",
    "        theta_min = 0\n",
    "        theta_max = np.abs(1/q)\n",
    "    elif(distribution == \"haight\"):\n",
    "        # In the EM.py file, we must ensure that q is of type tf.float64 for it to work properly\n",
    "        q_argument = \"tf.constant(2, dtype = tf.float64)\"\n",
    "        log_a_str = log_a_geeta_str.format(q_argument)\n",
    "        log_phi_str = log_phi_geeta_str.format(q_argument)\n",
    "        C_str = C_geeta_str.format(q_argument)\n",
    "        C_inv_str = C_inv_geeta_str.format(q_argument)\n",
    "        sup_str = sup_geeta_str.format(q_argument)\n",
    "        theta_min = 0\n",
    "        theta_max = 1/2\n",
    "\n",
    "    return log_a_str, log_phi_str, C_str, C_inv_str, sup_str, theta_min, theta_max\n",
    "\n",
    "def fit_cure_model(distribution, q,\n",
    "                   t_train, t_val,\n",
    "                   delta_train, delta_val,\n",
    "                   img_train, img_val,\n",
    "                   max_iterations = 100,\n",
    "                   early_stopping_em = True, early_stopping_em_warmup = 5, early_stopping_em_eps = 1.0e-6,\n",
    "                   epochs = 100, batch_size = None, shuffle = True,\n",
    "                   learning_rate = 0.001, run_eagerly = False, gradient_accumulation_steps = None,\n",
    "                   early_stopping_nn = True, early_stopping_min_delta_nn = 0.0, early_stopping_patience_nn = 5,\n",
    "                   reduce_lr = True, reduce_lr_steps = 10, reduce_lr_factor = 0.1,\n",
    "                   verbose = 1, seed = 1):\n",
    "    alpha0, s_t = initialize_alpha_s(t_train, delta_train, n_cuts = 5)\n",
    "\n",
    "    # Select the MPS functions based on the chosen distribution\n",
    "    log_a_str, log_phi_str, C_str, C_inv_str, sup_str, theta_min, theta_max = select_model(distribution, q)\n",
    "\n",
    "    set_all_seeds(seed)\n",
    "    # Because it only serves to initialize the model weights, the distribution does not matter in this case (that's why we use the Poisson here)\n",
    "    dummy_mps_model = MPScrModel(log_a_poisson_tf, log_phi_poisson_tf, C_poisson_tf, C_inv_poisson_tf, sup_poisson)\n",
    "    dummy_mps_model.define_structure(shape_input = img_train[0].shape)\n",
    "\n",
    "    # If batch_size is None, use just one big batch\n",
    "    if(batch_size is None):\n",
    "        batch_size = len(t_train)\n",
    "    else:\n",
    "        if(gradient_accumulation_steps is None):\n",
    "            # If batch_size is not None, modify the gradient accumulation steps in order for the model\n",
    "            # to update the wegihts a single time each epoch. That is crucial to reduce batch noises, as we are\n",
    "            # trying to minimize a custom loss function based on the likelihood\n",
    "            n_train = len(t_train)\n",
    "            n_batches = int( np.ceil(n_train / batch_size) )\n",
    "            gradient_accumulation_steps = n_batches\n",
    "        \n",
    "    results = call_EM(\"EM.py\",\n",
    "                      log_a_str, log_phi_str, C_str, C_inv_str, sup_str, theta_min, theta_max,\n",
    "                      dummy_mps_model, alpha0, s_t,\n",
    "                      img_train, t_train, delta_train, delta_train,\n",
    "                      max_iterations = max_iterations,\n",
    "                      early_stopping_em = early_stopping_em, early_stopping_em_warmup = early_stopping_em_warmup, early_stopping_em_eps = early_stopping_em_eps,\n",
    "                      epochs = epochs, batch_size = batch_size, shuffle = shuffle,\n",
    "                      learning_rate = learning_rate, run_eagerly = run_eagerly, gradient_accumulation_steps = gradient_accumulation_steps,\n",
    "                      early_stopping_nn = early_stopping_nn, early_stopping_min_delta_nn = early_stopping_min_delta_nn, early_stopping_patience_nn = early_stopping_patience_nn,\n",
    "                      reduce_lr = reduce_lr, reduce_lr_steps = reduce_lr_steps, reduce_lr_factor = reduce_lr_factor,\n",
    "                      validation = True,\n",
    "                      x_val = img_val, t_val = t_val, delta_val = delta_val, m_val = delta_val,\n",
    "                      verbose = verbose, seed = seed, alpha_known = False)\n",
    "    results[\"s_t\"] = s_t\n",
    "    \n",
    "    return results"
   ]
  },
  {
   "cell_type": "code",
   "execution_count": 4,
   "id": "e48b0123-70d0-4d7d-b146-90fe66f20b4a",
   "metadata": {},
   "outputs": [
    {
     "name": "stdout",
     "output_type": "stream",
     "text": [
      "Creating directories structure\n"
     ]
    }
   ],
   "source": [
    "print(\"Creating directories structure\")\n",
    "dists = [\"poisson\", \"logarithmic\", \"geometric\", \"mvnb\", \"bernoulli\", \"bin\", \"rgp\", \"borel\", \"rgp\", \"haight\", \"geeta\"]\n",
    "for dist in dists:\n",
    "    for j in range(1,101):\n",
    "        Path(\"OASIS - Results2/{}/{}\".format(dist,j)).mkdir(parents=True, exist_ok=True)"
   ]
  },
  {
   "cell_type": "code",
   "execution_count": 5,
   "id": "cc31cba0-5865-45b2-a3eb-bb92dfbe6453",
   "metadata": {},
   "outputs": [],
   "source": [
    "def run_bootstrap_distribution_oasis(distribution, q, images, start_index = 1, seed = 10):\n",
    "    metadata_filename = \"OASIS - Results2/{}/sim_metadata.csv\".format(distribution)\n",
    "    # If metadata file exists, load it. If not, just initialize the metadata lists as empty\n",
    "    if( os.path.isfile(metadata_filename) ):\n",
    "        sim_metadata = pd.read_csv(metadata_filename)\n",
    "        # If start_index is less than the size of metadata, there might be an error on the call of this function\n",
    "        # It alerts that some information may be overwritten\n",
    "        if(start_index is None):\n",
    "            start_index = sim_metadata.shape[0]+1\n",
    "        elif(start_index < sim_metadata.shape[0]):\n",
    "            raise Exception(\"start_index is less than previously executed registers.\")\n",
    "            \n",
    "        execution_times = sim_metadata[\"execution_times\"].to_list()\n",
    "        loss_values = sim_metadata[\"loss_values\"].to_list()\n",
    "        loss_val_values = sim_metadata[\"loss_val_values\"].to_list()\n",
    "        converged = sim_metadata[\"converged\"].to_list()\n",
    "        steps = sim_metadata[\"steps\"].to_list()\n",
    "    else:\n",
    "        if(start_index is None):\n",
    "            start_index = 1\n",
    "        execution_times = []\n",
    "        loss_values = []\n",
    "        loss_val_values = []\n",
    "        converged = []\n",
    "        steps = []\n",
    "    \n",
    "    for i in tqdm(range(start_index, 101)):\n",
    "        df_sample = pd.read_csv(\"OASIS - Small Dataset/bootstrap_sample/sample_{}.csv\".format(i))\n",
    "\n",
    "        df_train = df_sample.loc[df_sample[\"set\"] == \"train\", :]\n",
    "        df_val = df_sample.loc[df_sample[\"set\"] == \"val\", :]\n",
    "        \n",
    "        t_train = df_train[\"time\"]\n",
    "        delta_train = df_train[\"delta\"]\n",
    "        img_train = images[ df_train[\"image_index\"] ]\n",
    "        t_val = df_val[\"time\"]\n",
    "        delta_val = df_val[\"delta\"]\n",
    "        img_val = images[ df_val[\"image_index\"] ]\n",
    "\n",
    "        start_time = time()\n",
    "        result = fit_cure_model(distribution, q,\n",
    "                                t_train, t_val,\n",
    "                                delta_train, delta_val,\n",
    "                                img_train, img_val,\n",
    "                                batch_size = 64, max_iterations = 60, early_stopping_em_eps = 1.0e-6,\n",
    "                                early_stopping_em_warmup = 10,\n",
    "                                learning_rate = 0.001, early_stopping_patience_nn = 10,\n",
    "                                reduce_lr = True, reduce_lr_steps = 12, reduce_lr_factor = 0.1,                                \n",
    "                                seed = seed, verbose = 0)\n",
    "        elapsed_time = time() - start_time\n",
    "        execution_times.append(elapsed_time)\n",
    "        # Save the model weights\n",
    "        result[\"new_model\"].save_model(\"OASIS - Results2/{}/{}/model.weights.h5\".format(distribution, i))\n",
    "\n",
    "        # Save the piecewise exponential estimated parameters\n",
    "        save_alpha_s(result[\"new_alpha\"], result[\"s_t\"], filename = \"OASIS - Results2/{}/{}/alpha_s.csv\".format(distribution, i))\n",
    "\n",
    "        loss_values.append( result[\"loss_history\"][-1] )\n",
    "        loss_val_values.append( result[\"loss_val_history\"][-1] )\n",
    "        converged.append( result[\"converged\"] )\n",
    "        steps.append( result[\"steps\"] )\n",
    "\n",
    "        pd.DataFrame({\"execution_times\": execution_times, \"loss_values\": loss_values, \"loss_val_values\": loss_val_values, \"converged\": converged, \"steps\": steps}).to_csv(\n",
    "            \"OASIS - Results2/{}/sim_metadata.csv\".format(distribution), index = False\n",
    "        )"
   ]
  },
  {
   "cell_type": "code",
   "execution_count": 6,
   "id": "b11c5a5a-f342-4a36-af1d-d6e937844321",
   "metadata": {},
   "outputs": [],
   "source": [
    "from sklearn.metrics import roc_curve, auc\n",
    "\n",
    "def ROC_estimate_FI(pred_p):\n",
    "    thresholds = np.unique(pred_p)\n",
    "    # Reshape the cure_probs array for broadcasting\n",
    "    pred_p = np.reshape(pred_p, (len(pred_p), 1))\n",
    "    tpr = np.sum( (pred_p <= thresholds) * (1-pred_p), axis = 0 ) / np.sum( 1-pred_p )\n",
    "    fpr = np.sum( (pred_p <= thresholds) * pred_p, axis = 0 ) / np.sum( pred_p )\n",
    "    return fpr, tpr, thresholds\n",
    "\n",
    "def AUC_estimate_FI(pred_p):\n",
    "    fpr, tpr, thresholds = ROC_estimate_FI(pred_p)\n",
    "    return auc(fpr, tpr)\n",
    "\n",
    "def ROC_estimate_MSI(pred_p, delta):\n",
    "    thresholds = np.unique(pred_p)\n",
    "    # Reshape the cure_probs array for broadcasting\n",
    "    pred_p = np.reshape(pred_p, (len(pred_p), 1))\n",
    "    \n",
    "    pred_v = np.ones_like(pred_p)\n",
    "    pred_y = np.ones_like(pred_p)\n",
    "    pred_v[delta == 1] = 1\n",
    "    pred_y[delta == 1] = 1\n",
    "    pred_v[delta == 0] = 0\n",
    "    pred_y[delta == 0] = -1 # If delta_i is zero, then v_i = 0 and therefore y_i is unknown\n",
    "    \n",
    "    tpr = np.sum( (pred_p <= thresholds) * (pred_v * pred_y + (1-pred_v)*(1-pred_p)), axis = 0 ) / np.sum( (pred_v * pred_y + (1-pred_v)*(1-pred_p)) )\n",
    "    fpr = np.sum( (pred_p <= thresholds) * (pred_v * (1-pred_y) + (1-pred_v)*pred_p), axis = 0 ) / np.sum( pred_v * (1-pred_y) + (1-pred_v)*pred_p )\n",
    "    return fpr, tpr, thresholds\n",
    "\n",
    "def AUC_estimate_MSI(pred_p, delta):\n",
    "    fpr, tpr, thresholds = ROC_estimate_MSI(pred_p, delta)\n",
    "    return auc(fpr, tpr)"
   ]
  },
  {
   "cell_type": "markdown",
   "id": "902e4bcc-3112-42c8-9f5d-3d3b93d12be8",
   "metadata": {},
   "source": [
    "In the last run of applications of different models to the OASIS-3 dataset, there were several problems related to the convergence of the neural networks. Although the estimates for the competing risks parameters seemed to converge quite close to previous results from the literature, the actual neural network prediction was a constant for all subjects. That is most certainly related to the weights initialization in the keras model. In this notebook, we consider the standard GlorotUniform as a layers initializer, which seems to result in good results. Oe example can be seen below. Note that this specific data resulted in the constant prediction in the geometric distribution case."
   ]
  },
  {
   "cell_type": "markdown",
   "id": "d52b99c9-d5d7-4c79-a8c3-38f6840953b0",
   "metadata": {},
   "source": [
    "### Application example"
   ]
  },
  {
   "cell_type": "code",
   "execution_count": 7,
   "id": "8cd8947c-d992-4a26-8ea0-4f29e0735f51",
   "metadata": {},
   "outputs": [
    {
     "name": "stderr",
     "output_type": "stream",
     "text": [
      "I0000 00:00:1742416421.946823 3070617 gpu_device.cc:2022] Created device /job:localhost/replica:0/task:0/device:GPU:0 with 4203 MB memory:  -> device: 0, name: NVIDIA GeForce RTX 3050 6GB Laptop GPU, pci bus id: 0000:01:00.0, compute capability: 8.6\n",
      "WARNING: All log messages before absl::InitializeLog() is called are written to STDERR\n",
      "E0000 00:00:1742416423.194790 3070766 cuda_dnn.cc:8310] Unable to register cuDNN factory: Attempting to register factory for plugin cuDNN when one has already been registered\n",
      "E0000 00:00:1742416423.198351 3070766 cuda_blas.cc:1418] Unable to register cuBLAS factory: Attempting to register factory for plugin cuBLAS when one has already been registered\n",
      "I0000 00:00:1742416425.600410 3070766 gpu_device.cc:2022] Created device /job:localhost/replica:0/task:0/device:GPU:0 with 4102 MB memory:  -> device: 0, name: NVIDIA GeForce RTX 3050 6GB Laptop GPU, pci bus id: 0000:01:00.0, compute capability: 8.6\n",
      "I0000 00:00:1742416425.693646 3070766 gpu_device.cc:2022] Created device /job:localhost/replica:0/task:0/device:GPU:0 with 4102 MB memory:  -> device: 0, name: NVIDIA GeForce RTX 3050 6GB Laptop GPU, pci bus id: 0000:01:00.0, compute capability: 8.6\n",
      "I0000 00:00:1742416427.993024 3070844 cuda_dnn.cc:529] Loaded cuDNN version 90300\n",
      " 21%|██        | 21/100 [00:09<00:37,  2.13epoch/s, loss=0.15, loss_val=0.787] \n",
      " 16%|█▌        | 16/100 [00:06<00:33,  2.53epoch/s, loss=0.273, loss_val=0.846]\n",
      " 11%|█         | 11/100 [00:04<00:37,  2.38epoch/s, loss=0.375, loss_val=0.9] \n",
      " 13%|█▎        | 13/100 [00:05<00:35,  2.45epoch/s, loss=0.362, loss_val=0.909]\n",
      " 13%|█▎        | 13/100 [00:05<00:37,  2.35epoch/s, loss=0.405, loss_val=0.907]\n",
      " 13%|█▎        | 13/100 [00:05<00:35,  2.46epoch/s, loss=0.587, loss_val=1.05]\n",
      " 13%|█▎        | 13/100 [00:05<00:35,  2.45epoch/s, loss=0.67, loss_val=1.11] \n",
      " 13%|█▎        | 13/100 [00:05<00:35,  2.47epoch/s, loss=0.744, loss_val=1.15]\n",
      " 13%|█▎        | 13/100 [00:05<00:35,  2.44epoch/s, loss=0.782, loss_val=1.19]\n",
      " 13%|█▎        | 13/100 [00:05<00:35,  2.45epoch/s, loss=0.875, loss_val=1.27]\n",
      " 13%|█▎        | 13/100 [00:05<00:35,  2.46epoch/s, loss=0.959, loss_val=1.36]\n",
      " 13%|█▎        | 13/100 [00:05<00:35,  2.45epoch/s, loss=0.985, loss_val=1.38]\n",
      " 12%|█▏        | 12/100 [00:05<00:36,  2.40epoch/s, loss=1.09, loss_val=1.53]\n",
      " 12%|█▏        | 12/100 [00:04<00:36,  2.42epoch/s, loss=1.04, loss_val=1.48]\n"
     ]
    },
    {
     "name": "stdout",
     "output_type": "stream",
     "text": [
      "Algoritmo convergiu após 14 iterações. Retornando.\n",
      "Número de arquivos no diretório: 14\n"
     ]
    }
   ],
   "source": [
    "i = 3\n",
    "distribution = \"geometric\"\n",
    "q = None\n",
    "\n",
    "df_sample = pd.read_csv(\"OASIS - Small Dataset/bootstrap_sample/sample_{}.csv\".format(i))\n",
    "\n",
    "df_train = df_sample.loc[df_sample[\"set\"] == \"train\", :]\n",
    "df_val = df_sample.loc[df_sample[\"set\"] == \"val\", :]\n",
    "t_train = df_train[\"time\"]\n",
    "delta_train = df_train[\"delta\"]\n",
    "img_train = img_oasis[ df_train[\"image_index\"] ]\n",
    "t_val = df_val[\"time\"]\n",
    "delta_val = df_val[\"delta\"]\n",
    "img_val = img_oasis[ df_val[\"image_index\"] ]\n",
    "\n",
    "start_time = time()\n",
    "result = fit_cure_model(distribution, q,\n",
    "                        t_train, t_val,\n",
    "                        delta_train, delta_val,\n",
    "                        img_train, img_val,\n",
    "                        batch_size = 64, max_iterations = 60, early_stopping_em_eps = 1.0e-6,\n",
    "                        early_stopping_em_warmup = 10,\n",
    "                        learning_rate = 0.001, early_stopping_patience_nn = 10,\n",
    "                        reduce_lr = True, reduce_lr_steps = 12, reduce_lr_factor = 0.1,                                \n",
    "                        seed = 10, verbose = 1)\n",
    "elapsed_time = time() - start_time"
   ]
  },
  {
   "cell_type": "code",
   "execution_count": 8,
   "id": "fc9c12e4-81a2-4e8d-af80-7349d0044035",
   "metadata": {},
   "outputs": [
    {
     "name": "stderr",
     "output_type": "stream",
     "text": [
      "I0000 00:00:1742416516.579179 3070736 cuda_dnn.cc:529] Loaded cuDNN version 90300\n"
     ]
    },
    {
     "name": "stdout",
     "output_type": "stream",
     "text": [
      "0.7588096992218073\n"
     ]
    },
    {
     "data": {
      "image/png": "[encoded data removed]",
      "text/plain": [
       "<Figure size 1200x600 with 2 Axes>"
      ]
     },
     "metadata": {},
     "output_type": "display_data"
    }
   ],
   "source": [
    "pred_eta = result[\"new_model\"].predict(img_oasis, verbose = 0)\n",
    "pred_p = result[\"new_model\"].link_func( pred_eta ).numpy().flatten()\n",
    "pred_m = update_m_mps(result[\"new_model\"], result[\"new_alpha\"], result[\"s_t\"], img_oasis, df_sample[\"time\"].to_numpy().flatten(), df_sample[\"delta\"].to_numpy().flatten())\n",
    "\n",
    "df_results = pd.DataFrame({\"t\": df_sample[\"time\"], \"delta\": df_sample[\"delta\"], \"pred_p\": pred_p, \"set\": df_sample[\"set\"]})\n",
    "AUC_test = AUC_estimate_MSI( df_results.loc[df_results[\"set\"] == \"test\", \"pred_p\"].to_numpy().flatten(), df_results.loc[df_results[\"set\"] == \"test\", \"delta\"].to_numpy().flatten() )\n",
    "print(AUC_test)\n",
    "\n",
    "fig, ax = plt.subplots(nrows = 1, ncols = 2, figsize = (12,6))\n",
    "\n",
    "sns.histplot(x = \"pred_p\", hue = \"delta\", data = df_results, ax = ax[0])\n",
    "\n",
    "tv = np.arange(0, 12, 0.1)\n",
    "S1_tv = S1(tv, result[\"new_alpha\"], result[\"s_t\"])\n",
    "\n",
    "s_t_xie = np.array([0, 2.062, 3.36, 4.495, 6.32, 12.2])\n",
    "alpha_xie = np.array([0.02872308, 0.04870019, 0.10390695, 0.16946955, 0.5868493 , 1])\n",
    "S1_tv_xie = S1(tv, alpha_xie, s_t_xie)\n",
    "\n",
    "ax[1].plot(tv, S1_tv)\n",
    "ax[1].plot(tv, S1_tv_xie)\n",
    "\n",
    "plt.show()"
   ]
  },
  {
   "cell_type": "code",
   "execution_count": 9,
   "id": "449035ac-4c1b-4054-8377-55133695c90d",
   "metadata": {},
   "outputs": [
    {
     "name": "stdout",
     "output_type": "stream",
     "text": [
      "AUC FI: 0.8526256285515704\n",
      "AUC MSI: 0.7879257168748948\n"
     ]
    },
    {
     "data": {
      "image/png": "[encoded data removed]",
      "text/plain": [
       "<Figure size 640x480 with 1 Axes>"
      ]
     },
     "metadata": {},
     "output_type": "display_data"
    }
   ],
   "source": [
    "pred_p = result[\"new_model\"].link_func( pred_eta ).numpy().flatten()\n",
    "pred_p_train = pred_p[ df_sample[\"set\"] == \"train\" ]\n",
    "\n",
    "delta_train = df_sample.loc[df_sample[\"set\"] == \"train\", \"delta\"]\n",
    "\n",
    "fpr_FI, tpr_FI, thresholds_FI = ROC_estimate_FI(pred_p_train)\n",
    "fpr_MSI, tpr_MSI, thresholds_MSI = ROC_estimate_MSI(pred_p_train, delta_train)\n",
    "\n",
    "print(\"AUC FI: {}\".format(AUC_estimate_FI(pred_p_train)))\n",
    "print(\"AUC MSI: {}\".format(AUC_estimate_MSI(pred_p_train, delta_train)))\n",
    "\n",
    "plt.plot([0,1], [0,1], linestyle = \"dashed\", color = \"black\")\n",
    "plt.plot(fpr_FI, tpr_FI, label = \"FI\")\n",
    "plt.plot(fpr_MSI, tpr_MSI, label = \"MSI\")\n",
    "plt.legend()\n",
    "plt.show()"
   ]
  },
  {
   "cell_type": "markdown",
   "id": "de2ecacb-9aca-44e9-a3d8-7a9dcc80f71b",
   "metadata": {},
   "source": [
    "# Distributions with a single parameter, $\\theta$"
   ]
  },
  {
   "cell_type": "markdown",
   "id": "e5df1b32-8b8d-4014-baeb-c80b1608cb3b",
   "metadata": {},
   "source": [
    "In the following cells, we fit the MPScr-NN model to all 100 bootstrap samples considering the distributions that are uniparametric, i.e. does not depend on the extra parameter, q. Those are:\n",
    "* Poisson\n",
    "* Geometric\n",
    "* Bernoulli\n",
    "* Borel\n",
    "* Haight\n",
    "* Logarithmic"
   ]
  },
  {
   "cell_type": "code",
   "execution_count": 7,
   "id": "33eb7a8e-a80b-4720-b5f6-803c1e6e0069",
   "metadata": {},
   "outputs": [
    {
     "name": "stderr",
     "output_type": "stream",
     "text": [
      "I0000 00:00:1742484892.966661    4936 gpu_device.cc:2022] Created device /job:localhost/replica:0/task:0/device:GPU:0 with 4203 MB memory:  -> device: 0, name: NVIDIA GeForce RTX 3050 6GB Laptop GPU, pci bus id: 0000:01:00.0, compute capability: 8.6\n",
      "100%|████████████████████████████████████████████████████████████████████████████████████████████████████████████████████████████████████████████████████████████████████| 85/85 [4:08:32<00:00, 175.44s/it]\n"
     ]
    }
   ],
   "source": [
    "mri = np.load(\"OASIS - Small Dataset/mri_train_test.npz\")\n",
    "img_oasis = mri[\"images\"]\n",
    "run_bootstrap_distribution_oasis(\"poisson\", None, img_oasis, start_index = None, seed = 10)"
   ]
  },
  {
   "cell_type": "code",
   "execution_count": 8,
   "id": "aef955df-7ad7-4bce-80f1-2d659e86b7ec",
   "metadata": {},
   "outputs": [
    {
     "name": "stderr",
     "output_type": "stream",
     "text": [
      "I0000 00:00:1742548782.053129    4733 gpu_device.cc:2022] Created device /job:localhost/replica:0/task:0/device:GPU:0 with 4203 MB memory:  -> device: 0, name: NVIDIA GeForce RTX 3050 6GB Laptop GPU, pci bus id: 0000:01:00.0, compute capability: 8.6\n",
      "100%|████████████████████████████████████████████████████████████████████████████████████████████████████████████████████████████████████████████████████████████████████| 57/57 [2:42:00<00:00, 170.53s/it]\n"
     ]
    }
   ],
   "source": [
    "mri = np.load(\"OASIS - Small Dataset/mri_train_test.npz\")\n",
    "img_oasis = mri[\"images\"]\n",
    "run_bootstrap_distribution_oasis(\"geometric\", None, img_oasis, start_index = None, seed = 10)"
   ]
  },
  {
   "cell_type": "code",
   "execution_count": 9,
   "id": "ac4bcbf7-dc9d-4ef3-bf04-164b1cc47313",
   "metadata": {},
   "outputs": [
    {
     "name": "stderr",
     "output_type": "stream",
     "text": [
      "100%|████████████████████████████████████████████████████████████████████████████████████████████████████████████████████████████████████████████████████████████████████| 85/85 [2:49:29<00:00, 119.64s/it]\n"
     ]
    }
   ],
   "source": [
    "mri = np.load(\"OASIS - Small Dataset/mri_train_test.npz\")\n",
    "img_oasis = mri[\"images\"]\n",
    "run_bootstrap_distribution_oasis(\"bernoulli\", None, img_oasis, start_index = None, seed = 10)"
   ]
  },
  {
   "cell_type": "code",
   "execution_count": 10,
   "id": "3e5f2ff6-fab6-4986-844e-dd9e2eab716a",
   "metadata": {},
   "outputs": [
    {
     "name": "stderr",
     "output_type": "stream",
     "text": [
      "100%|████████████████████████████████████████████████████████████████████████████████████████████████████████████████████████████████████████████████████████████████████| 85/85 [3:52:32<00:00, 164.15s/it]\n"
     ]
    }
   ],
   "source": [
    "mri = np.load(\"OASIS - Small Dataset/mri_train_test.npz\")\n",
    "img_oasis = mri[\"images\"]\n",
    "run_bootstrap_distribution_oasis(\"borel\", None, img_oasis, start_index = None, seed = 10)"
   ]
  },
  {
   "cell_type": "code",
   "execution_count": 7,
   "id": "0945a8db-440b-4a8c-a751-49b910c55a83",
   "metadata": {},
   "outputs": [
    {
     "name": "stderr",
     "output_type": "stream",
     "text": [
      "I0000 00:00:1742622157.009696    4762 gpu_device.cc:2022] Created device /job:localhost/replica:0/task:0/device:GPU:0 with 4203 MB memory:  -> device: 0, name: NVIDIA GeForce RTX 3050 6GB Laptop GPU, pci bus id: 0000:01:00.0, compute capability: 8.6\n",
      "100%|████████████████████████████████████████████████████████████████████████████████████████████████████████████████████████████████████████████████████████████████████| 77/77 [3:17:58<00:00, 154.26s/it]\n"
     ]
    }
   ],
   "source": [
    "mri = np.load(\"OASIS - Small Dataset/mri_train_test.npz\")\n",
    "img_oasis = mri[\"images\"]\n",
    "run_bootstrap_distribution_oasis(\"haight\", None, img_oasis, start_index = None, seed = 10)"
   ]
  },
  {
   "cell_type": "code",
   "execution_count": 8,
   "id": "3dd7235f-60d0-44a5-9d37-58b3458a4d21",
   "metadata": {},
   "outputs": [
    {
     "name": "stderr",
     "output_type": "stream",
     "text": [
      "100%|████████████████████████████████████████████████████████████████████████████████████████████████████████████████████████████████████████████████████████████████████| 85/85 [4:28:22<00:00, 189.44s/it]\n"
     ]
    }
   ],
   "source": [
    "mri = np.load(\"OASIS - Small Dataset/mri_train_test.npz\")\n",
    "img_oasis = mri[\"images\"]\n",
    "run_bootstrap_distribution_oasis(\"logarithmic\", None, img_oasis, start_index = None, seed = 10)"
   ]
  },
  {
   "cell_type": "markdown",
   "id": "a8ba031f-f0dc-4283-9eac-21040404eafd",
   "metadata": {},
   "source": [
    "# Distributions with two parameters, $\\theta$ and $q$"
   ]
  },
  {
   "cell_type": "markdown",
   "id": "4375738b-1a56-4f2e-8406-468cc4d51422",
   "metadata": {},
   "source": [
    "Now that we ran all the cases where there was only one parameter, in order for us to estimate the second, fixed parameter $q$ in the other cases, we will be using a fixed OASIS-3 bootstrap sample to determine that estimation.\n",
    "\n",
    "Below, we use the same piece of code to generate a bootstrap sample that was used to generate all the 100 replicas. We generate a single sample in order to estimate the value for the parameter $q$ through the profiled log-likelihood method."
   ]
  },
  {
   "cell_type": "code",
   "execution_count": 7,
   "id": "44776f15-5610-48e1-bbeb-4942c59a43f1",
   "metadata": {},
   "outputs": [
    {
     "data": {
      "text/html": [
       "<div>\n",
       "<style scoped>\n",
       "    .dataframe tbody tr th:only-of-type {\n",
       "        vertical-align: middle;\n",
       "    }\n",
       "\n",
       "    .dataframe tbody tr th {\n",
       "        vertical-align: top;\n",
       "    }\n",
       "\n",
       "    .dataframe thead th {\n",
       "        text-align: right;\n",
       "    }\n",
       "</style>\n",
       "<table border=\"1\" class=\"dataframe\">\n",
       "  <thead>\n",
       "    <tr style=\"text-align: right;\">\n",
       "      <th></th>\n",
       "      <th>time</th>\n",
       "      <th>delta</th>\n",
       "      <th>image_index</th>\n",
       "      <th>set</th>\n",
       "    </tr>\n",
       "  </thead>\n",
       "  <tbody>\n",
       "    <tr>\n",
       "      <th>0</th>\n",
       "      <td>4.030137</td>\n",
       "      <td>0</td>\n",
       "      <td>63</td>\n",
       "      <td>train</td>\n",
       "    </tr>\n",
       "    <tr>\n",
       "      <th>1</th>\n",
       "      <td>5.158904</td>\n",
       "      <td>1</td>\n",
       "      <td>166</td>\n",
       "      <td>train</td>\n",
       "    </tr>\n",
       "    <tr>\n",
       "      <th>2</th>\n",
       "      <td>8.936986</td>\n",
       "      <td>0</td>\n",
       "      <td>247</td>\n",
       "      <td>train</td>\n",
       "    </tr>\n",
       "    <tr>\n",
       "      <th>3</th>\n",
       "      <td>2.893151</td>\n",
       "      <td>0</td>\n",
       "      <td>112</td>\n",
       "      <td>train</td>\n",
       "    </tr>\n",
       "    <tr>\n",
       "      <th>4</th>\n",
       "      <td>7.120548</td>\n",
       "      <td>0</td>\n",
       "      <td>283</td>\n",
       "      <td>train</td>\n",
       "    </tr>\n",
       "  </tbody>\n",
       "</table>\n",
       "</div>"
      ],
      "text/plain": [
       "       time  delta  image_index    set\n",
       "0  4.030137      0           63  train\n",
       "1  5.158904      1          166  train\n",
       "2  8.936986      0          247  train\n",
       "3  2.893151      0          112  train\n",
       "4  7.120548      0          283  train"
      ]
     },
     "execution_count": 7,
     "metadata": {},
     "output_type": "execute_result"
    }
   ],
   "source": [
    "df_oasis = pd.read_csv(\"OASIS - Small Dataset/train_test_data.csv\")\n",
    "\n",
    "n_train = 246\n",
    "n_val = 53\n",
    "n_test = 53\n",
    "\n",
    "np.random.seed(20)\n",
    "images_indices = np.arange(df_oasis.shape[0])\n",
    "df_oasis[\"image_index\"] = images_indices\n",
    "\n",
    "# Sample the indices for the validation set\n",
    "val_indices = np.random.choice( np.arange( df_oasis.shape[0] ), size = n_val, replace = True )\n",
    "df_val = df_oasis.iloc[val_indices, :].reset_index(drop = True)\n",
    "# Remove the validation set indices from the complete dataset\n",
    "val_indices = np.unique(val_indices)\n",
    "df_oasis = df_oasis.iloc[ ~np.isin(np.arange(df_oasis.shape[0]), val_indices ), : ].reset_index(drop = True)\n",
    "\n",
    "# Sample the indices for the test set\n",
    "test_indices = np.random.choice( np.arange( df_oasis.shape[0] ), size = n_test, replace = True )\n",
    "df_test = df_oasis.iloc[test_indices, :].reset_index(drop = True)\n",
    "# Remove the test set indices from the complete dataset\n",
    "test_indices = np.unique(test_indices)\n",
    "df = df_oasis.iloc[ ~np.isin(np.arange(df_oasis.shape[0]), test_indices ), : ].reset_index(drop = True)\n",
    "\n",
    "train_indices = np.random.choice( np.arange( df_oasis.shape[0] ), size = n_train, replace = True )\n",
    "df_train = df_oasis.iloc[train_indices, :].reset_index(drop = True)\n",
    "\n",
    "df_train[\"set\"] = \"train\"\n",
    "df_val[\"set\"] = \"val\"\n",
    "df_test[\"set\"] = \"test\"\n",
    "df_sample = pd.concat([df_train, df_val, df_test]).reset_index(drop = True)\n",
    "df_sample = df_sample.loc[:, [\"time\", \"delta\", \"image_index\", \"set\"]]\n",
    "df_sample.head()"
   ]
  },
  {
   "cell_type": "code",
   "execution_count": 8,
   "id": "e12b4dae-585f-41bb-a22d-d25dba2a7e8f",
   "metadata": {},
   "outputs": [],
   "source": [
    "def likelihood_estimate_q_oasis(distribution, q_values, images, df_sample, seed = 10):\n",
    "    df_train = df_sample.loc[df_sample[\"set\"] == \"train\", :]\n",
    "    df_val = df_sample.loc[df_sample[\"set\"] == \"val\", :]\n",
    "    df_test = df_sample.loc[df_sample[\"set\"] == \"test\", :]\n",
    "    \n",
    "    t_train = df_train[\"time\"]\n",
    "    delta_train = df_train[\"delta\"]\n",
    "    img_train = images[ df_train[\"image_index\"] ]\n",
    "    t_val = df_val[\"time\"]\n",
    "    delta_val = df_val[\"delta\"]\n",
    "    img_val = images[ df_val[\"image_index\"] ]\n",
    "    t_test = df_test[\"time\"]\n",
    "    delta_test = df_test[\"delta\"]\n",
    "    img_test = images[ df_test[\"image_index\"] ]\n",
    "\n",
    "    loglikelihood_values = []\n",
    "    for q in tqdm(q_values):\n",
    "        log_a_str, log_phi_str, C_str, C_inv_str, sup_str, theta_min, theta_max = select_model(distribution, q)\n",
    "        log_a_tf = eval(log_a_str)\n",
    "        log_phi_tf = eval(log_phi_str)\n",
    "        C_tf = eval(C_str)\n",
    "        C_inv_tf = eval(C_inv_str)\n",
    "        sup_tf = eval(sup_str)\n",
    "        \n",
    "        result = fit_cure_model(distribution, q,\n",
    "                                t_train, t_val,\n",
    "                                delta_train, delta_val,\n",
    "                                img_train, img_val,\n",
    "                                batch_size = 64, max_iterations = 60, early_stopping_em_eps = 1.0e-6,\n",
    "                                early_stopping_em_warmup = 10,\n",
    "                                learning_rate = 0.001, early_stopping_patience_nn = 10,\n",
    "                                reduce_lr = True, reduce_lr_steps = 12, reduce_lr_factor = 0.1,                                \n",
    "                                seed = seed, verbose = 0)\n",
    "    \n",
    "        pred_alpha = result[\"new_alpha\"]\n",
    "        s_t = result[\"s_t\"]\n",
    "        # ----------------------- Join everything in a single table -----------------------\n",
    "        log_a_0 = log_a_tf(tf.constant(0.0, dtype = tf.float64))\n",
    "        \n",
    "        # Obtain all the predictions made using the trained model\n",
    "        pred_eta_test = result[\"new_model\"].predict(img_test, verbose = 0)\n",
    "        pred_p_test = result[\"new_model\"].link_func( pred_eta_test ).numpy().flatten()\n",
    "        pred_log_p_test = np.log(pred_p_test)\n",
    "        pred_theta_test = C_inv_tf( np.exp( log_a_0 - pred_log_p_test ) ).numpy().flatten()\n",
    "    \n",
    "        pred_m_test = update_m_mps(result[\"new_model\"], pred_alpha, s_t, img_test, t_test, delta_test)\n",
    "        pred_S1_test = S1(t_test, pred_alpha, s_t)\n",
    "        pred_f1_test = f1(t_test, pred_alpha, s_t)\n",
    "        \n",
    "        pred_Spop = Spop(t_test, pred_alpha, s_t, log_a_tf, log_phi_tf, pred_theta_test, sup_tf)\n",
    "        pred_fpop = fpop(t_test, pred_alpha, s_t, log_a_tf, log_phi_tf, pred_theta_test, sup_tf)\n",
    "\n",
    "        loglik_pred_test = np.sum( delta_test*np.log(pred_fpop) + (1-delta_test)*np.log(pred_Spop) )\n",
    "\n",
    "        loglikelihood_values.append( loglik_pred_test )\n",
    "    return loglikelihood_values"
   ]
  },
  {
   "cell_type": "code",
   "execution_count": 9,
   "id": "7456b3ae-9762-49f5-bf46-f241712ae847",
   "metadata": {},
   "outputs": [],
   "source": [
    "def select_q_oasis(q_values, log_likelihood_values):\n",
    "    i_max = np.argmax(log_likelihood_values)\n",
    "    print(\"q values: {}\".format(q_values))\n",
    "    print(\"log-likelihood values: {}\".format(log_likelihood_values))\n",
    "    print(\"The value for q that maximizes the profiled likelihood is q = {}\".format(q_values[i_max]))"
   ]
  },
  {
   "cell_type": "markdown",
   "id": "bf544303-c5b4-4d32-8697-ce9c1b418057",
   "metadata": {},
   "source": [
    "### Negative Binomial(q)"
   ]
  },
  {
   "cell_type": "markdown",
   "id": "7a8ba334-6829-4203-830b-521c428fa9c1",
   "metadata": {},
   "source": [
    "Let's start with the Mean-Variance Negative Binomial distribution. First, we will explore the log-likelihood values for the q values in a raw grid. Depending on the results, we will get finer grids to estimate it properly."
   ]
  },
  {
   "cell_type": "code",
   "execution_count": 11,
   "id": "dba2b59e-2a45-4881-9632-a1de382bf87e",
   "metadata": {},
   "outputs": [
    {
     "name": "stderr",
     "output_type": "stream",
     "text": [
      "I0000 00:00:1742706364.412997 2940355 gpu_device.cc:2022] Created device /job:localhost/replica:0/task:0/device:GPU:0 with 4203 MB memory:  -> device: 0, name: NVIDIA GeForce RTX 3050 6GB Laptop GPU, pci bus id: 0000:01:00.0, compute capability: 8.6\n",
      "I0000 00:00:1742706568.646676 2940457 cuda_dnn.cc:529] Loaded cuDNN version 90300\n",
      "100%|████████████████████████████████████████████████████████████████████████████████████████████████████████████████████████████████████████████████████████████████████████| 5/5 [14:28<00:00, 173.78s/it]"
     ]
    },
    {
     "name": "stdout",
     "output_type": "stream",
     "text": [
      "q values: [0.1 0.5 1.  1.5 2. ]\n",
      "log-likelihood values: [-25.420282951795468, -29.324678396147842, -30.28816034009138, -29.89729559147063, -30.810060947657597]\n",
      "The value for q that maximizes the profiled likelihood is q = 0.1\n"
     ]
    },
    {
     "name": "stderr",
     "output_type": "stream",
     "text": [
      "\n"
     ]
    }
   ],
   "source": [
    "q_values = np.array([0.1, 0.5, 1.0, 1.5, 2.0])\n",
    "log_likelihood_values = likelihood_estimate_q_oasis(\"mvnb\", q_values, img_oasis, df_sample, seed = 10)\n",
    "select_q_oasis(q_values, log_likelihood_values)"
   ]
  },
  {
   "cell_type": "code",
   "execution_count": 12,
   "id": "6c988ce6-4875-4e42-a052-453778d4f730",
   "metadata": {},
   "outputs": [
    {
     "name": "stderr",
     "output_type": "stream",
     "text": [
      "100%|████████████████████████████████████████████████████████████████████████████████████████████████████████████████████████████████████████████████████████████████████████| 3/3 [11:20<00:00, 226.76s/it]"
     ]
    },
    {
     "name": "stdout",
     "output_type": "stream",
     "text": [
      "q values: [0.01 0.05 0.09]\n",
      "log-likelihood values: [-25.53756338742377, -25.92337456798743, -25.964084078189398]\n",
      "The value for q that maximizes the profiled likelihood is q = 0.01\n"
     ]
    },
    {
     "name": "stderr",
     "output_type": "stream",
     "text": [
      "\n"
     ]
    }
   ],
   "source": [
    "q_values2 = np.array([0.01, 0.05, 0.09])\n",
    "log_likelihood_values2 = likelihood_estimate_q_oasis(\"mvnb\", q_values2, img_oasis, df_sample, seed = 10)\n",
    "select_q_oasis(q_values2, log_likelihood_values2)"
   ]
  },
  {
   "cell_type": "code",
   "execution_count": 13,
   "id": "10b269b9-4257-4075-9445-aa7208c56247",
   "metadata": {},
   "outputs": [
    {
     "name": "stderr",
     "output_type": "stream",
     "text": [
      "100%|████████████████████████████████████████████████████████████████████████████████████████████████████████████████████████████████████████████████████████████████████████| 4/4 [12:32<00:00, 188.06s/it]"
     ]
    },
    {
     "name": "stdout",
     "output_type": "stream",
     "text": [
      "q values: [0.001 0.005 0.009 0.011]\n",
      "log-likelihood values: [-26.88428265382325, -23.870082161824396, -25.20728131853897, -25.77372380607053]\n",
      "The value for q that maximizes the profiled likelihood is q = 0.005\n"
     ]
    },
    {
     "name": "stderr",
     "output_type": "stream",
     "text": [
      "\n"
     ]
    }
   ],
   "source": [
    "q_values3 = np.array([0.001, 0.005, 0.009, 0.011])\n",
    "log_likelihood_values3 = likelihood_estimate_q_oasis(\"mvnb\", q_values3, img_oasis, df_sample, seed = 10)\n",
    "select_q_oasis(q_values3, log_likelihood_values3)"
   ]
  },
  {
   "cell_type": "code",
   "execution_count": 14,
   "id": "d6047154-28ac-496b-bb29-d07ac1847878",
   "metadata": {},
   "outputs": [
    {
     "name": "stderr",
     "output_type": "stream",
     "text": [
      "100%|████████████████████████████████████████████████████████████████████████████████████████████████████████████████████████████████████████████████████████████████████████| 4/4 [14:38<00:00, 219.68s/it]"
     ]
    },
    {
     "name": "stdout",
     "output_type": "stream",
     "text": [
      "q values: [0.003 0.004 0.006 0.007]\n",
      "log-likelihood values: [-24.639112538031906, -26.744682879033952, -25.459392901809775, -27.623917774685488]\n",
      "The value for q that maximizes the profiled likelihood is q = 0.003\n"
     ]
    },
    {
     "name": "stderr",
     "output_type": "stream",
     "text": [
      "\n"
     ]
    }
   ],
   "source": [
    "q_values4 = np.array([0.003, 0.004, 0.006, 0.007])\n",
    "log_likelihood_values4 = likelihood_estimate_q_oasis(\"mvnb\", q_values4, img_oasis, df_sample, seed = 10)\n",
    "select_q_oasis(q_values4, log_likelihood_values4)"
   ]
  },
  {
   "cell_type": "code",
   "execution_count": 17,
   "id": "a6075009-e674-4493-945b-9f207c928d63",
   "metadata": {},
   "outputs": [
    {
     "data": {
      "image/png": "[encoded data removed]",
      "text/plain": [
       "<Figure size 640x480 with 1 Axes>"
      ]
     },
     "metadata": {},
     "output_type": "display_data"
    }
   ],
   "source": [
    "all_q_values = np.concatenate([q_values, q_values2, q_values3, q_values4])\n",
    "all_loglikelihood_values = np.concatenate([log_likelihood_values, log_likelihood_values2, log_likelihood_values3,\n",
    "                                           log_likelihood_values4])\n",
    "sort_index = np.argsort(all_q_values)\n",
    "all_q_values = all_q_values[sort_index]\n",
    "all_loglikelihood_values = all_loglikelihood_values[sort_index]\n",
    "plt.plot(all_q_values, all_loglikelihood_values, \"o\")\n",
    "plt.show()"
   ]
  },
  {
   "cell_type": "markdown",
   "id": "6577ae1e-8044-4fad-b150-f916cc9dbfe2",
   "metadata": {},
   "source": [
    "As it can be seen, we got basically the same result that the reference paper from Teh et al (2025). For our application we will therefore consider the fixed value $q = 0.005$ for the negative binomial distribution."
   ]
  },
  {
   "cell_type": "markdown",
   "id": "80f0ff5c-6b57-4f5b-81d0-056dc80a4dd7",
   "metadata": {},
   "source": [
    "### Binomial"
   ]
  },
  {
   "cell_type": "markdown",
   "id": "ab57f972-dbe9-4414-bf7a-7095e3391fb9",
   "metadata": {},
   "source": [
    "Now, let us consider the binomial distribution, which has an integer size, $q$. We were able to verify that the Bernoulli distribution was very close to the Poisson distribution when considering the AUC prediction score for the test set. We shall verify if indeed it is the model with the highest observed log-likelihood from the binomial possibilities."
   ]
  },
  {
   "cell_type": "code",
   "execution_count": 18,
   "id": "53646034-be1a-432b-be26-712263594ef0",
   "metadata": {},
   "outputs": [
    {
     "name": "stderr",
     "output_type": "stream",
     "text": [
      "100%|████████████████████████████████████████████████████████████████████████████████████████████████████████████████████████████████████████████████████████████████████████| 5/5 [12:59<00:00, 155.97s/it]"
     ]
    },
    {
     "name": "stdout",
     "output_type": "stream",
     "text": [
      "q values: [1 2 3 4 5]\n",
      "log-likelihood values: [-23.91272007438485, -24.562733366749352, -24.584043505709875, -24.214116795059578, -24.83679732091879]\n",
      "The value for q that maximizes the profiled likelihood is q = 1\n"
     ]
    },
    {
     "name": "stderr",
     "output_type": "stream",
     "text": [
      "\n"
     ]
    }
   ],
   "source": [
    "q_values = np.array([1, 2, 3, 4, 5])\n",
    "log_likelihood_values = likelihood_estimate_q_oasis(\"binomial\", q_values, img_oasis, df_sample, seed = 10)\n",
    "select_q_oasis(q_values, log_likelihood_values)"
   ]
  },
  {
   "cell_type": "code",
   "execution_count": 19,
   "id": "3dcc05ac-1523-4a90-96b5-6555a5c9a737",
   "metadata": {},
   "outputs": [
    {
     "name": "stderr",
     "output_type": "stream",
     "text": [
      "100%|████████████████████████████████████████████████████████████████████████████████████████████████████████████████████████████████████████████████████████████████████████| 5/5 [16:39<00:00, 199.98s/it]"
     ]
    },
    {
     "name": "stdout",
     "output_type": "stream",
     "text": [
      "q values: [ 6  7  8  9 10]\n",
      "log-likelihood values: [-25.127458796889886, -24.89468472249365, -24.597842137776507, -24.40487094726536, -24.256441518928664]\n",
      "The value for q that maximizes the profiled likelihood is q = 10\n"
     ]
    },
    {
     "name": "stderr",
     "output_type": "stream",
     "text": [
      "\n"
     ]
    }
   ],
   "source": [
    "q_values2 = np.array([6, 7, 8, 9, 10])\n",
    "log_likelihood_values2 = likelihood_estimate_q_oasis(\"binomial\", q_values2, img_oasis, df_sample, seed = 10)\n",
    "select_q_oasis(q_values2, log_likelihood_values2)"
   ]
  },
  {
   "cell_type": "code",
   "execution_count": 22,
   "id": "fea3f5c6-1ba5-4684-89f1-ac802c76bd30",
   "metadata": {},
   "outputs": [
    {
     "name": "stderr",
     "output_type": "stream",
     "text": [
      "100%|████████████████████████████████████████████████████████████████████████████████████████████████████████████████████████████████████████████████████████████████████████| 5/5 [17:46<00:00, 213.23s/it]"
     ]
    },
    {
     "name": "stdout",
     "output_type": "stream",
     "text": [
      "q values: [11 12 13 14 15]\n",
      "log-likelihood values: [-25.276445894074513, -24.841610489738724, -25.843297571934414, -25.135783349425758, -24.589144989834494]\n",
      "The value for q that maximizes the profiled likelihood is q = 15\n"
     ]
    },
    {
     "name": "stderr",
     "output_type": "stream",
     "text": [
      "\n"
     ]
    }
   ],
   "source": [
    "q_values3 = np.array([11, 12, 13, 14, 15])\n",
    "log_likelihood_values3 = likelihood_estimate_q_oasis(\"binomial\", q_values3, img_oasis, df_sample, seed = 10)\n",
    "select_q_oasis(q_values3, log_likelihood_values3)"
   ]
  },
  {
   "cell_type": "code",
   "execution_count": 23,
   "id": "94b77706-5698-4460-be9e-ef1040e578ab",
   "metadata": {},
   "outputs": [
    {
     "data": {
      "image/png": "[encoded data removed]",
      "text/plain": [
       "<Figure size 640x480 with 1 Axes>"
      ]
     },
     "metadata": {},
     "output_type": "display_data"
    }
   ],
   "source": [
    "all_q_values = np.concatenate([q_values, q_values2, q_values3])\n",
    "all_loglikelihood_values = np.concatenate([log_likelihood_values, log_likelihood_values2, log_likelihood_values3])\n",
    "sort_index = np.argsort(all_q_values)\n",
    "all_q_values = all_q_values[sort_index]\n",
    "all_loglikelihood_values = all_loglikelihood_values[sort_index]\n",
    "plt.plot(all_q_values, all_loglikelihood_values, \"o\")\n",
    "plt.show()"
   ]
  },
  {
   "cell_type": "markdown",
   "id": "4f9f0b7d-15c3-41a6-a400-383d90323b42",
   "metadata": {},
   "source": [
    "We were therefore able to confirm that the Bernoulli seems to be the actual best choice amongst all the binomial models. In that case, we will not apply other binomial models for the OASIS-3 dataset."
   ]
  },
  {
   "cell_type": "markdown",
   "id": "d2f5ce46-e04a-4a55-a10e-871b5bab9272",
   "metadata": {},
   "source": [
    "### RPG"
   ]
  },
  {
   "cell_type": "markdown",
   "id": "10859f69-446e-4936-bf96-3d05ffdc1992",
   "metadata": {},
   "source": [
    "For the RPG model, we have a good amount of parameters to explore, as this model accounts for under and overdispersion. For negative values, we will be using the fraction notation, because that helps to see the actual support of the distribution. If $q = -1/k$ we know that the support for this distribution will be $\\{0, 1, \\cdots, q-1\\}$. For the positive values on the other hand, there is not a difference on the support of the distribution, which is $\\{0, 1, 2, \\cdots\\}$ for any $q > 0$.\n",
    "\n",
    "Here, notice we test for small values of $q$, which would mean a distribution closer to the Poisson case, while also testing points as $q = 1$, which results in the Borel distribution. We can already see that in fact the Borel model did not perform so good, so higher values for $q$ in this case might not help. But it is important that we verify it anyway."
   ]
  },
  {
   "cell_type": "code",
   "execution_count": 10,
   "id": "3205f448-f762-4c1b-901f-782a95a7c341",
   "metadata": {},
   "outputs": [
    {
     "name": "stderr",
     "output_type": "stream",
     "text": [
      "I0000 00:00:1742718886.196191 3533008 gpu_device.cc:2022] Created device /job:localhost/replica:0/task:0/device:GPU:0 with 4203 MB memory:  -> device: 0, name: NVIDIA GeForce RTX 3050 6GB Laptop GPU, pci bus id: 0000:01:00.0, compute capability: 8.6\n",
      "I0000 00:00:1742719030.770044 3533145 cuda_dnn.cc:529] Loaded cuDNN version 90300\n",
      "100%|██████████████████████████████████████████████████████████████████████████████████████████████████████████████████████████████████████████████████████████████████████| 11/11 [29:23<00:00, 160.30s/it]"
     ]
    },
    {
     "name": "stdout",
     "output_type": "stream",
     "text": [
      "q values: [-0.25 -0.2  -0.1   0.01  0.1   0.5   1.    1.5   2.    2.5   3.  ]\n",
      "log-likelihood values: [-22.27669649806656, -24.053119837510902, -24.478198206373204, -24.91526790094783, -27.69220042964669, -25.194236593555594, -24.458566304689572, -25.74754894985212, -24.421913061942526, -25.754796209989934, -25.636537993999617]\n",
      "The value for q that maximizes the profiled likelihood is q = -0.25\n"
     ]
    },
    {
     "name": "stderr",
     "output_type": "stream",
     "text": [
      "\n"
     ]
    }
   ],
   "source": [
    "q_values = np.array([-1/4, -1/5, -1/10, 0.01, 0.1, 0.5, 1.0, 1.5, 2.0, 2.5, 3.0])\n",
    "log_likelihood_values = likelihood_estimate_q_oasis(\"rgp\", q_values, img_oasis, df_sample, seed = 10)\n",
    "select_q_oasis(q_values, log_likelihood_values)"
   ]
  },
  {
   "cell_type": "code",
   "execution_count": 12,
   "id": "49e9f492-679f-43c3-ae06-af16763c84d0",
   "metadata": {},
   "outputs": [
    {
     "name": "stderr",
     "output_type": "stream",
     "text": [
      "100%|████████████████████████████████████████████████████████████████████████████████████████████████████████████████████████████████████████████████████████████████████████| 1/1 [02:47<00:00, 167.80s/it]"
     ]
    },
    {
     "name": "stdout",
     "output_type": "stream",
     "text": [
      "q values: [-0.33333333]\n",
      "log-likelihood values: [-24.19203605517463]\n",
      "The value for q that maximizes the profiled likelihood is q = -0.3333333333333333\n"
     ]
    },
    {
     "name": "stderr",
     "output_type": "stream",
     "text": [
      "\n"
     ]
    }
   ],
   "source": [
    "q_values2 = np.array([-1/3])\n",
    "log_likelihood_values2 = likelihood_estimate_q_oasis(\"rgp\", q_values2, img_oasis, df_sample, seed = 10)\n",
    "select_q_oasis(q_values2, log_likelihood_values2)"
   ]
  },
  {
   "cell_type": "code",
   "execution_count": 13,
   "id": "f8b34aba-aae9-4dac-92ca-9136ab66db3e",
   "metadata": {},
   "outputs": [
    {
     "data": {
      "image/png": "[encoded data removed]",
      "text/plain": [
       "<Figure size 640x480 with 1 Axes>"
      ]
     },
     "metadata": {},
     "output_type": "display_data"
    }
   ],
   "source": [
    "all_q_values = np.concatenate([q_values, q_values2])\n",
    "all_loglikelihood_values = np.concatenate([log_likelihood_values, log_likelihood_values2])\n",
    "sort_index = np.argsort(all_q_values)\n",
    "all_q_values = all_q_values[sort_index]\n",
    "all_loglikelihood_values = all_loglikelihood_values[sort_index]\n",
    "plt.plot(all_q_values, all_loglikelihood_values, \"o\")\n",
    "plt.show()"
   ]
  },
  {
   "cell_type": "markdown",
   "id": "640fee03-7b7f-45b4-8677-45e8cdb54dad",
   "metadata": {},
   "source": [
    "We can see that for the RGP model, the best choice for q is $-1/4$, meaning that the latent variables for the number of competing risks has a support $\\{0, 1, 2, 3\\}$. Data might suggest that these count variables are slightly underdispersed with respect to the Poisson distribution."
   ]
  },
  {
   "cell_type": "markdown",
   "id": "d339f643-6e28-4904-86b7-53dccf4a1937",
   "metadata": {},
   "source": [
    "### Geeta"
   ]
  },
  {
   "cell_type": "markdown",
   "id": "ba90c578-ff7d-4ee2-80b6-da1788e89d29",
   "metadata": {},
   "source": [
    "Finally, we shall explore the Geeta distribution. This case is particularly not straighforward for which $q$ values we will have under or overdispersion, since it is related to an association between $q$ and $\\theta$, the later beign completely dependent on the data at hand. We will be checking to see if there is an overall better model than the Haight distribution, which is a particular case of the Geeta when $q = 2$."
   ]
  },
  {
   "cell_type": "code",
   "execution_count": 14,
   "id": "917eb4e2-9264-44e8-9e59-662c51043d77",
   "metadata": {},
   "outputs": [
    {
     "name": "stderr",
     "output_type": "stream",
     "text": [
      "100%|████████████████████████████████████████████████████████████████████████████████████████████████████████████████████████████████████████████████████████████████████████| 9/9 [24:24<00:00, 162.71s/it]"
     ]
    },
    {
     "name": "stdout",
     "output_type": "stream",
     "text": [
      "q values: [1.1 1.5 2.  2.5 3.  3.5 4.  4.5 5. ]\n",
      "log-likelihood values: [-23.855724369803852, -26.94625791013947, -26.39985453650733, -24.36970348431195, -25.19304992622354, -24.67597620352992, -24.820297478644974, -26.218331377130472, -25.182061153841563]\n",
      "The value for q that maximizes the profiled likelihood is q = 1.1\n"
     ]
    },
    {
     "name": "stderr",
     "output_type": "stream",
     "text": [
      "\n"
     ]
    }
   ],
   "source": [
    "q_values = np.array([1.1, 1.5, 2.0, 2.5, 3.0, 3.5, 4.0, 4.5, 5.0])\n",
    "log_likelihood_values = likelihood_estimate_q_oasis(\"geeta\", q_values, img_oasis, df_sample, seed = 10)\n",
    "select_q_oasis(q_values, log_likelihood_values)"
   ]
  },
  {
   "cell_type": "code",
   "execution_count": 16,
   "id": "fd32a7d9-2f26-46dc-8988-7ff1a78eba5d",
   "metadata": {},
   "outputs": [
    {
     "name": "stderr",
     "output_type": "stream",
     "text": [
      "100%|████████████████████████████████████████████████████████████████████████████████████████████████████████████████████████████████████████████████████████████████████████| 5/5 [12:20<00:00, 148.18s/it]"
     ]
    },
    {
     "name": "stdout",
     "output_type": "stream",
     "text": [
      "q values: [1.01 1.05 1.05 1.15 1.2 ]\n",
      "log-likelihood values: [-21.46517541662988, -22.898763703804793, -22.898763703804793, -23.051754036447097, -25.25954952359789]\n",
      "The value for q that maximizes the profiled likelihood is q = 1.01\n"
     ]
    },
    {
     "name": "stderr",
     "output_type": "stream",
     "text": [
      "\n"
     ]
    }
   ],
   "source": [
    "q_values2 = np.array([1.01, 1.05, 1.05, 1.15, 1.2])\n",
    "log_likelihood_values2 = likelihood_estimate_q_oasis(\"geeta\", q_values2, img_oasis, df_sample, seed = 10)\n",
    "select_q_oasis(q_values2, log_likelihood_values2)"
   ]
  },
  {
   "cell_type": "code",
   "execution_count": 17,
   "id": "6780b59d-485d-4601-9afb-1204f60fdf94",
   "metadata": {},
   "outputs": [
    {
     "data": {
      "image/png": "[encoded data removed]",
      "text/plain": [
       "<Figure size 640x480 with 1 Axes>"
      ]
     },
     "metadata": {},
     "output_type": "display_data"
    }
   ],
   "source": [
    "all_q_values = np.concatenate([q_values])\n",
    "all_loglikelihood_values = np.concatenate([log_likelihood_values])\n",
    "sort_index = np.argsort(all_q_values)\n",
    "all_q_values = all_q_values[sort_index]\n",
    "all_loglikelihood_values = all_loglikelihood_values[sort_index]\n",
    "plt.plot(all_q_values, all_loglikelihood_values, \"o\")\n",
    "plt.show()"
   ]
  },
  {
   "cell_type": "markdown",
   "id": "bf9e5351-0e7b-4438-ae4f-7d1f72bea2d1",
   "metadata": {},
   "source": [
    "By considering the log-likelihood values we see that given the data, the best Geeta model seems to be close to $q = 1$, which unfortunately results in a point mass distribution with probability one in $M = 0$. That model would suggest that every individual is cured, which is at all non informative. For that reason, we will not be considering the Geeta distribution for this dataset."
   ]
  },
  {
   "cell_type": "markdown",
   "id": "3b07bad8-5392-4fd6-9394-e87960340ddd",
   "metadata": {},
   "source": [
    "# Application of two parameter distributions"
   ]
  },
  {
   "cell_type": "markdown",
   "id": "9b25cf9b-8862-4517-809f-a91b84e38b8f",
   "metadata": {},
   "source": [
    "Now that we have selected the values for the second parameter $q$ in all distributions, we will be running the selected models in all bootstrap replicas of the dataset. The selected models are given by\n",
    "* Negative Binomial ($q = 0.005$)\n",
    "* RPG($q = -1/4$)\n",
    "As mentioned above, the Binomial and the Geeta are not informative, since the best binomial model is the Bernoulli, which has already been fitted, and the best Geeta tends to a point mass around $m = 0$."
   ]
  },
  {
   "cell_type": "code",
   "execution_count": 7,
   "id": "96298a86-486d-4284-b1db-4545ba0591fd",
   "metadata": {},
   "outputs": [
    {
     "name": "stderr",
     "output_type": "stream",
     "text": [
      "I0000 00:00:1742729760.167448 4006786 gpu_device.cc:2022] Created device /job:localhost/replica:0/task:0/device:GPU:0 with 4203 MB memory:  -> device: 0, name: NVIDIA GeForce RTX 3050 6GB Laptop GPU, pci bus id: 0000:01:00.0, compute capability: 8.6\n",
      "100%|██████████████████████████████████████████████████████████████████████████████████████████████████████████████████████████████████████████████████████████████████| 100/100 [4:48:35<00:00, 173.16s/it]\n"
     ]
    }
   ],
   "source": [
    "mri = np.load(\"OASIS - Small Dataset/mri_train_test.npz\")\n",
    "img_oasis = mri[\"images\"]\n",
    "run_bootstrap_distribution_oasis(\"mvnb\", 0.005, img_oasis, start_index = None, seed = 10)"
   ]
  },
  {
   "cell_type": "code",
   "execution_count": 9,
   "id": "f96fbbff-c178-476a-addb-6729491c76ca",
   "metadata": {},
   "outputs": [
    {
     "name": "stderr",
     "output_type": "stream",
     "text": [
      "  0%|                                                                                                                                                                                | 0/55 [00:02<?, ?it/s]\n"
     ]
    },
    {
     "ename": "KeyboardInterrupt",
     "evalue": "",
     "output_type": "error",
     "traceback": [
      "\u001b[0;31m---------------------------------------------------------------------------\u001b[0m",
      "\u001b[0;31mKeyboardInterrupt\u001b[0m                         Traceback (most recent call last)",
      "Cell \u001b[0;32mIn[9], line 3\u001b[0m\n\u001b[1;32m      1\u001b[0m mri \u001b[38;5;241m=\u001b[39m np\u001b[38;5;241m.\u001b[39mload(\u001b[38;5;124m\"\u001b[39m\u001b[38;5;124mOASIS - Small Dataset/mri_train_test.npz\u001b[39m\u001b[38;5;124m\"\u001b[39m)\n\u001b[1;32m      2\u001b[0m img_oasis \u001b[38;5;241m=\u001b[39m mri[\u001b[38;5;124m\"\u001b[39m\u001b[38;5;124mimages\u001b[39m\u001b[38;5;124m\"\u001b[39m]\n\u001b[0;32m----> 3\u001b[0m \u001b[43mrun_bootstrap_distribution_oasis\u001b[49m\u001b[43m(\u001b[49m\u001b[38;5;124;43m\"\u001b[39;49m\u001b[38;5;124;43mrgp\u001b[39;49m\u001b[38;5;124;43m\"\u001b[39;49m\u001b[43m,\u001b[49m\u001b[43m \u001b[49m\u001b[38;5;241;43m-\u001b[39;49m\u001b[38;5;241;43m1\u001b[39;49m\u001b[38;5;241;43m/\u001b[39;49m\u001b[38;5;241;43m4\u001b[39;49m\u001b[43m,\u001b[49m\u001b[43m \u001b[49m\u001b[43mimg_oasis\u001b[49m\u001b[43m,\u001b[49m\u001b[43m \u001b[49m\u001b[43mstart_index\u001b[49m\u001b[43m \u001b[49m\u001b[38;5;241;43m=\u001b[39;49m\u001b[43m \u001b[49m\u001b[38;5;28;43;01mNone\u001b[39;49;00m\u001b[43m,\u001b[49m\u001b[43m \u001b[49m\u001b[43mseed\u001b[49m\u001b[43m \u001b[49m\u001b[38;5;241;43m=\u001b[39;49m\u001b[43m \u001b[49m\u001b[38;5;241;43m10\u001b[39;49m\u001b[43m)\u001b[49m\n",
      "Cell \u001b[0;32mIn[5], line 41\u001b[0m, in \u001b[0;36mrun_bootstrap_distribution_oasis\u001b[0;34m(distribution, q, images, start_index, seed)\u001b[0m\n\u001b[1;32m     38\u001b[0m img_val \u001b[38;5;241m=\u001b[39m images[ df_val[\u001b[38;5;124m\"\u001b[39m\u001b[38;5;124mimage_index\u001b[39m\u001b[38;5;124m\"\u001b[39m] ]\n\u001b[1;32m     40\u001b[0m start_time \u001b[38;5;241m=\u001b[39m time()\n\u001b[0;32m---> 41\u001b[0m result \u001b[38;5;241m=\u001b[39m \u001b[43mfit_cure_model\u001b[49m\u001b[43m(\u001b[49m\u001b[43mdistribution\u001b[49m\u001b[43m,\u001b[49m\u001b[43m \u001b[49m\u001b[43mq\u001b[49m\u001b[43m,\u001b[49m\n\u001b[1;32m     42\u001b[0m \u001b[43m                        \u001b[49m\u001b[43mt_train\u001b[49m\u001b[43m,\u001b[49m\u001b[43m \u001b[49m\u001b[43mt_val\u001b[49m\u001b[43m,\u001b[49m\n\u001b[1;32m     43\u001b[0m \u001b[43m                        \u001b[49m\u001b[43mdelta_train\u001b[49m\u001b[43m,\u001b[49m\u001b[43m \u001b[49m\u001b[43mdelta_val\u001b[49m\u001b[43m,\u001b[49m\n\u001b[1;32m     44\u001b[0m \u001b[43m                        \u001b[49m\u001b[43mimg_train\u001b[49m\u001b[43m,\u001b[49m\u001b[43m \u001b[49m\u001b[43mimg_val\u001b[49m\u001b[43m,\u001b[49m\n\u001b[1;32m     45\u001b[0m \u001b[43m                        \u001b[49m\u001b[43mbatch_size\u001b[49m\u001b[43m \u001b[49m\u001b[38;5;241;43m=\u001b[39;49m\u001b[43m \u001b[49m\u001b[38;5;241;43m64\u001b[39;49m\u001b[43m,\u001b[49m\u001b[43m \u001b[49m\u001b[43mmax_iterations\u001b[49m\u001b[43m \u001b[49m\u001b[38;5;241;43m=\u001b[39;49m\u001b[43m \u001b[49m\u001b[38;5;241;43m60\u001b[39;49m\u001b[43m,\u001b[49m\u001b[43m \u001b[49m\u001b[43mearly_stopping_em_eps\u001b[49m\u001b[43m \u001b[49m\u001b[38;5;241;43m=\u001b[39;49m\u001b[43m \u001b[49m\u001b[38;5;241;43m1.0e-6\u001b[39;49m\u001b[43m,\u001b[49m\n\u001b[1;32m     46\u001b[0m \u001b[43m                        \u001b[49m\u001b[43mearly_stopping_em_warmup\u001b[49m\u001b[43m \u001b[49m\u001b[38;5;241;43m=\u001b[39;49m\u001b[43m \u001b[49m\u001b[38;5;241;43m10\u001b[39;49m\u001b[43m,\u001b[49m\n\u001b[1;32m     47\u001b[0m \u001b[43m                        \u001b[49m\u001b[43mlearning_rate\u001b[49m\u001b[43m \u001b[49m\u001b[38;5;241;43m=\u001b[39;49m\u001b[43m \u001b[49m\u001b[38;5;241;43m0.001\u001b[39;49m\u001b[43m,\u001b[49m\u001b[43m \u001b[49m\u001b[43mearly_stopping_patience_nn\u001b[49m\u001b[43m \u001b[49m\u001b[38;5;241;43m=\u001b[39;49m\u001b[43m \u001b[49m\u001b[38;5;241;43m10\u001b[39;49m\u001b[43m,\u001b[49m\n\u001b[1;32m     48\u001b[0m \u001b[43m                        \u001b[49m\u001b[43mreduce_lr\u001b[49m\u001b[43m \u001b[49m\u001b[38;5;241;43m=\u001b[39;49m\u001b[43m \u001b[49m\u001b[38;5;28;43;01mTrue\u001b[39;49;00m\u001b[43m,\u001b[49m\u001b[43m \u001b[49m\u001b[43mreduce_lr_steps\u001b[49m\u001b[43m \u001b[49m\u001b[38;5;241;43m=\u001b[39;49m\u001b[43m \u001b[49m\u001b[38;5;241;43m12\u001b[39;49m\u001b[43m,\u001b[49m\u001b[43m \u001b[49m\u001b[43mreduce_lr_factor\u001b[49m\u001b[43m \u001b[49m\u001b[38;5;241;43m=\u001b[39;49m\u001b[43m \u001b[49m\u001b[38;5;241;43m0.1\u001b[39;49m\u001b[43m,\u001b[49m\u001b[43m                                \u001b[49m\n\u001b[1;32m     49\u001b[0m \u001b[43m                        \u001b[49m\u001b[43mseed\u001b[49m\u001b[43m \u001b[49m\u001b[38;5;241;43m=\u001b[39;49m\u001b[43m \u001b[49m\u001b[43mseed\u001b[49m\u001b[43m,\u001b[49m\u001b[43m \u001b[49m\u001b[43mverbose\u001b[49m\u001b[43m \u001b[49m\u001b[38;5;241;43m=\u001b[39;49m\u001b[43m \u001b[49m\u001b[38;5;241;43m0\u001b[39;49m\u001b[43m)\u001b[49m\n\u001b[1;32m     50\u001b[0m elapsed_time \u001b[38;5;241m=\u001b[39m time() \u001b[38;5;241m-\u001b[39m start_time\n\u001b[1;32m     51\u001b[0m execution_times\u001b[38;5;241m.\u001b[39mappend(elapsed_time)\n",
      "Cell \u001b[0;32mIn[3], line 142\u001b[0m, in \u001b[0;36mfit_cure_model\u001b[0;34m(distribution, q, t_train, t_val, delta_train, delta_val, img_train, img_val, max_iterations, early_stopping_em, early_stopping_em_warmup, early_stopping_em_eps, epochs, batch_size, shuffle, learning_rate, run_eagerly, gradient_accumulation_steps, early_stopping_nn, early_stopping_min_delta_nn, early_stopping_patience_nn, reduce_lr, reduce_lr_steps, reduce_lr_factor, verbose, seed)\u001b[0m\n\u001b[1;32m    139\u001b[0m         n_batches \u001b[38;5;241m=\u001b[39m \u001b[38;5;28mint\u001b[39m( np\u001b[38;5;241m.\u001b[39mceil(n_train \u001b[38;5;241m/\u001b[39m batch_size) )\n\u001b[1;32m    140\u001b[0m         gradient_accumulation_steps \u001b[38;5;241m=\u001b[39m n_batches\n\u001b[0;32m--> 142\u001b[0m results \u001b[38;5;241m=\u001b[39m \u001b[43mcall_EM\u001b[49m\u001b[43m(\u001b[49m\u001b[38;5;124;43m\"\u001b[39;49m\u001b[38;5;124;43mEM.py\u001b[39;49m\u001b[38;5;124;43m\"\u001b[39;49m\u001b[43m,\u001b[49m\n\u001b[1;32m    143\u001b[0m \u001b[43m                  \u001b[49m\u001b[43mlog_a_str\u001b[49m\u001b[43m,\u001b[49m\u001b[43m \u001b[49m\u001b[43mlog_phi_str\u001b[49m\u001b[43m,\u001b[49m\u001b[43m \u001b[49m\u001b[43mC_str\u001b[49m\u001b[43m,\u001b[49m\u001b[43m \u001b[49m\u001b[43mC_inv_str\u001b[49m\u001b[43m,\u001b[49m\u001b[43m \u001b[49m\u001b[43msup_str\u001b[49m\u001b[43m,\u001b[49m\u001b[43m \u001b[49m\u001b[43mtheta_min\u001b[49m\u001b[43m,\u001b[49m\u001b[43m \u001b[49m\u001b[43mtheta_max\u001b[49m\u001b[43m,\u001b[49m\n\u001b[1;32m    144\u001b[0m \u001b[43m                  \u001b[49m\u001b[43mdummy_mps_model\u001b[49m\u001b[43m,\u001b[49m\u001b[43m \u001b[49m\u001b[43malpha0\u001b[49m\u001b[43m,\u001b[49m\u001b[43m \u001b[49m\u001b[43ms_t\u001b[49m\u001b[43m,\u001b[49m\n\u001b[1;32m    145\u001b[0m \u001b[43m                  \u001b[49m\u001b[43mimg_train\u001b[49m\u001b[43m,\u001b[49m\u001b[43m \u001b[49m\u001b[43mt_train\u001b[49m\u001b[43m,\u001b[49m\u001b[43m \u001b[49m\u001b[43mdelta_train\u001b[49m\u001b[43m,\u001b[49m\u001b[43m \u001b[49m\u001b[43mdelta_train\u001b[49m\u001b[43m,\u001b[49m\n\u001b[1;32m    146\u001b[0m \u001b[43m                  \u001b[49m\u001b[43mmax_iterations\u001b[49m\u001b[43m \u001b[49m\u001b[38;5;241;43m=\u001b[39;49m\u001b[43m \u001b[49m\u001b[43mmax_iterations\u001b[49m\u001b[43m,\u001b[49m\n\u001b[1;32m    147\u001b[0m \u001b[43m                  \u001b[49m\u001b[43mearly_stopping_em\u001b[49m\u001b[43m \u001b[49m\u001b[38;5;241;43m=\u001b[39;49m\u001b[43m \u001b[49m\u001b[43mearly_stopping_em\u001b[49m\u001b[43m,\u001b[49m\u001b[43m \u001b[49m\u001b[43mearly_stopping_em_warmup\u001b[49m\u001b[43m \u001b[49m\u001b[38;5;241;43m=\u001b[39;49m\u001b[43m \u001b[49m\u001b[43mearly_stopping_em_warmup\u001b[49m\u001b[43m,\u001b[49m\u001b[43m \u001b[49m\u001b[43mearly_stopping_em_eps\u001b[49m\u001b[43m \u001b[49m\u001b[38;5;241;43m=\u001b[39;49m\u001b[43m \u001b[49m\u001b[43mearly_stopping_em_eps\u001b[49m\u001b[43m,\u001b[49m\n\u001b[1;32m    148\u001b[0m \u001b[43m                  \u001b[49m\u001b[43mepochs\u001b[49m\u001b[43m \u001b[49m\u001b[38;5;241;43m=\u001b[39;49m\u001b[43m \u001b[49m\u001b[43mepochs\u001b[49m\u001b[43m,\u001b[49m\u001b[43m \u001b[49m\u001b[43mbatch_size\u001b[49m\u001b[43m \u001b[49m\u001b[38;5;241;43m=\u001b[39;49m\u001b[43m \u001b[49m\u001b[43mbatch_size\u001b[49m\u001b[43m,\u001b[49m\u001b[43m \u001b[49m\u001b[43mshuffle\u001b[49m\u001b[43m \u001b[49m\u001b[38;5;241;43m=\u001b[39;49m\u001b[43m \u001b[49m\u001b[43mshuffle\u001b[49m\u001b[43m,\u001b[49m\n\u001b[1;32m    149\u001b[0m \u001b[43m                  \u001b[49m\u001b[43mlearning_rate\u001b[49m\u001b[43m \u001b[49m\u001b[38;5;241;43m=\u001b[39;49m\u001b[43m \u001b[49m\u001b[43mlearning_rate\u001b[49m\u001b[43m,\u001b[49m\u001b[43m \u001b[49m\u001b[43mrun_eagerly\u001b[49m\u001b[43m \u001b[49m\u001b[38;5;241;43m=\u001b[39;49m\u001b[43m \u001b[49m\u001b[43mrun_eagerly\u001b[49m\u001b[43m,\u001b[49m\u001b[43m \u001b[49m\u001b[43mgradient_accumulation_steps\u001b[49m\u001b[43m \u001b[49m\u001b[38;5;241;43m=\u001b[39;49m\u001b[43m \u001b[49m\u001b[43mgradient_accumulation_steps\u001b[49m\u001b[43m,\u001b[49m\n\u001b[1;32m    150\u001b[0m \u001b[43m                  \u001b[49m\u001b[43mearly_stopping_nn\u001b[49m\u001b[43m \u001b[49m\u001b[38;5;241;43m=\u001b[39;49m\u001b[43m \u001b[49m\u001b[43mearly_stopping_nn\u001b[49m\u001b[43m,\u001b[49m\u001b[43m \u001b[49m\u001b[43mearly_stopping_min_delta_nn\u001b[49m\u001b[43m \u001b[49m\u001b[38;5;241;43m=\u001b[39;49m\u001b[43m \u001b[49m\u001b[43mearly_stopping_min_delta_nn\u001b[49m\u001b[43m,\u001b[49m\u001b[43m \u001b[49m\u001b[43mearly_stopping_patience_nn\u001b[49m\u001b[43m \u001b[49m\u001b[38;5;241;43m=\u001b[39;49m\u001b[43m \u001b[49m\u001b[43mearly_stopping_patience_nn\u001b[49m\u001b[43m,\u001b[49m\n\u001b[1;32m    151\u001b[0m \u001b[43m                  \u001b[49m\u001b[43mreduce_lr\u001b[49m\u001b[43m \u001b[49m\u001b[38;5;241;43m=\u001b[39;49m\u001b[43m \u001b[49m\u001b[43mreduce_lr\u001b[49m\u001b[43m,\u001b[49m\u001b[43m \u001b[49m\u001b[43mreduce_lr_steps\u001b[49m\u001b[43m \u001b[49m\u001b[38;5;241;43m=\u001b[39;49m\u001b[43m \u001b[49m\u001b[43mreduce_lr_steps\u001b[49m\u001b[43m,\u001b[49m\u001b[43m \u001b[49m\u001b[43mreduce_lr_factor\u001b[49m\u001b[43m \u001b[49m\u001b[38;5;241;43m=\u001b[39;49m\u001b[43m \u001b[49m\u001b[43mreduce_lr_factor\u001b[49m\u001b[43m,\u001b[49m\n\u001b[1;32m    152\u001b[0m \u001b[43m                  \u001b[49m\u001b[43mvalidation\u001b[49m\u001b[43m \u001b[49m\u001b[38;5;241;43m=\u001b[39;49m\u001b[43m \u001b[49m\u001b[38;5;28;43;01mTrue\u001b[39;49;00m\u001b[43m,\u001b[49m\n\u001b[1;32m    153\u001b[0m \u001b[43m                  \u001b[49m\u001b[43mx_val\u001b[49m\u001b[43m \u001b[49m\u001b[38;5;241;43m=\u001b[39;49m\u001b[43m \u001b[49m\u001b[43mimg_val\u001b[49m\u001b[43m,\u001b[49m\u001b[43m \u001b[49m\u001b[43mt_val\u001b[49m\u001b[43m \u001b[49m\u001b[38;5;241;43m=\u001b[39;49m\u001b[43m \u001b[49m\u001b[43mt_val\u001b[49m\u001b[43m,\u001b[49m\u001b[43m \u001b[49m\u001b[43mdelta_val\u001b[49m\u001b[43m \u001b[49m\u001b[38;5;241;43m=\u001b[39;49m\u001b[43m \u001b[49m\u001b[43mdelta_val\u001b[49m\u001b[43m,\u001b[49m\u001b[43m \u001b[49m\u001b[43mm_val\u001b[49m\u001b[43m \u001b[49m\u001b[38;5;241;43m=\u001b[39;49m\u001b[43m \u001b[49m\u001b[43mdelta_val\u001b[49m\u001b[43m,\u001b[49m\n\u001b[1;32m    154\u001b[0m \u001b[43m                  \u001b[49m\u001b[43mverbose\u001b[49m\u001b[43m \u001b[49m\u001b[38;5;241;43m=\u001b[39;49m\u001b[43m \u001b[49m\u001b[43mverbose\u001b[49m\u001b[43m,\u001b[49m\u001b[43m \u001b[49m\u001b[43mseed\u001b[49m\u001b[43m \u001b[49m\u001b[38;5;241;43m=\u001b[39;49m\u001b[43m \u001b[49m\u001b[43mseed\u001b[49m\u001b[43m,\u001b[49m\u001b[43m \u001b[49m\u001b[43malpha_known\u001b[49m\u001b[43m \u001b[49m\u001b[38;5;241;43m=\u001b[39;49m\u001b[43m \u001b[49m\u001b[38;5;28;43;01mFalse\u001b[39;49;00m\u001b[43m)\u001b[49m\n\u001b[1;32m    155\u001b[0m results[\u001b[38;5;124m\"\u001b[39m\u001b[38;5;124ms_t\u001b[39m\u001b[38;5;124m\"\u001b[39m] \u001b[38;5;241m=\u001b[39m s_t\n\u001b[1;32m    157\u001b[0m \u001b[38;5;28;01mreturn\u001b[39;00m results\n",
      "File \u001b[0;32m~/codes/Publicações/Tese/mpscr_neuralnet/net_model.py:620\u001b[0m, in \u001b[0;36mcall_EM\u001b[0;34m(em_filename, log_a_str, log_phi_str, C_str, C_inv_str, sup_str, theta_min, theta_max, dummy_model, alpha, s, x, t, delta, m, max_iterations, early_stopping_em, early_stopping_em_warmup, early_stopping_em_eps, epochs, batch_size, shuffle, learning_rate, run_eagerly, gradient_accumulation_steps, early_stopping_nn, early_stopping_min_delta_nn, early_stopping_patience_nn, reduce_lr, reduce_lr_steps, reduce_lr_factor, validation, val_prop, x_val, t_val, delta_val, m_val, verbose, seed, alpha_known)\u001b[0m\n\u001b[1;32m    615\u001b[0m     subprocess_result \u001b[38;5;241m=\u001b[39m subprocess\u001b[38;5;241m.\u001b[39mrun(\n\u001b[1;32m    616\u001b[0m         [\u001b[38;5;124m\"\u001b[39m\u001b[38;5;124mpython3\u001b[39m\u001b[38;5;124m\"\u001b[39m, em_filename]\n\u001b[1;32m    617\u001b[0m     )\n\u001b[1;32m    618\u001b[0m \u001b[38;5;28;01melse\u001b[39;00m:\n\u001b[1;32m    619\u001b[0m     \u001b[38;5;66;03m# If verbose = 0, supresses all possible outputs from the file\u001b[39;00m\n\u001b[0;32m--> 620\u001b[0m     subprocess_result \u001b[38;5;241m=\u001b[39m \u001b[43msubprocess\u001b[49m\u001b[38;5;241;43m.\u001b[39;49m\u001b[43mrun\u001b[49m\u001b[43m(\u001b[49m\n\u001b[1;32m    621\u001b[0m \u001b[43m       \u001b[49m\u001b[43m[\u001b[49m\u001b[38;5;124;43m\"\u001b[39;49m\u001b[38;5;124;43mpython3\u001b[39;49m\u001b[38;5;124;43m\"\u001b[39;49m\u001b[43m,\u001b[49m\u001b[43m \u001b[49m\u001b[43mem_filename\u001b[49m\u001b[43m]\u001b[49m\u001b[43m,\u001b[49m\n\u001b[1;32m    622\u001b[0m \u001b[43m       \u001b[49m\u001b[43mstdout\u001b[49m\u001b[38;5;241;43m=\u001b[39;49m\u001b[43msubprocess\u001b[49m\u001b[38;5;241;43m.\u001b[39;49m\u001b[43mDEVNULL\u001b[49m\u001b[43m,\u001b[49m\n\u001b[1;32m    623\u001b[0m \u001b[43m       \u001b[49m\u001b[43mstderr\u001b[49m\u001b[38;5;241;43m=\u001b[39;49m\u001b[43msubprocess\u001b[49m\u001b[38;5;241;43m.\u001b[39;49m\u001b[43mDEVNULL\u001b[49m\n\u001b[1;32m    624\u001b[0m \u001b[43m    \u001b[49m\u001b[43m)\u001b[49m\n\u001b[1;32m    626\u001b[0m model_history \u001b[38;5;241m=\u001b[39m []\n\u001b[1;32m    627\u001b[0m model_history_count \u001b[38;5;241m=\u001b[39m \u001b[38;5;28mlen\u001b[39m([name \u001b[38;5;28;01mfor\u001b[39;00m name \u001b[38;5;129;01min\u001b[39;00m os\u001b[38;5;241m.\u001b[39mlistdir(\u001b[38;5;124m\"\u001b[39m\u001b[38;5;132;01m{}\u001b[39;00m\u001b[38;5;124m/model_history\u001b[39m\u001b[38;5;124m\"\u001b[39m\u001b[38;5;241m.\u001b[39mformat(data_dir))])\n",
      "File \u001b[0;32m~/.pyenv/versions/3.10.16/lib/python3.10/subprocess.py:505\u001b[0m, in \u001b[0;36mrun\u001b[0;34m(input, capture_output, timeout, check, *popenargs, **kwargs)\u001b[0m\n\u001b[1;32m    503\u001b[0m \u001b[38;5;28;01mwith\u001b[39;00m Popen(\u001b[38;5;241m*\u001b[39mpopenargs, \u001b[38;5;241m*\u001b[39m\u001b[38;5;241m*\u001b[39mkwargs) \u001b[38;5;28;01mas\u001b[39;00m process:\n\u001b[1;32m    504\u001b[0m     \u001b[38;5;28;01mtry\u001b[39;00m:\n\u001b[0;32m--> 505\u001b[0m         stdout, stderr \u001b[38;5;241m=\u001b[39m \u001b[43mprocess\u001b[49m\u001b[38;5;241;43m.\u001b[39;49m\u001b[43mcommunicate\u001b[49m\u001b[43m(\u001b[49m\u001b[38;5;28;43minput\u001b[39;49m\u001b[43m,\u001b[49m\u001b[43m \u001b[49m\u001b[43mtimeout\u001b[49m\u001b[38;5;241;43m=\u001b[39;49m\u001b[43mtimeout\u001b[49m\u001b[43m)\u001b[49m\n\u001b[1;32m    506\u001b[0m     \u001b[38;5;28;01mexcept\u001b[39;00m TimeoutExpired \u001b[38;5;28;01mas\u001b[39;00m exc:\n\u001b[1;32m    507\u001b[0m         process\u001b[38;5;241m.\u001b[39mkill()\n",
      "File \u001b[0;32m~/.pyenv/versions/3.10.16/lib/python3.10/subprocess.py:1146\u001b[0m, in \u001b[0;36mPopen.communicate\u001b[0;34m(self, input, timeout)\u001b[0m\n\u001b[1;32m   1144\u001b[0m         stderr \u001b[38;5;241m=\u001b[39m \u001b[38;5;28mself\u001b[39m\u001b[38;5;241m.\u001b[39mstderr\u001b[38;5;241m.\u001b[39mread()\n\u001b[1;32m   1145\u001b[0m         \u001b[38;5;28mself\u001b[39m\u001b[38;5;241m.\u001b[39mstderr\u001b[38;5;241m.\u001b[39mclose()\n\u001b[0;32m-> 1146\u001b[0m     \u001b[38;5;28;43mself\u001b[39;49m\u001b[38;5;241;43m.\u001b[39;49m\u001b[43mwait\u001b[49m\u001b[43m(\u001b[49m\u001b[43m)\u001b[49m\n\u001b[1;32m   1147\u001b[0m \u001b[38;5;28;01melse\u001b[39;00m:\n\u001b[1;32m   1148\u001b[0m     \u001b[38;5;28;01mif\u001b[39;00m timeout \u001b[38;5;129;01mis\u001b[39;00m \u001b[38;5;129;01mnot\u001b[39;00m \u001b[38;5;28;01mNone\u001b[39;00m:\n",
      "File \u001b[0;32m~/.pyenv/versions/3.10.16/lib/python3.10/subprocess.py:1209\u001b[0m, in \u001b[0;36mPopen.wait\u001b[0;34m(self, timeout)\u001b[0m\n\u001b[1;32m   1207\u001b[0m     endtime \u001b[38;5;241m=\u001b[39m _time() \u001b[38;5;241m+\u001b[39m timeout\n\u001b[1;32m   1208\u001b[0m \u001b[38;5;28;01mtry\u001b[39;00m:\n\u001b[0;32m-> 1209\u001b[0m     \u001b[38;5;28;01mreturn\u001b[39;00m \u001b[38;5;28;43mself\u001b[39;49m\u001b[38;5;241;43m.\u001b[39;49m\u001b[43m_wait\u001b[49m\u001b[43m(\u001b[49m\u001b[43mtimeout\u001b[49m\u001b[38;5;241;43m=\u001b[39;49m\u001b[43mtimeout\u001b[49m\u001b[43m)\u001b[49m\n\u001b[1;32m   1210\u001b[0m \u001b[38;5;28;01mexcept\u001b[39;00m \u001b[38;5;167;01mKeyboardInterrupt\u001b[39;00m:\n\u001b[1;32m   1211\u001b[0m     \u001b[38;5;66;03m# https://bugs.python.org/issue25942\u001b[39;00m\n\u001b[1;32m   1212\u001b[0m     \u001b[38;5;66;03m# The first keyboard interrupt waits briefly for the child to\u001b[39;00m\n\u001b[1;32m   1213\u001b[0m     \u001b[38;5;66;03m# exit under the common assumption that it also received the ^C\u001b[39;00m\n\u001b[1;32m   1214\u001b[0m     \u001b[38;5;66;03m# generated SIGINT and will exit rapidly.\u001b[39;00m\n\u001b[1;32m   1215\u001b[0m     \u001b[38;5;28;01mif\u001b[39;00m timeout \u001b[38;5;129;01mis\u001b[39;00m \u001b[38;5;129;01mnot\u001b[39;00m \u001b[38;5;28;01mNone\u001b[39;00m:\n",
      "File \u001b[0;32m~/.pyenv/versions/3.10.16/lib/python3.10/subprocess.py:1959\u001b[0m, in \u001b[0;36mPopen._wait\u001b[0;34m(self, timeout)\u001b[0m\n\u001b[1;32m   1957\u001b[0m \u001b[38;5;28;01mif\u001b[39;00m \u001b[38;5;28mself\u001b[39m\u001b[38;5;241m.\u001b[39mreturncode \u001b[38;5;129;01mis\u001b[39;00m \u001b[38;5;129;01mnot\u001b[39;00m \u001b[38;5;28;01mNone\u001b[39;00m:\n\u001b[1;32m   1958\u001b[0m     \u001b[38;5;28;01mbreak\u001b[39;00m  \u001b[38;5;66;03m# Another thread waited.\u001b[39;00m\n\u001b[0;32m-> 1959\u001b[0m (pid, sts) \u001b[38;5;241m=\u001b[39m \u001b[38;5;28;43mself\u001b[39;49m\u001b[38;5;241;43m.\u001b[39;49m\u001b[43m_try_wait\u001b[49m\u001b[43m(\u001b[49m\u001b[38;5;241;43m0\u001b[39;49m\u001b[43m)\u001b[49m\n\u001b[1;32m   1960\u001b[0m \u001b[38;5;66;03m# Check the pid and loop as waitpid has been known to\u001b[39;00m\n\u001b[1;32m   1961\u001b[0m \u001b[38;5;66;03m# return 0 even without WNOHANG in odd situations.\u001b[39;00m\n\u001b[1;32m   1962\u001b[0m \u001b[38;5;66;03m# http://bugs.python.org/issue14396.\u001b[39;00m\n\u001b[1;32m   1963\u001b[0m \u001b[38;5;28;01mif\u001b[39;00m pid \u001b[38;5;241m==\u001b[39m \u001b[38;5;28mself\u001b[39m\u001b[38;5;241m.\u001b[39mpid:\n",
      "File \u001b[0;32m~/.pyenv/versions/3.10.16/lib/python3.10/subprocess.py:1917\u001b[0m, in \u001b[0;36mPopen._try_wait\u001b[0;34m(self, wait_flags)\u001b[0m\n\u001b[1;32m   1915\u001b[0m \u001b[38;5;250m\u001b[39m\u001b[38;5;124;03m\"\"\"All callers to this function MUST hold self._waitpid_lock.\"\"\"\u001b[39;00m\n\u001b[1;32m   1916\u001b[0m \u001b[38;5;28;01mtry\u001b[39;00m:\n\u001b[0;32m-> 1917\u001b[0m     (pid, sts) \u001b[38;5;241m=\u001b[39m \u001b[43mos\u001b[49m\u001b[38;5;241;43m.\u001b[39;49m\u001b[43mwaitpid\u001b[49m\u001b[43m(\u001b[49m\u001b[38;5;28;43mself\u001b[39;49m\u001b[38;5;241;43m.\u001b[39;49m\u001b[43mpid\u001b[49m\u001b[43m,\u001b[49m\u001b[43m \u001b[49m\u001b[43mwait_flags\u001b[49m\u001b[43m)\u001b[49m\n\u001b[1;32m   1918\u001b[0m \u001b[38;5;28;01mexcept\u001b[39;00m \u001b[38;5;167;01mChildProcessError\u001b[39;00m:\n\u001b[1;32m   1919\u001b[0m     \u001b[38;5;66;03m# This happens if SIGCLD is set to be ignored or waiting\u001b[39;00m\n\u001b[1;32m   1920\u001b[0m     \u001b[38;5;66;03m# for child processes has otherwise been disabled for our\u001b[39;00m\n\u001b[1;32m   1921\u001b[0m     \u001b[38;5;66;03m# process.  This child is dead, we can't get the status.\u001b[39;00m\n\u001b[1;32m   1922\u001b[0m     pid \u001b[38;5;241m=\u001b[39m \u001b[38;5;28mself\u001b[39m\u001b[38;5;241m.\u001b[39mpid\n",
      "\u001b[0;31mKeyboardInterrupt\u001b[0m: "
     ]
    }
   ],
   "source": [
    "mri = np.load(\"OASIS - Small Dataset/mri_train_test.npz\")\n",
    "img_oasis = mri[\"images\"]\n",
    "run_bootstrap_distribution_oasis(\"rgp\", -1/4, img_oasis, start_index = None, seed = 10)"
   ]
  }
 ],
 "metadata": {
  "kernelspec": {
   "display_name": "Python 3 (ipykernel)",
   "language": "python",
   "name": "python3"
  },
  "language_info": {
   "codemirror_mode": {
    "name": "ipython",
    "version": 3
   },
   "file_extension": ".py",
   "mimetype": "text/x-python",
   "name": "python",
   "nbconvert_exporter": "python",
   "pygments_lexer": "ipython3",
   "version": "3.10.16"
  }
 },
 "nbformat": 4,
 "nbformat_minor": 5
}

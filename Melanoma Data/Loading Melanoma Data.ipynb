{
 "cells": [
  {
   "cell_type": "code",
   "execution_count": 1,
   "id": "68385d0b-c119-49e2-ae9a-ea69fd1e264b",
   "metadata": {},
   "outputs": [],
   "source": [
    "# Basic and plotting packages\n",
    "library(ggplot2)\n",
    "library(cowplot)\n",
    "library(latex2exp)\n",
    "t = theme(plot.title = element_text(size=26, hjust=0.5),\n",
    "          axis.title = element_text(size=20),\n",
    "          axis.text = element_text(size=16),\n",
    "          legend.title = element_text(size = 20),\n",
    "          legend.text = element_text(size = 16),\n",
    "          plot.subtitle = element_text(size = 18, face=\"bold\"))\n",
    "theme_set(theme_minimal()+t)\n",
    "options(repr.plot.width=16, repr.plot.height=6)\n",
    "\n",
    "# Utils packages\n",
    "suppressMessages( library(dplyr) ) # Pipeline"
   ]
  },
  {
   "cell_type": "code",
   "execution_count": 2,
   "id": "555dcccc-5ce7-4014-9c69-a0684a92d294",
   "metadata": {},
   "outputs": [],
   "source": [
    "suppressMessages( library(timereg) )"
   ]
  },
  {
   "cell_type": "code",
   "execution_count": 3,
   "id": "a386e883-a423-460b-a8a2-a1acf6468401",
   "metadata": {},
   "outputs": [
    {
     "data": {
      "text/html": [
       "<table class=\"dataframe\">\n",
       "<caption>A data.frame: 6 × 6</caption>\n",
       "<thead>\n",
       "\t<tr><th></th><th scope=col>no</th><th scope=col>status</th><th scope=col>days</th><th scope=col>ulc</th><th scope=col>thick</th><th scope=col>sex</th></tr>\n",
       "\t<tr><th></th><th scope=col>&lt;int&gt;</th><th scope=col>&lt;int&gt;</th><th scope=col>&lt;int&gt;</th><th scope=col>&lt;int&gt;</th><th scope=col>&lt;int&gt;</th><th scope=col>&lt;int&gt;</th></tr>\n",
       "</thead>\n",
       "<tbody>\n",
       "\t<tr><th scope=row>1</th><td>789</td><td>3</td><td> 10</td><td>1</td><td> 676</td><td>1</td></tr>\n",
       "\t<tr><th scope=row>2</th><td> 13</td><td>3</td><td> 30</td><td>0</td><td>  65</td><td>1</td></tr>\n",
       "\t<tr><th scope=row>3</th><td> 97</td><td>2</td><td> 35</td><td>0</td><td> 134</td><td>1</td></tr>\n",
       "\t<tr><th scope=row>4</th><td> 16</td><td>3</td><td> 99</td><td>0</td><td> 290</td><td>0</td></tr>\n",
       "\t<tr><th scope=row>5</th><td> 21</td><td>1</td><td>185</td><td>1</td><td>1208</td><td>1</td></tr>\n",
       "\t<tr><th scope=row>6</th><td>469</td><td>1</td><td>204</td><td>1</td><td> 484</td><td>1</td></tr>\n",
       "</tbody>\n",
       "</table>\n"
      ],
      "text/latex": [
       "A data.frame: 6 × 6\n",
       "\\begin{tabular}{r|llllll}\n",
       "  & no & status & days & ulc & thick & sex\\\\\n",
       "  & <int> & <int> & <int> & <int> & <int> & <int>\\\\\n",
       "\\hline\n",
       "\t1 & 789 & 3 &  10 & 1 &  676 & 1\\\\\n",
       "\t2 &  13 & 3 &  30 & 0 &   65 & 1\\\\\n",
       "\t3 &  97 & 2 &  35 & 0 &  134 & 1\\\\\n",
       "\t4 &  16 & 3 &  99 & 0 &  290 & 0\\\\\n",
       "\t5 &  21 & 1 & 185 & 1 & 1208 & 1\\\\\n",
       "\t6 & 469 & 1 & 204 & 1 &  484 & 1\\\\\n",
       "\\end{tabular}\n"
      ],
      "text/markdown": [
       "\n",
       "A data.frame: 6 × 6\n",
       "\n",
       "| <!--/--> | no &lt;int&gt; | status &lt;int&gt; | days &lt;int&gt; | ulc &lt;int&gt; | thick &lt;int&gt; | sex &lt;int&gt; |\n",
       "|---|---|---|---|---|---|---|\n",
       "| 1 | 789 | 3 |  10 | 1 |  676 | 1 |\n",
       "| 2 |  13 | 3 |  30 | 0 |   65 | 1 |\n",
       "| 3 |  97 | 2 |  35 | 0 |  134 | 1 |\n",
       "| 4 |  16 | 3 |  99 | 0 |  290 | 0 |\n",
       "| 5 |  21 | 1 | 185 | 1 | 1208 | 1 |\n",
       "| 6 | 469 | 1 | 204 | 1 |  484 | 1 |\n",
       "\n"
      ],
      "text/plain": [
       "  no  status days ulc thick sex\n",
       "1 789 3       10  1    676  1  \n",
       "2  13 3       30  0     65  1  \n",
       "3  97 2       35  0    134  1  \n",
       "4  16 3       99  0    290  0  \n",
       "5  21 1      185  1   1208  1  \n",
       "6 469 1      204  1    484  1  "
      ]
     },
     "metadata": {},
     "output_type": "display_data"
    }
   ],
   "source": [
    "data(melanoma)\n",
    "df <- melanoma\n",
    "head(df)"
   ]
  },
  {
   "cell_type": "code",
   "execution_count": 4,
   "id": "3ee9bae0-fa19-43b4-8cab-27a2960da2e6",
   "metadata": {},
   "outputs": [],
   "source": [
    "write.csv(df, \"melanoma_data.csv\", row.names = FALSE)"
   ]
  }
 ],
 "metadata": {
  "kernelspec": {
   "display_name": "R",
   "language": "R",
   "name": "ir"
  },
  "language_info": {
   "codemirror_mode": "r",
   "file_extension": ".r",
   "mimetype": "text/x-r-source",
   "name": "R",
   "pygments_lexer": "r",
   "version": "4.4.2"
  }
 },
 "nbformat": 4,
 "nbformat_minor": 5
}

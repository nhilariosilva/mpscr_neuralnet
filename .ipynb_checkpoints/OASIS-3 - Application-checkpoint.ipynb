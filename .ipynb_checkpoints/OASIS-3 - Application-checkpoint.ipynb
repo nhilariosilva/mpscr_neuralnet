{
 "cells": [
  {
   "cell_type": "code",
   "execution_count": 1,
   "id": "913435f0-ba31-45ff-94c7-4e4ab50598b9",
   "metadata": {},
   "outputs": [
    {
     "name": "stderr",
     "output_type": "stream",
     "text": [
      "WARNING: All log messages before absl::InitializeLog() is called are written to STDERR\n",
      "E0000 00:00:1742223621.592377  402330 cuda_dnn.cc:8310] Unable to register cuDNN factory: Attempting to register factory for plugin cuDNN when one has already been registered\n",
      "E0000 00:00:1742223621.596828  402330 cuda_blas.cc:1418] Unable to register cuBLAS factory: Attempting to register factory for plugin cuBLAS when one has already been registered\n",
      "I0000 00:00:1742223623.830802  402330 gpu_device.cc:2022] Created device /job:localhost/replica:0/task:0/device:GPU:0 with 2812 MB memory:  -> device: 0, name: NVIDIA GeForce RTX 3050 6GB Laptop GPU, pci bus id: 0000:01:00.0, compute capability: 8.6\n",
      "/home/natan/.pyenv/versions/3.10.16/lib/python3.10/site-packages/tqdm/auto.py:21: TqdmWarning: IProgress not found. Please update jupyter and ipywidgets. See https://ipywidgets.readthedocs.io/en/stable/user_install.html\n",
      "  from .autonotebook import tqdm as notebook_tqdm\n"
     ]
    }
   ],
   "source": [
    "import numpy as np\n",
    "import pandas as pd\n",
    "from matplotlib import pyplot as plt\n",
    "import seaborn as sns\n",
    "import random\n",
    "\n",
    "from time import time\n",
    "\n",
    "from scipy.special import comb, loggamma, lambertw\n",
    "from scipy.stats import multinomial, expon\n",
    "\n",
    "from silence_tensorflow import silence_tensorflow\n",
    "silence_tensorflow()\n",
    "import tensorflow as tf\n",
    "import tensorflow_probability as tfp\n",
    "\n",
    "config = tf.compat.v1.ConfigProto()\n",
    "config.gpu_options.allow_growth = True\n",
    "sess = tf.compat.v1.Session(config = config)\n",
    "\n",
    "import os, shutil\n",
    "from pathlib import Path\n",
    "import json\n",
    "import subprocess\n",
    "\n",
    "from net_model import *\n",
    "from custom_model import *\n",
    "from mps_models import *\n",
    "\n",
    "import mps\n",
    "import pwexp"
   ]
  },
  {
   "cell_type": "code",
   "execution_count": 2,
   "id": "a7f78a4b-c869-4514-affe-2b965729bad2",
   "metadata": {},
   "outputs": [],
   "source": [
    "mri = np.load(\"OASIS - Small Dataset/mri_train_test.npz\")\n",
    "img_oasis = mri[\"images\"]"
   ]
  },
  {
   "cell_type": "markdown",
   "id": "12ad238a-e9bc-4bf4-818b-9950f0c54fdb",
   "metadata": {},
   "source": [
    "# Basic functions to select the distribution and call the EM algorithm"
   ]
  },
  {
   "cell_type": "code",
   "execution_count": 3,
   "id": "d1a76890-0592-4409-960c-2538e19a34d9",
   "metadata": {},
   "outputs": [],
   "source": [
    "def select_model(distribution, q):\n",
    "    if(distribution == \"poisson\"):      \n",
    "        log_a_str = log_a_poisson_str\n",
    "        log_phi_str = log_phi_poisson_str\n",
    "        C_str = C_poisson_str\n",
    "        C_inv_str = C_inv_poisson_str\n",
    "        sup_str = sup_poisson_str\n",
    "        theta_min = None\n",
    "        theta_max = None\n",
    "    elif(distribution == \"logarithmic\"):\n",
    "        log_a_str = log_a_log_str\n",
    "        log_phi_str = log_phi_log_str\n",
    "        C_str = C_log_str\n",
    "        C_inv_str = C_inv_log_str\n",
    "        sup_str = sup_log_str\n",
    "        theta_min = 0\n",
    "        theta_max = 1\n",
    "    elif(distribution == \"nb\" or distribution == \"mvnb\"):\n",
    "        if(q is None):\n",
    "            raise Exception(\"Please, specify the fixed parameter (q) for the distribution.\")\n",
    "        # In the EM.py file, we must ensure that q is of type tf.float64 for it to work properly\n",
    "        q_argument = \"tf.constant({}, dtype = tf.float64)\".format(q)\n",
    "        log_a_str = log_a_mvnb_str.format(q_argument)\n",
    "        log_phi_str = log_phi_mvnb_str.format(q_argument)\n",
    "        C_str = C_mvnb_str.format(q_argument)\n",
    "        C_inv_str = C_inv_mvnb_str.format(q_argument)\n",
    "        sup_str = sup_mvnb_str.format(q_argument)\n",
    "        theta_min = None\n",
    "        theta_max = None\n",
    "    elif(distribution == \"geometric\"):\n",
    "        # In the EM.py file, we must ensure that q is of type tf.float64 for it to work properly\n",
    "        q_argument = \"tf.constant(1, dtype = tf.float64)\"\n",
    "        log_a_str = log_a_mvnb_str.format(q_argument)\n",
    "        log_phi_str = log_phi_mvnb_str.format(q_argument)\n",
    "        C_str = C_mvnb_str.format(q_argument)\n",
    "        C_inv_str = C_inv_mvnb_str.format(q_argument)\n",
    "        sup_str = sup_mvnb_str.format(q_argument)\n",
    "        theta_min = None\n",
    "        theta_max = None\n",
    "    elif(distribution == \"bin\" or distribution == \"binomial\"): \n",
    "        if(q is None):\n",
    "            raise Exception(\"Please, specify the fixed parameter (q) for the distribution.\")\n",
    "        # In the EM.py file, we must ensure that q is of type tf.float64 for it to work properly\n",
    "        q_argument = \"tf.constant({}, dtype = tf.float64)\".format(q)\n",
    "        log_a_str = log_a_bin_str.format(q_argument)\n",
    "        log_phi_str = log_phi_bin_str.format(q_argument)\n",
    "        C_str = C_bin_str.format(q_argument)\n",
    "        C_inv_str = C_inv_bin_str.format(q_argument)\n",
    "        sup_str = sup_bin_str.format(q_argument)\n",
    "        theta_min = 0\n",
    "        theta_max = 1\n",
    "    elif(distribution == \"bernoulli\"):\n",
    "        # In the EM.py file, we must ensure that q is of type tf.float64 for it to work properly\n",
    "        q_argument = \"tf.constant(1, dtype = tf.float64)\"\n",
    "        log_a_str = log_a_bin_str.format(q_argument)\n",
    "        log_phi_str = log_phi_bin_str.format(q_argument)\n",
    "        C_str = C_bin_str.format(q_argument)\n",
    "        C_inv_str = C_inv_bin_str.format(q_argument)\n",
    "        sup_str = sup_bin_str.format(q_argument)\n",
    "        theta_min = 0\n",
    "        theta_max = 1\n",
    "    elif(distribution == \"rgp\"):\n",
    "        if(q is None):\n",
    "            raise Exception(\"Please, specify the fixed parameter (q) for the distribution.\")\n",
    "        # In the EM.py file, we must ensure that q is of type tf.float64 for it to work properly\n",
    "        q_argument = \"tf.constant({}, dtype = tf.float64)\".format(q)\n",
    "        log_a_str = log_a_rgp_str.format(q_argument)\n",
    "        log_phi_str = log_phi_rgp_str.format(q_argument)\n",
    "        C_str = C_rgp_str.format(q_argument)\n",
    "        C_inv_str = C_inv_rgp_str.format(q_argument)\n",
    "        sup_str = sup_rgp_str.format(q_argument)\n",
    "        theta_min = 0\n",
    "        theta_max = np.abs(1/q)\n",
    "    elif(distribution == \"borel\"):\n",
    "        # In the EM.py file, we must ensure that q is of type tf.float64 for it to work properly\n",
    "        q_argument = \"tf.constant(1, dtype = tf.float64)\"\n",
    "        log_a_str = log_a_rgp_str.format(q_argument)\n",
    "        log_phi_str = log_phi_rgp_str.format(q_argument)\n",
    "        C_str = C_rgp_str.format(q_argument)\n",
    "        C_inv_str = C_inv_rgp_str.format(q_argument)\n",
    "        sup_str = sup_rgp_str.format(q_argument)\n",
    "        theta_min = 0\n",
    "        theta_max = 1\n",
    "    elif(distribution == \"geeta\"):\n",
    "        if(q is None):\n",
    "            raise Exception(\"Please, specify the fixed parameter (q) for the distribution.\")\n",
    "        # In the EM.py file, we must ensure that q is of type tf.float64 for it to work properly\n",
    "        q_argument = \"tf.constant({}, dtype = tf.float64)\".format(q)\n",
    "        log_a_str = log_a_geeta_str.format(q_argument)\n",
    "        log_phi_str = log_phi_geeta_str.format(q_argument)\n",
    "        C_str = C_geeta_str.format(q_argument)\n",
    "        C_inv_str = C_inv_geeta_str.format(q_argument)\n",
    "        sup_str = sup_geeta_str.format(q_argument)\n",
    "        theta_min = 0\n",
    "        theta_max = np.abs(1/q)\n",
    "    elif(distribution == \"haight\"):\n",
    "        # In the EM.py file, we must ensure that q is of type tf.float64 for it to work properly\n",
    "        q_argument = \"tf.constant(2, dtype = tf.float64)\"\n",
    "        log_a_str = log_a_geeta_str.format(q_argument)\n",
    "        log_phi_str = log_phi_geeta_str.format(q_argument)\n",
    "        C_str = C_geeta_str.format(q_argument)\n",
    "        C_inv_str = C_inv_geeta_str.format(q_argument)\n",
    "        sup_str = sup_geeta_str.format(q_argument)\n",
    "        theta_min = 0\n",
    "        theta_max = 1/2\n",
    "\n",
    "    return log_a_str, log_phi_str, C_str, C_inv_str, sup_str, theta_min, theta_max\n",
    "\n",
    "def fit_cure_model(distribution, q,\n",
    "                   t_train, t_val,\n",
    "                   delta_train, delta_val,\n",
    "                   img_train, img_val,\n",
    "                   max_iterations = 100,\n",
    "                   early_stopping_em = True, early_stopping_em_warmup = 5, early_stopping_em_eps = 1.0e-6,\n",
    "                   epochs = 100, batch_size = None, shuffle = True,\n",
    "                   learning_rate = 0.001, run_eagerly = False, gradient_accumulation_steps = None,\n",
    "                   early_stopping_nn = True, early_stopping_min_delta_nn = 0.0, early_stopping_patience_nn = 5,\n",
    "                   reduce_lr = True, reduce_lr_steps = 10, reduce_lr_factor = 0.1,\n",
    "                   verbose = 1, seed = 1):\n",
    "    alpha0, s_t = initialize_alpha_s(t_train, delta_train, n_cuts = 5)\n",
    "\n",
    "    # Select the MPS functions based on the chosen distribution\n",
    "    log_a_str, log_phi_str, C_str, C_inv_str, sup_str, theta_min, theta_max = select_model(distribution, q)\n",
    "\n",
    "    set_all_seeds(seed)\n",
    "    # Because it only serves to initialize the model weights, the distribution does not matter in this case (that's why we use the Poisson here)\n",
    "    dummy_mps_model = MPScrModel(log_a_poisson_tf, log_phi_poisson_tf, C_poisson_tf, C_inv_poisson_tf, sup_poisson)\n",
    "    dummy_mps_model.define_structure(shape_input = img_train[0].shape, seed = seed)\n",
    "\n",
    "    # If batch_size is None, use just one big batch\n",
    "    if(batch_size is None):\n",
    "        batch_size = len(t_train)\n",
    "    else:\n",
    "        if(gradient_accumulation_steps is None):\n",
    "            # If batch_size is not None, modify the gradient accumulation steps in order for the model\n",
    "            # to update the wegihts a single time each epoch. That is crucial to reduce batch noises, as we are\n",
    "            # trying to minimize a custom loss function based on the likelihood\n",
    "            n_train = len(t_train)\n",
    "            n_batches = int( np.ceil(n_train / batch_size) )\n",
    "            gradient_accumulation_steps = n_batches\n",
    "        \n",
    "    results = call_EM(\"EM.py\",\n",
    "                      log_a_str, log_phi_str, C_str, C_inv_str, sup_str, theta_min, theta_max,\n",
    "                      dummy_mps_model, alpha0, s_t,\n",
    "                      img_train, t_train, delta_train, delta_train,\n",
    "                      max_iterations = max_iterations,\n",
    "                      early_stopping_em = early_stopping_em, early_stopping_em_warmup = early_stopping_em_warmup, early_stopping_em_eps = early_stopping_em_eps,\n",
    "                      epochs = epochs, batch_size = batch_size, shuffle = shuffle,\n",
    "                      learning_rate = learning_rate, run_eagerly = run_eagerly, gradient_accumulation_steps = gradient_accumulation_steps,\n",
    "                      early_stopping_nn = early_stopping_nn, early_stopping_min_delta_nn = early_stopping_min_delta_nn, early_stopping_patience_nn = early_stopping_patience_nn,\n",
    "                      reduce_lr = reduce_lr, reduce_lr_steps = reduce_lr_steps, reduce_lr_factor = reduce_lr_factor,\n",
    "                      validation = True,\n",
    "                      x_val = img_val, t_val = t_val, delta_val = delta_val, m_val = delta_val,\n",
    "                      verbose = verbose, seed = seed, alpha_known = False)\n",
    "    results[\"s_t\"] = s_t\n",
    "    \n",
    "    return results"
   ]
  },
  {
   "cell_type": "code",
   "execution_count": 4,
   "id": "e48b0123-70d0-4d7d-b146-90fe66f20b4a",
   "metadata": {},
   "outputs": [
    {
     "name": "stdout",
     "output_type": "stream",
     "text": [
      "Creating directories structure\n"
     ]
    }
   ],
   "source": [
    "print(\"Creating directories structure\")\n",
    "dists = [\"poisson\", \"logarithmic\", \"geometric\", \"mvnb\", \"bernoulli\", \"bin\", \"rgp\", \"borel\", \"rgp\", \"haight\", \"geeta\"]\n",
    "for dist in dists:\n",
    "    for j in range(1,101):\n",
    "        Path(\"OASIS - Results/{}/{}\".format(dist,j)).mkdir(parents=True, exist_ok=True)"
   ]
  },
  {
   "cell_type": "code",
   "execution_count": 5,
   "id": "cc31cba0-5865-45b2-a3eb-bb92dfbe6453",
   "metadata": {},
   "outputs": [],
   "source": [
    "def run_bootstrap_distribution_oasis(distribution, q, images, start_index = 1, seed = 10):\n",
    "\n",
    "    metadata_filename = \"OASIS - Results/{}/sim_metadata.csv\".format(distribution)\n",
    "    # If metadata file exists, load it. If not, just initialize the metadata lists as empty\n",
    "    if( os.path.isfile(metadata_filename) ):\n",
    "        sim_metadata = pd.read_csv(metadata_filename)\n",
    "        # If start_index is less than the size of metadata, there might be an error on the call of this function\n",
    "        # It alerts that some information may be overwritten\n",
    "        if(start_index is None):\n",
    "            start_index = sim_metadata.shape[0]+1\n",
    "        elif(start_index < sim_metadata.shape[0]):\n",
    "            raise Exception(\"start_index is less than previously executed registers.\")\n",
    "            \n",
    "        execution_times = sim_metadata[\"execution_times\"].to_list()\n",
    "        loss_values = sim_metadata[\"loss_values\"].to_list()\n",
    "        loss_val_values = sim_metadata[\"loss_val_values\"].to_list()\n",
    "        converged = sim_metadata[\"converged\"].to_list()\n",
    "        steps = sim_metadata[\"steps\"].to_list()\n",
    "    else:\n",
    "        execution_times = []\n",
    "        loss_values = []\n",
    "        loss_val_values = []\n",
    "        converged = []\n",
    "        steps = []\n",
    "    \n",
    "    for i in tqdm(range(start_index, 101)):\n",
    "        df_sample = pd.read_csv(\"OASIS - Small Dataset/bootstrap_sample/sample_{}.csv\".format(i))\n",
    "\n",
    "        df_train = df_sample.loc[df_sample[\"set\"] == \"train\", :]\n",
    "        df_val = df_sample.loc[df_sample[\"set\"] == \"val\", :]\n",
    "        \n",
    "        t_train = df_train[\"time\"]\n",
    "        delta_train = df_train[\"delta\"]\n",
    "        img_train = images[ df_train[\"image_index\"] ]\n",
    "        t_val = df_val[\"time\"]\n",
    "        delta_val = df_val[\"delta\"]\n",
    "        img_val = images[ df_val[\"image_index\"] ]\n",
    "\n",
    "        start_time = time()\n",
    "        result = fit_cure_model(distribution, q,\n",
    "                                t_train, t_val,\n",
    "                                delta_train, delta_val,\n",
    "                                img_train, img_val,\n",
    "                                batch_size = 64, max_iterations = 60, early_stopping_em_eps = 1.0e-6,\n",
    "                                early_stopping_em_warmup = 10,\n",
    "                                learning_rate = 0.001, early_stopping_patience_nn = 10,\n",
    "                                reduce_lr = True, reduce_lr_steps = 12, reduce_lr_factor = 0.1,                                \n",
    "                                seed = seed, verbose = 0)\n",
    "        elapsed_time = time() - start_time\n",
    "        execution_times.append(elapsed_time)\n",
    "        # Save the model weights\n",
    "        result[\"new_model\"].save_model(\"OASIS - Results/{}/{}/model.weights.h5\".format(distribution, i))\n",
    "\n",
    "        # Save the piecewise exponential estimated parameters\n",
    "        save_alpha_s(result[\"new_alpha\"], result[\"s_t\"], filename = \"OASIS - Results/{}/{}/alpha_s.csv\".format(distribution, i))\n",
    "\n",
    "        loss_values.append( result[\"loss_history\"][-1] )\n",
    "        loss_val_values.append( result[\"loss_val_history\"][-1] )\n",
    "        converged.append( result[\"converged\"] )\n",
    "        steps.append( result[\"steps\"] )\n",
    "\n",
    "        pd.DataFrame({\"execution_times\": execution_times, \"loss_values\": loss_values, \"loss_val_values\": loss_val_values, \"converged\": converged, \"steps\": steps}).to_csv(\n",
    "            \"OASIS - Results/{}/sim_metadata.csv\".format(distribution), index = False\n",
    "        )"
   ]
  },
  {
   "cell_type": "code",
   "execution_count": 12,
   "id": "b11c5a5a-f342-4a36-af1d-d6e937844321",
   "metadata": {},
   "outputs": [],
   "source": [
    "from sklearn.metrics import roc_curve\n",
    "from sklearn.metrics import auc\n",
    "\n",
    "def ROC_real(cured, pred_p):\n",
    "    fpr, tpr, thresholds = roc_curve(cured, pred_p, drop_intermediate = False)\n",
    "    return fpr, tpr, thresholds\n",
    "\n",
    "def AUC_real(cured, pred_p):\n",
    "    fpr, tpr, thresholds = ROC_real(cured, pred_p)\n",
    "    return auc(fpr, tpr)\n",
    "\n",
    "def ROC_estimated(pred_p):\n",
    "    thresholds = np.unique(pred_p)\n",
    "    # Reshape the cure_probs array for broadcasting\n",
    "    pred_p = np.reshape(pred_p, (len(pred_p), 1))\n",
    "    tpr = np.sum( (pred_p < thresholds) * (1-pred_p), axis = 0 ) / np.sum( 1-pred_p )\n",
    "    fpr = np.sum( (pred_p < thresholds) * pred_p, axis = 0 ) / np.sum( pred_p )\n",
    "    return fpr, tpr, thresholds\n",
    "\n",
    "def AUC_estimated(pred_p):\n",
    "    fpr, tpr, thresholds = ROC_estimated(pred_p)\n",
    "    return auc(fpr, tpr)"
   ]
  },
  {
   "cell_type": "code",
   "execution_count": 6,
   "id": "c6d5ecf3-5d36-4f0a-b89e-745fbe19da32",
   "metadata": {},
   "outputs": [
    {
     "name": "stderr",
     "output_type": "stream",
     "text": [
      "I0000 00:00:1742223624.382566  402330 gpu_device.cc:2022] Created device /job:localhost/replica:0/task:0/device:GPU:0 with 2812 MB memory:  -> device: 0, name: NVIDIA GeForce RTX 3050 6GB Laptop GPU, pci bus id: 0000:01:00.0, compute capability: 8.6\n",
      "WARNING: All log messages before absl::InitializeLog() is called are written to STDERR\n",
      "E0000 00:00:1742223625.627533  402448 cuda_dnn.cc:8310] Unable to register cuDNN factory: Attempting to register factory for plugin cuDNN when one has already been registered\n",
      "E0000 00:00:1742223625.631106  402448 cuda_blas.cc:1418] Unable to register cuBLAS factory: Attempting to register factory for plugin cuBLAS when one has already been registered\n",
      "I0000 00:00:1742223628.126572  402448 gpu_device.cc:2022] Created device /job:localhost/replica:0/task:0/device:GPU:0 with 2690 MB memory:  -> device: 0, name: NVIDIA GeForce RTX 3050 6GB Laptop GPU, pci bus id: 0000:01:00.0, compute capability: 8.6\n",
      "I0000 00:00:1742223628.383635  402448 gpu_device.cc:2022] Created device /job:localhost/replica:0/task:0/device:GPU:0 with 2690 MB memory:  -> device: 0, name: NVIDIA GeForce RTX 3050 6GB Laptop GPU, pci bus id: 0000:01:00.0, compute capability: 8.6\n"
     ]
    },
    {
     "name": "stdout",
     "output_type": "stream",
     "text": [
      "Iniciando passo 1\n"
     ]
    },
    {
     "name": "stderr",
     "output_type": "stream",
     "text": [
      "I0000 00:00:1742223630.438657  402523 cuda_dnn.cc:529] Loaded cuDNN version 90300\n",
      " 14%|█▍        | 14/100 [00:05<00:34,  2.53epoch/s, loss=0.169, loss_val=0.673]\n"
     ]
    },
    {
     "name": "stdout",
     "output_type": "stream",
     "text": [
      "Iniciando treinamento:\n",
      "Tamanho da amostra de treino: 246\n",
      "Tamanho da amostra de validação: 53\n",
      "Distância Parâmetros Rede Neural: 1.1728207972712387e-05\n",
      "Distância Parâmetros Alpha: 0.44011035225765743\n",
      "Média das distâncias: 0.22006104023281509\n",
      "Iniciando passo 2\n"
     ]
    },
    {
     "name": "stderr",
     "output_type": "stream",
     "text": [
      " 12%|█▏        | 12/100 [00:03<00:28,  3.10epoch/s, loss=0.278, loss_val=0.766]\n"
     ]
    },
    {
     "name": "stdout",
     "output_type": "stream",
     "text": [
      "Iniciando treinamento:\n",
      "Tamanho da amostra de treino: 246\n",
      "Tamanho da amostra de validação: 53\n",
      "Distância Parâmetros Rede Neural: 4.3964502716932625e-06\n",
      "Distância Parâmetros Alpha: 0.0029224092773109246\n",
      "Média das distâncias: 0.001463402863791309\n",
      "Iniciando passo 3\n"
     ]
    },
    {
     "name": "stderr",
     "output_type": "stream",
     "text": [
      " 13%|█▎        | 13/100 [00:04<00:27,  3.14epoch/s, loss=0.367, loss_val=0.833]\n"
     ]
    },
    {
     "name": "stdout",
     "output_type": "stream",
     "text": [
      "Iniciando treinamento:\n",
      "Tamanho da amostra de treino: 246\n",
      "Tamanho da amostra de validação: 53\n",
      "Distância Parâmetros Rede Neural: 6.563997021349629e-06\n",
      "Distância Parâmetros Alpha: 0.002102885771368815\n",
      "Média das distâncias: 0.0010547248841950823\n",
      "Iniciando passo 4\n"
     ]
    },
    {
     "name": "stderr",
     "output_type": "stream",
     "text": [
      " 13%|█▎        | 13/100 [00:04<00:28,  3.01epoch/s, loss=0.379, loss_val=0.83] \n"
     ]
    },
    {
     "name": "stdout",
     "output_type": "stream",
     "text": [
      "Iniciando treinamento:\n",
      "Tamanho da amostra de treino: 246\n",
      "Tamanho da amostra de validação: 53\n",
      "Distância Parâmetros Rede Neural: 7.482756226160195e-06\n",
      "Distância Parâmetros Alpha: 0.0005427200509782033\n",
      "Média das distâncias: 0.00027510140360218177\n",
      "Iniciando passo 5\n"
     ]
    },
    {
     "name": "stderr",
     "output_type": "stream",
     "text": [
      " 12%|█▏        | 12/100 [00:03<00:28,  3.07epoch/s, loss=0.365, loss_val=0.836]\n"
     ]
    },
    {
     "name": "stdout",
     "output_type": "stream",
     "text": [
      "Iniciando treinamento:\n",
      "Tamanho da amostra de treino: 246\n",
      "Tamanho da amostra de validação: 53\n",
      "Distância Parâmetros Rede Neural: 3.7383303614943705e-06\n",
      "Distância Parâmetros Alpha: 0.00033737463560262634\n",
      "Média das distâncias: 0.00017055648298206036\n",
      "Iniciando passo 6\n"
     ]
    },
    {
     "name": "stderr",
     "output_type": "stream",
     "text": [
      " 13%|█▎        | 13/100 [00:04<00:28,  3.07epoch/s, loss=0.378, loss_val=0.822]\n"
     ]
    },
    {
     "name": "stdout",
     "output_type": "stream",
     "text": [
      "Iniciando treinamento:\n",
      "Tamanho da amostra de treino: 246\n",
      "Tamanho da amostra de validação: 53\n",
      "Distância Parâmetros Rede Neural: 4.452457908250279e-06\n",
      "Distância Parâmetros Alpha: 1.1448698732956582e-05\n",
      "Média das distâncias: 7.95057832060343e-06\n",
      "Iniciando passo 7\n"
     ]
    },
    {
     "name": "stderr",
     "output_type": "stream",
     "text": [
      " 13%|█▎        | 13/100 [00:04<00:29,  2.92epoch/s, loss=0.312, loss_val=0.824]\n"
     ]
    },
    {
     "name": "stdout",
     "output_type": "stream",
     "text": [
      "Iniciando treinamento:\n",
      "Tamanho da amostra de treino: 246\n",
      "Tamanho da amostra de validação: 53\n",
      "Distância Parâmetros Rede Neural: 4.1379773405388235e-06\n",
      "Distância Parâmetros Alpha: 2.8638699241473807e-05\n",
      "Média das distâncias: 1.6388338291006315e-05\n",
      "Iniciando passo 8\n"
     ]
    },
    {
     "name": "stderr",
     "output_type": "stream",
     "text": [
      " 11%|█         | 11/100 [00:03<00:28,  3.08epoch/s, loss=0.235, loss_val=0.841]\n",
      "  0%|          | 0/100 [00:00<?, ?epoch/s]"
     ]
    },
    {
     "name": "stdout",
     "output_type": "stream",
     "text": [
      "Iniciando treinamento:\n",
      "Tamanho da amostra de treino: 246\n",
      "Tamanho da amostra de validação: 53\n",
      "Distância Parâmetros Rede Neural: 1.2920960385708747e-06\n",
      "Distância Parâmetros Alpha: 3.712595350448483e-05\n",
      "Média das distâncias: 1.9209024771527852e-05\n",
      "Iniciando passo 9\n"
     ]
    },
    {
     "name": "stderr",
     "output_type": "stream",
     "text": [
      " 16%|█▌        | 16/100 [00:04<00:26,  3.22epoch/s, loss=0.29, loss_val=0.837] \n"
     ]
    },
    {
     "name": "stdout",
     "output_type": "stream",
     "text": [
      "Iniciando treinamento:\n",
      "Tamanho da amostra de treino: 246\n",
      "Tamanho da amostra de validação: 53\n",
      "Distância Parâmetros Rede Neural: 9.259503414443502e-06\n",
      "Distância Parâmetros Alpha: 0.0016220653089640887\n",
      "Média das distâncias: 0.0008156624061892661\n",
      "Iniciando passo 10\n"
     ]
    },
    {
     "name": "stderr",
     "output_type": "stream",
     "text": [
      " 12%|█▏        | 12/100 [00:03<00:28,  3.10epoch/s, loss=0.178, loss_val=0.833]\n"
     ]
    },
    {
     "name": "stdout",
     "output_type": "stream",
     "text": [
      "Iniciando treinamento:\n",
      "Tamanho da amostra de treino: 246\n",
      "Tamanho da amostra de validação: 53\n",
      "Distância Parâmetros Rede Neural: 4.041829559617785e-06\n",
      "Distância Parâmetros Alpha: 0.0001604505420486019\n",
      "Média das distâncias: 8.224618580410985e-05\n",
      "Iniciando passo 11\n"
     ]
    },
    {
     "name": "stderr",
     "output_type": "stream",
     "text": [
      " 13%|█▎        | 13/100 [00:04<00:27,  3.19epoch/s, loss=0.204, loss_val=0.85] \n"
     ]
    },
    {
     "name": "stdout",
     "output_type": "stream",
     "text": [
      "Iniciando treinamento:\n",
      "Tamanho da amostra de treino: 246\n",
      "Tamanho da amostra de validação: 53\n",
      "Distância Parâmetros Rede Neural: 3.7564668209884517e-06\n",
      "Distância Parâmetros Alpha: 0.00077006994567778\n",
      "Média das distâncias: 0.00038691320624938423\n",
      "Iniciando passo 12\n"
     ]
    },
    {
     "name": "stderr",
     "output_type": "stream",
     "text": [
      " 11%|█         | 11/100 [00:03<00:29,  3.04epoch/s, loss=0.144, loss_val=0.851]\n"
     ]
    },
    {
     "name": "stdout",
     "output_type": "stream",
     "text": [
      "Iniciando treinamento:\n",
      "Tamanho da amostra de treino: 246\n",
      "Tamanho da amostra de validação: 53\n",
      "Distância Parâmetros Rede Neural: 1.1526542482626703e-06\n",
      "Distância Parâmetros Alpha: 4.805812603231443e-05\n",
      "Média das distâncias: 2.460539014028855e-05\n",
      "Learning rate reduzida para 0.0001\n",
      "Iniciando passo 13\n"
     ]
    },
    {
     "name": "stderr",
     "output_type": "stream",
     "text": [
      " 11%|█         | 11/100 [00:03<00:28,  3.08epoch/s, loss=0.107, loss_val=0.831]\n"
     ]
    },
    {
     "name": "stdout",
     "output_type": "stream",
     "text": [
      "Iniciando treinamento:\n",
      "Tamanho da amostra de treino: 246\n",
      "Tamanho da amostra de validação: 53\n",
      "Distância Parâmetros Rede Neural: 5.231051198260159e-08\n",
      "Distância Parâmetros Alpha: 0.0006308706769595977\n",
      "Média das distâncias: 0.00031546149373579016\n",
      "Iniciando passo 14\n"
     ]
    },
    {
     "name": "stderr",
     "output_type": "stream",
     "text": [
      " 11%|█         | 11/100 [00:03<00:28,  3.10epoch/s, loss=0.0465, loss_val=0.845]\n"
     ]
    },
    {
     "name": "stdout",
     "output_type": "stream",
     "text": [
      "Iniciando treinamento:\n",
      "Tamanho da amostra de treino: 246\n",
      "Tamanho da amostra de validação: 53\n",
      "Distância Parâmetros Rede Neural: 2.0648109550852593e-08\n",
      "Distância Parâmetros Alpha: 1.987214492489551e-05\n",
      "Média das distâncias: 9.94639651722318e-06\n",
      "Iniciando passo 15\n"
     ]
    },
    {
     "name": "stderr",
     "output_type": "stream",
     "text": [
      " 11%|█         | 11/100 [00:03<00:30,  2.92epoch/s, loss=-0.0126, loss_val=0.859]\n"
     ]
    },
    {
     "name": "stdout",
     "output_type": "stream",
     "text": [
      "Iniciando treinamento:\n",
      "Tamanho da amostra de treino: 246\n",
      "Tamanho da amostra de validação: 53\n",
      "Distância Parâmetros Rede Neural: 1.510304491731424e-08\n",
      "Distância Parâmetros Alpha: 9.820028468403817e-05\n",
      "Média das distâncias: 4.9107693864477745e-05\n",
      "Iniciando passo 16\n"
     ]
    },
    {
     "name": "stderr",
     "output_type": "stream",
     "text": [
      " 11%|█         | 11/100 [00:03<00:28,  3.09epoch/s, loss=-0.066, loss_val=0.876] \n"
     ]
    },
    {
     "name": "stdout",
     "output_type": "stream",
     "text": [
      "Iniciando treinamento:\n",
      "Tamanho da amostra de treino: 246\n",
      "Tamanho da amostra de validação: 53\n",
      "Distância Parâmetros Rede Neural: 1.2169101031587733e-08\n",
      "Distância Parâmetros Alpha: 5.963689013033032e-05\n",
      "Média das distâncias: 2.9824529615680956e-05\n",
      "Iniciando passo 17\n"
     ]
    },
    {
     "name": "stderr",
     "output_type": "stream",
     "text": [
      " 11%|█         | 11/100 [00:03<00:28,  3.08epoch/s, loss=-0.115, loss_val=0.888]\n"
     ]
    },
    {
     "name": "stdout",
     "output_type": "stream",
     "text": [
      "Iniciando treinamento:\n",
      "Tamanho da amostra de treino: 246\n",
      "Tamanho da amostra de validação: 53\n",
      "Distância Parâmetros Rede Neural: 1.0158212585176115e-08\n",
      "Distância Parâmetros Alpha: 1.8281150732772015e-05\n",
      "Média das distâncias: 9.145654472678595e-06\n",
      "Iniciando passo 18\n"
     ]
    },
    {
     "name": "stderr",
     "output_type": "stream",
     "text": [
      " 11%|█         | 11/100 [00:03<00:28,  3.12epoch/s, loss=-0.16, loss_val=0.895] \n"
     ]
    },
    {
     "name": "stdout",
     "output_type": "stream",
     "text": [
      "Iniciando treinamento:\n",
      "Tamanho da amostra de treino: 246\n",
      "Tamanho da amostra de validação: 53\n",
      "Distância Parâmetros Rede Neural: 8.409113829888809e-09\n",
      "Distância Parâmetros Alpha: 3.947322901691796e-06\n",
      "Média das distâncias: 1.9778660077608425e-06\n",
      "Iniciando passo 19\n"
     ]
    },
    {
     "name": "stderr",
     "output_type": "stream",
     "text": [
      " 11%|█         | 11/100 [00:03<00:28,  3.09epoch/s, loss=-0.202, loss_val=0.896]\n"
     ]
    },
    {
     "name": "stdout",
     "output_type": "stream",
     "text": [
      "Iniciando treinamento:\n",
      "Tamanho da amostra de treino: 246\n",
      "Tamanho da amostra de validação: 53\n",
      "Distância Parâmetros Rede Neural: 6.8869097167734444e-09\n",
      "Distância Parâmetros Alpha: 4.587324476741035e-06\n",
      "Média das distâncias: 2.297105693228904e-06\n",
      "Iniciando passo 20\n"
     ]
    },
    {
     "name": "stderr",
     "output_type": "stream",
     "text": [
      " 11%|█         | 11/100 [00:03<00:28,  3.10epoch/s, loss=-0.243, loss_val=0.895]\n"
     ]
    },
    {
     "name": "stdout",
     "output_type": "stream",
     "text": [
      "Iniciando treinamento:\n",
      "Tamanho da amostra de treino: 246\n",
      "Tamanho da amostra de validação: 53\n",
      "Distância Parâmetros Rede Neural: 5.7425146123155866e-09\n",
      "Distância Parâmetros Alpha: 1.1352503324959052e-05\n",
      "Média das distâncias: 5.679122919785684e-06\n",
      "Iniciando passo 21\n"
     ]
    },
    {
     "name": "stderr",
     "output_type": "stream",
     "text": [
      " 11%|█         | 11/100 [00:03<00:28,  3.09epoch/s, loss=-0.282, loss_val=0.891]\n"
     ]
    },
    {
     "name": "stdout",
     "output_type": "stream",
     "text": [
      "Iniciando treinamento:\n",
      "Tamanho da amostra de treino: 246\n",
      "Tamanho da amostra de validação: 53\n",
      "Distância Parâmetros Rede Neural: 4.90605137107162e-09\n",
      "Distância Parâmetros Alpha: 1.8186331448745852e-05\n",
      "Média das distâncias: 9.095618750058462e-06\n",
      "Iniciando passo 22\n"
     ]
    },
    {
     "name": "stderr",
     "output_type": "stream",
     "text": [
      " 11%|█         | 11/100 [00:03<00:29,  3.06epoch/s, loss=-0.32, loss_val=0.884]\n"
     ]
    },
    {
     "name": "stdout",
     "output_type": "stream",
     "text": [
      "Iniciando treinamento:\n",
      "Tamanho da amostra de treino: 246\n",
      "Tamanho da amostra de validação: 53\n",
      "Distância Parâmetros Rede Neural: 4.300080098440696e-09\n",
      "Distância Parâmetros Alpha: 2.368694361178255e-05\n",
      "Média das distâncias: 1.1845621845940495e-05\n",
      "Iniciando passo 23\n"
     ]
    },
    {
     "name": "stderr",
     "output_type": "stream",
     "text": [
      " 11%|█         | 11/100 [00:03<00:28,  3.09epoch/s, loss=-0.357, loss_val=0.874]\n"
     ]
    },
    {
     "name": "stdout",
     "output_type": "stream",
     "text": [
      "Iniciando treinamento:\n",
      "Tamanho da amostra de treino: 246\n",
      "Tamanho da amostra de validação: 53\n",
      "Distância Parâmetros Rede Neural: 3.8269625921577676e-09\n",
      "Distância Parâmetros Alpha: 2.686437821161725e-05\n",
      "Média das distâncias: 1.3434102587104703e-05\n",
      "Iniciando passo 24\n"
     ]
    },
    {
     "name": "stderr",
     "output_type": "stream",
     "text": [
      " 11%|█         | 11/100 [00:03<00:28,  3.10epoch/s, loss=-0.393, loss_val=0.86] \n"
     ]
    },
    {
     "name": "stdout",
     "output_type": "stream",
     "text": [
      "Iniciando treinamento:\n",
      "Tamanho da amostra de treino: 246\n",
      "Tamanho da amostra de validação: 53\n",
      "Distância Parâmetros Rede Neural: 3.439873070000821e-09\n",
      "Distância Parâmetros Alpha: 2.7835068005746752e-05\n",
      "Média das distâncias: 1.3919253939408377e-05\n",
      "Learning rate reduzida para 1e-05\n",
      "Iniciando passo 25\n"
     ]
    },
    {
     "name": "stderr",
     "output_type": "stream",
     "text": [
      " 11%|█         | 11/100 [00:03<00:31,  2.84epoch/s, loss=-0.424, loss_val=0.823]\n"
     ]
    },
    {
     "name": "stdout",
     "output_type": "stream",
     "text": [
      "Iniciando treinamento:\n",
      "Tamanho da amostra de treino: 246\n",
      "Tamanho da amostra de validação: 53\n",
      "Distância Parâmetros Rede Neural: 7.4286892090477e-10\n",
      "Distância Parâmetros Alpha: 2.7908169479117997e-05\n",
      "Média das distâncias: 1.3954456174019451e-05\n",
      "Iniciando passo 26\n"
     ]
    },
    {
     "name": "stderr",
     "output_type": "stream",
     "text": [
      " 11%|█         | 11/100 [00:03<00:28,  3.09epoch/s, loss=-0.421, loss_val=0.84] \n"
     ]
    },
    {
     "name": "stdout",
     "output_type": "stream",
     "text": [
      "Iniciando treinamento:\n",
      "Tamanho da amostra de treino: 246\n",
      "Tamanho da amostra de validação: 53\n",
      "Distância Parâmetros Rede Neural: 4.953374008816267e-10\n",
      "Distância Parâmetros Alpha: 8.593122978529496e-06\n",
      "Média das distâncias: 4.296809157965188e-06\n",
      "Iniciando passo 27\n"
     ]
    },
    {
     "name": "stderr",
     "output_type": "stream",
     "text": [
      " 11%|█         | 11/100 [00:03<00:28,  3.10epoch/s, loss=-0.416, loss_val=0.856]\n"
     ]
    },
    {
     "name": "stdout",
     "output_type": "stream",
     "text": [
      "Iniciando treinamento:\n",
      "Tamanho da amostra de treino: 246\n",
      "Tamanho da amostra de validação: 53\n",
      "Distância Parâmetros Rede Neural: 3.7908545582074975e-10\n",
      "Distância Parâmetros Alpha: 3.216238886024097e-05\n",
      "Média das distâncias: 1.6081383972848397e-05\n",
      "Iniciando passo 28\n"
     ]
    },
    {
     "name": "stderr",
     "output_type": "stream",
     "text": [
      " 11%|█         | 11/100 [00:03<00:29,  3.06epoch/s, loss=-0.411, loss_val=0.87] \n"
     ]
    },
    {
     "name": "stdout",
     "output_type": "stream",
     "text": [
      "Iniciando treinamento:\n",
      "Tamanho da amostra de treino: 246\n",
      "Tamanho da amostra de validação: 53\n",
      "Distância Parâmetros Rede Neural: 3.110846261764008e-10\n",
      "Distância Parâmetros Alpha: 3.527289900590864e-05\n",
      "Média das distâncias: 1.763660504526741e-05\n",
      "Iniciando passo 29\n"
     ]
    },
    {
     "name": "stderr",
     "output_type": "stream",
     "text": [
      " 11%|█         | 11/100 [00:03<00:29,  3.04epoch/s, loss=-0.407, loss_val=0.881]\n"
     ]
    },
    {
     "name": "stdout",
     "output_type": "stream",
     "text": [
      "Iniciando treinamento:\n",
      "Tamanho da amostra de treino: 246\n",
      "Tamanho da amostra de validação: 53\n",
      "Distância Parâmetros Rede Neural: 2.654365351259322e-10\n",
      "Distância Parâmetros Alpha: 2.8499995785545123e-05\n",
      "Média das distâncias: 1.4250130611040123e-05\n",
      "Iniciando passo 30\n"
     ]
    },
    {
     "name": "stderr",
     "output_type": "stream",
     "text": [
      " 11%|█         | 11/100 [00:03<00:29,  3.06epoch/s, loss=-0.405, loss_val=0.89] \n"
     ]
    },
    {
     "name": "stdout",
     "output_type": "stream",
     "text": [
      "Iniciando treinamento:\n",
      "Tamanho da amostra de treino: 246\n",
      "Tamanho da amostra de validação: 53\n",
      "Distância Parâmetros Rede Neural: 2.3017951569547788e-10\n",
      "Distância Parâmetros Alpha: 1.986089018782051e-05\n",
      "Média das distâncias: 9.930560183668104e-06\n",
      "Iniciando passo 31\n"
     ]
    },
    {
     "name": "stderr",
     "output_type": "stream",
     "text": [
      " 11%|█         | 11/100 [00:03<00:29,  3.00epoch/s, loss=-0.404, loss_val=0.897]\n"
     ]
    },
    {
     "name": "stdout",
     "output_type": "stream",
     "text": [
      "Iniciando treinamento:\n",
      "Tamanho da amostra de treino: 246\n",
      "Tamanho da amostra de validação: 53\n",
      "Distância Parâmetros Rede Neural: 2.0354600754541765e-10\n",
      "Distância Parâmetros Alpha: 1.2886700890049575e-05\n",
      "Média das distâncias: 6.44345221802856e-06\n",
      "Iniciando passo 32\n"
     ]
    },
    {
     "name": "stderr",
     "output_type": "stream",
     "text": [
      " 11%|█         | 11/100 [00:03<00:29,  3.04epoch/s, loss=-0.403, loss_val=0.903]\n",
      "  0%|          | 0/100 [00:00<?, ?epoch/s]"
     ]
    },
    {
     "name": "stdout",
     "output_type": "stream",
     "text": [
      "Iniciando treinamento:\n",
      "Tamanho da amostra de treino: 246\n",
      "Tamanho da amostra de validação: 53\n",
      "Distância Parâmetros Rede Neural: 1.8074046069876004e-10\n",
      "Distância Parâmetros Alpha: 8.060579430344614e-06\n",
      "Média das distâncias: 4.030380085402657e-06\n",
      "Iniciando passo 33\n"
     ]
    },
    {
     "name": "stderr",
     "output_type": "stream",
     "text": [
      " 11%|█         | 11/100 [00:03<00:29,  3.06epoch/s, loss=-0.403, loss_val=0.908]\n"
     ]
    },
    {
     "name": "stdout",
     "output_type": "stream",
     "text": [
      "Iniciando treinamento:\n",
      "Tamanho da amostra de treino: 246\n",
      "Tamanho da amostra de validação: 53\n",
      "Distância Parâmetros Rede Neural: 1.631708796796718e-10\n",
      "Distância Parâmetros Alpha: 4.911216903608322e-06\n",
      "Média das distâncias: 2.4556900372440008e-06\n",
      "Iniciando passo 34\n"
     ]
    },
    {
     "name": "stderr",
     "output_type": "stream",
     "text": [
      " 11%|█         | 11/100 [00:03<00:29,  3.02epoch/s, loss=-0.404, loss_val=0.913]\n"
     ]
    },
    {
     "name": "stdout",
     "output_type": "stream",
     "text": [
      "Iniciando treinamento:\n",
      "Tamanho da amostra de treino: 246\n",
      "Tamanho da amostra de validação: 53\n",
      "Distância Parâmetros Rede Neural: 1.495417422465173e-10\n",
      "Distância Parâmetros Alpha: 2.98771603793922e-06\n",
      "Média das distâncias: 1.4939327898407332e-06\n",
      "Iniciando passo 35\n"
     ]
    },
    {
     "name": "stderr",
     "output_type": "stream",
     "text": [
      " 11%|█         | 11/100 [00:03<00:29,  3.04epoch/s, loss=-0.405, loss_val=0.916]\n"
     ]
    },
    {
     "name": "stdout",
     "output_type": "stream",
     "text": [
      "Iniciando treinamento:\n",
      "Tamanho da amostra de treino: 246\n",
      "Tamanho da amostra de validação: 53\n",
      "Distância Parâmetros Rede Neural: 1.4087542384505987e-10\n",
      "Distância Parâmetros Alpha: 1.872565966404476e-06\n",
      "Média das distâncias: 9.363534209141606e-07\n",
      "Algoritmo convergiu após 35 iterações. Retornando.\n",
      "Número de arquivos no diretório: 35\n"
     ]
    }
   ],
   "source": [
    "i = 3\n",
    "distribution = \"poisson\"\n",
    "q = None\n",
    "\n",
    "df_sample = pd.read_csv(\"OASIS - Small Dataset/bootstrap_sample/sample_{}.csv\".format(i))\n",
    "\n",
    "df_train = df_sample.loc[df_sample[\"set\"] == \"train\", :]\n",
    "df_val = df_sample.loc[df_sample[\"set\"] == \"val\", :]\n",
    "t_train = df_train[\"time\"]\n",
    "delta_train = df_train[\"delta\"]\n",
    "img_train = img_oasis[ df_train[\"image_index\"] ]\n",
    "t_val = df_val[\"time\"]\n",
    "delta_val = df_val[\"delta\"]\n",
    "img_val = img_oasis[ df_val[\"image_index\"] ]\n",
    "\n",
    "start_time = time()\n",
    "result = fit_cure_model(distribution, q,\n",
    "                        t_train, t_val,\n",
    "                        delta_train, delta_val,\n",
    "                        img_train, img_val,\n",
    "                        batch_size = 64, max_iterations = 60, early_stopping_em_eps = 1.0e-6,\n",
    "                        early_stopping_em_warmup = 10,\n",
    "                        learning_rate = 0.001, early_stopping_patience_nn = 10,\n",
    "                        reduce_lr = True, reduce_lr_steps = 12, reduce_lr_factor = 0.1,                                \n",
    "                        seed = 10, verbose = 1)\n",
    "elapsed_time = time() - start_time\n",
    "# Save the model weights\n",
    "# result[\"new_model\"].save_model(\"OASIS - Results/{}/{}/model.weights.h5\".format(distribution, i))\n",
    "\n",
    "# Save the piecewise exponential estimated parameters\n",
    "# save_alpha_s(result[\"new_alpha\"], result[\"s_t\"], filename = \"OASIS - Results/{}/{}/alpha_s.csv\".format(distribution, i))\n",
    "\n",
    "# loss_values.append( result[\"loss_history\"][-1] )\n",
    "# loss_val_values.append( result[\"loss_val_history\"][-1] )\n",
    "# converged.append( result[\"converged\"] )\n",
    "# steps.append( result[\"steps\"] )\n"
   ]
  },
  {
   "cell_type": "code",
   "execution_count": null,
   "id": "3547dfda-adea-42f5-9399-be611f2fec6b",
   "metadata": {},
   "outputs": [],
   "source": [
    "AUC_train = AUC_estimated( pred_p[df_sample[\"set\"] == \"train\"] )"
   ]
  },
  {
   "cell_type": "code",
   "execution_count": 57,
   "id": "4a19d279-d7a6-40d1-919f-c4803715f376",
   "metadata": {},
   "outputs": [
    {
     "name": "stdout",
     "output_type": "stream",
     "text": [
      "0.9234784444848476\n"
     ]
    },
    {
     "data": {
      "image/png": "[encoded data removed]",
      "text/plain": [
       "<Figure size 1200x600 with 2 Axes>"
      ]
     },
     "metadata": {},
     "output_type": "display_data"
    }
   ],
   "source": [
    "pred_eta = result[\"new_model\"].predict(img_oasis, verbose = 0)\n",
    "pred_p = result[\"new_model\"].link_func( pred_eta ).numpy().flatten()\n",
    "pred_m = update_m_mps(result[\"new_model\"], result[\"new_alpha\"], result[\"s_t\"], img_oasis, df_sample[\"time\"].to_numpy().flatten(), df_sample[\"delta\"].to_numpy().flatten())\n",
    "\n",
    "df_results = pd.DataFrame({\"t\": df_sample[\"time\"], \"delta\": df_sample[\"delta\"], \"pred_p\": pred_p, \"set\": df_sample[\"set\"]})\n",
    "AUC_test = AUC_estimated( df_results.loc[df_results[\"set\"] == \"test\", \"pred_p\"].to_numpy().flatten() )\n",
    "print(AUC_test)\n",
    "\n",
    "fig, ax = plt.subplots(nrows = 1, ncols = 2, figsize = (12,6))\n",
    "\n",
    "sns.histplot(x = \"pred_p\", hue = \"delta\", data = df_results, ax = ax[0])\n",
    "\n",
    "tv = np.arange(0, 12, 0.1)\n",
    "S1_tv = S1(tv, result[\"new_alpha\"], result[\"s_t\"])\n",
    "\n",
    "s_t_xie = np.array([0, 2.062, 3.36, 4.495, 6.32, 12.2])\n",
    "alpha_xie = np.array([0.02872308, 0.04870019, 0.10390695, 0.16946955, 0.5868493 , 1])\n",
    "S1_tv_xie = S1(tv, alpha_xie, s_t_xie)\n",
    "\n",
    "ax[1].plot(tv, S1_tv)\n",
    "ax[1].plot(tv, S1_tv_xie)\n",
    "\n",
    "plt.show()"
   ]
  },
  {
   "cell_type": "code",
   "execution_count": 65,
   "id": "0d1c3a11-eac5-4515-a8e3-1e4f18da9892",
   "metadata": {},
   "outputs": [
    {
     "data": {
      "text/plain": [
       "array([1.01, 1.01, 1.  , 1.  , 3.94, 2.1 , 1.  , 1.91, 1.46, 1.59, 1.05,\n",
       "       1.  , 1.44, 2.48, 1.58, 1.  , 1.  , 1.08, 4.78, 1.56, 1.45, 9.48,\n",
       "       3.42, 1.  , 1.09, 1.17, 5.01, 1.  , 1.  , 1.  , 1.04, 1.09, 1.48,\n",
       "       1.  , 1.  , 1.  , 1.  , 1.02, 1.  , 3.35, 1.04, 6.8 , 3.54, 1.  ,\n",
       "       1.01, 5.36, 1.85, 1.  , 6.09, 1.36, 1.38, 1.67, 1.  , 1.  , 1.  ,\n",
       "       2.05, 1.28, 5.35, 1.  , 3.18, 1.02, 1.  , 1.01, 2.64, 1.  , 1.92,\n",
       "       1.  , 1.  , 1.05, 1.  , 1.25, 1.  , 1.3 , 2.01, 1.13, 2.47, 1.01,\n",
       "       1.  , 1.  , 1.33, 1.  , 3.75, 6.41, 1.04, 1.14, 1.01, 1.23, 1.01])"
      ]
     },
     "execution_count": 65,
     "metadata": {},
     "output_type": "execute_result"
    }
   ],
   "source": [
    "np.round(pred_m, 2)[pred_m > 1]"
   ]
  },
  {
   "cell_type": "code",
   "execution_count": 71,
   "id": "7b6204d6-ba1b-4d8c-9e35-b2436e630a93",
   "metadata": {},
   "outputs": [
    {
     "data": {
      "text/plain": [
       "array([0.99, 0.99, 1.  , 1.  , 0.03, 0.1 , 1.  , 0.39, 0.61, 0.18, 0.01,\n",
       "       1.  , 0.1 , 0.  , 0.19, 1.  , 1.  , 0.92, 0.01, 0.18, 0.09, 0.  ,\n",
       "       0.  , 1.  , 0.26, 0.74, 0.  , 1.  , 1.  , 1.  , 0.96, 0.91, 0.19,\n",
       "       1.  , 1.  , 1.  , 1.  , 0.98, 1.  , 0.  , 0.96, 0.  , 0.01, 1.  ,\n",
       "       0.99, 0.01, 0.02, 1.  , 0.  , 0.33, 0.01, 0.14, 1.  , 0.99, 1.  ,\n",
       "       0.34, 0.08, 0.  , 1.  , 0.  , 0.98, 1.  , 0.99, 0.  , 1.  , 0.27,\n",
       "       1.  , 1.  , 0.95, 1.  , 0.04, 0.99, 0.64, 0.31, 0.88, 0.2 , 0.98,\n",
       "       1.  , 1.  , 0.71, 1.  , 0.06, 0.  , 0.93, 0.86, 0.99, 0.01, 0.99])"
      ]
     },
     "execution_count": 71,
     "metadata": {},
     "output_type": "execute_result"
    }
   ],
   "source": [
    "np.round(pred_p, 2)[pred_m > 1]"
   ]
  },
  {
   "cell_type": "code",
   "execution_count": 68,
   "id": "10192a85-77b0-44a8-af44-8e15e21f44f2",
   "metadata": {},
   "outputs": [
    {
     "data": {
      "text/plain": [
       "array([1, 1, 1, 1, 1, 0, 1, 1, 1, 1, 0, 1, 0, 1, 0, 1, 1, 1, 0, 0, 1, 0,\n",
       "       0, 1, 0, 1, 0, 1, 1, 1, 1, 1, 0, 1, 1, 1, 1, 1, 1, 0, 1, 0, 0, 1,\n",
       "       1, 1, 0, 1, 0, 1, 0, 0, 1, 1, 1, 1, 0, 0, 1, 0, 1, 1, 1, 0, 1, 1,\n",
       "       1, 1, 1, 1, 0, 1, 1, 1, 1, 1, 1, 1, 1, 1, 1, 1, 0, 1, 1, 1, 0, 1])"
      ]
     },
     "execution_count": 68,
     "metadata": {},
     "output_type": "execute_result"
    }
   ],
   "source": [
    "(df_sample[\"delta\"].to_numpy().flatten()[pred_m > 1])"
   ]
  },
  {
   "cell_type": "code",
   "execution_count": 42,
   "id": "449035ac-4c1b-4054-8377-55133695c90d",
   "metadata": {},
   "outputs": [
    {
     "data": {
      "text/plain": [
       "[<matplotlib.lines.Line2D at 0x772f9445f3d0>]"
      ]
     },
     "execution_count": 42,
     "metadata": {},
     "output_type": "execute_result"
    },
    {
     "data": {
      "image/png": "[encoded data removed]",
      "text/plain": [
       "<Figure size 640x480 with 1 Axes>"
      ]
     },
     "metadata": {},
     "output_type": "display_data"
    }
   ],
   "source": [
    "pred_p = result[\"new_model\"].link_func( pred_eta ).numpy().flatten()\n",
    "pred_p_train = pred_p[df_sample[\"set\"] == \"train\"]\n",
    "delta_train = df_sample.loc[df_sample[\"set\"] == \"train\", \"delta\"]\n",
    "censor_occurred_train = 1-delta_train\n",
    "\n",
    "fpr, tpr, thresholds = roc_curve(censor_occurred_train, pred_p_train)\n",
    "plt.plot(fpr, tpr)"
   ]
  },
  {
   "cell_type": "code",
   "execution_count": 8,
   "id": "f82d1dd7-5d7c-4ffd-a822-a973a4b4a5fa",
   "metadata": {},
   "outputs": [
    {
     "data": {
      "text/plain": [
       "np.float64(0.011363636363636364)"
      ]
     },
     "execution_count": 8,
     "metadata": {},
     "output_type": "execute_result"
    }
   ],
   "source": [
    "np.mean( (result[\"new_model\"].link_func( result[\"new_model\"].predict(img_oasis, verbose = False).flatten() ) < 0.2) &\n",
    "         (df_sample[\"delta\"] == 1) )"
   ]
  },
  {
   "cell_type": "code",
   "execution_count": 11,
   "id": "8b1b2dd3-765a-42e5-b1d8-0b05f666a762",
   "metadata": {},
   "outputs": [
    {
     "data": {
      "text/plain": [
       "<tf.Tensor: shape=(20,), dtype=float64, numpy=\n",
       "array([0.85413119, 0.8863197 , 0.95830615, 0.95314763, 0.99662328,\n",
       "       0.87339422, 0.94912961, 0.92882571, 0.91138861, 0.60049317,\n",
       "       0.1600187 , 0.96965057, 0.78562027, 0.79549012, 0.88699537,\n",
       "       0.94719725, 0.97197448, 0.95577613, 0.68993525, 0.93689823])>"
      ]
     },
     "execution_count": 11,
     "metadata": {},
     "output_type": "execute_result"
    }
   ],
   "source": [
    "result[\"new_model\"].link_func( result[\"new_model\"].predict(img_oasis, verbose = False).flatten() )[:20]"
   ]
  },
  {
   "cell_type": "code",
   "execution_count": 11,
   "id": "410eb6d8-b592-466b-91db-16b05a42d3ce",
   "metadata": {},
   "outputs": [
    {
     "data": {
      "text/plain": [
       "array([0, 0, 0, 0, 0, 0, 0, 0, 1, 0, 0, 0, 0, 0, 1, 0, 0, 0, 0, 0, 0, 0,\n",
       "       0, 0, 0, 0, 0, 0, 0, 1, 0, 1, 0, 0, 0, 0, 0, 1, 0, 0, 1, 0, 0, 0,\n",
       "       0, 0, 0, 0, 0, 0])"
      ]
     },
     "execution_count": 11,
     "metadata": {},
     "output_type": "execute_result"
    }
   ],
   "source": [
    "df_sample[\"delta\"].to_numpy()[:50]"
   ]
  },
  {
   "cell_type": "code",
   "execution_count": null,
   "id": "e2641348-3906-41e3-a54b-7d1d6796c1f6",
   "metadata": {},
   "outputs": [],
   "source": [
    "tv = np.arange()"
   ]
  },
  {
   "cell_type": "markdown",
   "id": "de2ecacb-9aca-44e9-a3d8-7a9dcc80f71b",
   "metadata": {},
   "source": [
    "# Distributions with a single parameter, $\\theta$"
   ]
  },
  {
   "cell_type": "markdown",
   "id": "e5df1b32-8b8d-4014-baeb-c80b1608cb3b",
   "metadata": {},
   "source": [
    "In the following cells, we fit the MPScr-NN model to all 100 bootstrap samples considering the distributions that are uniparametric, i.e. does not depend on the extra parameter, q. Those are:\n",
    "* Poisson\n",
    "* Logarithmic\n",
    "* Geometric\n",
    "* Bernoulli\n",
    "* Borel\n",
    "* Haight"
   ]
  },
  {
   "cell_type": "code",
   "execution_count": 5,
   "id": "33eb7a8e-a80b-4720-b5f6-803c1e6e0069",
   "metadata": {},
   "outputs": [
    {
     "name": "stderr",
     "output_type": "stream",
     "text": [
      "I0000 00:00:1742154955.228112  269838 gpu_device.cc:2022] Created device /job:localhost/replica:0/task:0/device:GPU:0 with 4118 MB memory:  -> device: 0, name: NVIDIA GeForce RTX 3050 6GB Laptop GPU, pci bus id: 0000:01:00.0, compute capability: 8.6\n",
      "100%|██████████████████████████████████████████████████████████████████████████████████████████████████████████████████████████████████████████████████████████████████| 100/100 [4:43:02<00:00, 169.83s/it]\n"
     ]
    }
   ],
   "source": [
    "mri = np.load(\"OASIS - Small Dataset/mri_train_test.npz\")\n",
    "img_oasis = mri[\"images\"]\n",
    "run_bootstrap_distribution_oasis(\"poisson\", None, img_oasis, start_index = 1, seed = 10)"
   ]
  },
  {
   "cell_type": "code",
   "execution_count": 54,
   "id": "aef955df-7ad7-4bce-80f1-2d659e86b7ec",
   "metadata": {},
   "outputs": [
    {
     "name": "stderr",
     "output_type": "stream",
     "text": [
      " 27%|█████████████████████████████████████████████▌                                                                                                                         | 6/22 [20:21<54:17, 203.62s/it]\n",
      "\n",
      "KeyboardInterrupt\n",
      "\n"
     ]
    }
   ],
   "source": [
    "mri = np.load(\"OASIS - Small Dataset/mri_train_test.npz\")\n",
    "img_oasis = mri[\"images\"]\n",
    "# The seed used was 10, but for the first dataset (i = 1) we used seed = 1\n",
    "# (the model was resulting in a constant prediction, possibily did not converge properly)\n",
    "run_bootstrap_distribution_oasis(\"geometric\", None, img_oasis, start_index = None, seed = 10)"
   ]
  },
  {
   "cell_type": "code",
   "execution_count": null,
   "id": "ac4bcbf7-dc9d-4ef3-bf04-164b1cc47313",
   "metadata": {},
   "outputs": [],
   "source": [
    "mri = np.load(\"OASIS - Small Dataset/mri_train_test.npz\")\n",
    "img_oasis = mri[\"images\"]\n",
    "run_bootstrap_distribution_oasis(\"bernoulli\", None, img_oasis, start_index = 1, seed = 1)"
   ]
  },
  {
   "cell_type": "code",
   "execution_count": null,
   "id": "3dd7235f-60d0-44a5-9d37-58b3458a4d21",
   "metadata": {},
   "outputs": [],
   "source": [
    "mri = np.load(\"OASIS - Small Dataset/mri_train_test.npz\")\n",
    "img_oasis = mri[\"images\"]\n",
    "run_bootstrap_distribution_oasis(\"logarithmic\", None, img_oasis, start_index = 1, seed = 1)"
   ]
  },
  {
   "cell_type": "code",
   "execution_count": 7,
   "id": "3e5f2ff6-fab6-4986-844e-dd9e2eab716a",
   "metadata": {},
   "outputs": [
    {
     "name": "stderr",
     "output_type": "stream",
     "text": [
      "100%|██████████████████████████████████████████████████████████████████████████████████████████████████████████████████████████████████████████████████████████████████| 100/100 [4:07:42<00:00, 148.63s/it]\n"
     ]
    }
   ],
   "source": [
    "mri = np.load(\"OASIS - Small Dataset/mri_train_test.npz\")\n",
    "img_oasis = mri[\"images\"]\n",
    "run_bootstrap_distribution_oasis(\"borel\", None, img_oasis, start_index = 1, seed = 10)"
   ]
  },
  {
   "cell_type": "code",
   "execution_count": 6,
   "id": "0945a8db-440b-4a8c-a751-49b910c55a83",
   "metadata": {},
   "outputs": [
    {
     "name": "stderr",
     "output_type": "stream",
     "text": [
      "I0000 00:00:1742175268.109259 1433195 gpu_device.cc:2022] Created device /job:localhost/replica:0/task:0/device:GPU:0 with 4118 MB memory:  -> device: 0, name: NVIDIA GeForce RTX 3050 6GB Laptop GPU, pci bus id: 0000:01:00.0, compute capability: 8.6\n",
      "100%|██████████████████████████████████████████████████████████████████████████████████████████████████████████████████████████████████████████████████████████████████| 100/100 [4:17:06<00:00, 154.27s/it]\n"
     ]
    }
   ],
   "source": [
    "mri = np.load(\"OASIS - Small Dataset/mri_train_test.npz\")\n",
    "img_oasis = mri[\"images\"]\n",
    "run_bootstrap_distribution_oasis(\"haight\", None, img_oasis, start_index = 1, seed = 10)"
   ]
  }
 ],
 "metadata": {
  "kernelspec": {
   "display_name": "Python 3 (ipykernel)",
   "language": "python",
   "name": "python3"
  },
  "language_info": {
   "codemirror_mode": {
    "name": "ipython",
    "version": 3
   },
   "file_extension": ".py",
   "mimetype": "text/x-python",
   "name": "python",
   "nbconvert_exporter": "python",
   "pygments_lexer": "ipython3",
   "version": "3.10.16"
  }
 },
 "nbformat": 4,
 "nbformat_minor": 5
}
